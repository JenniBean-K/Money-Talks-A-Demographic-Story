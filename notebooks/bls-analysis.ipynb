{
 "cells": [
  {
   "cell_type": "code",
   "execution_count": 39,
   "metadata": {},
   "outputs": [],
   "source": [
    "\n",
    "import pandas as pd\n",
    "import plotly.express as px\n",
    "import plotly.graph_objs as go\n",
    "import plotly.io as pio\n",
    "import sqlite3\n",
    "import numpy as np\n",
    "import json\n",
    "import os"
   ]
  },
  {
   "cell_type": "code",
   "execution_count": 6,
   "metadata": {},
   "outputs": [],
   "source": [
    "conn = sqlite3.connect(\"/Users/joeportnoy/Desktop/repos/Money-Talks-A-Demographic-Story/outputs/bls_wage_data.db\")\n"
   ]
  },
  {
   "cell_type": "code",
   "execution_count": 7,
   "metadata": {},
   "outputs": [
    {
     "name": "stdout",
     "output_type": "stream",
     "text": [
      "Available tables in the database:\n",
      "earnings\n"
     ]
    }
   ],
   "source": [
    "# Raw SQL to list tables\n",
    "cursor = conn.cursor()\n",
    "cursor.execute(\"SELECT name FROM sqlite_master WHERE type='table';\")\n",
    "table_names = cursor.fetchall()\n",
    "\n",
    "# Print the list of table names\n",
    "print(\"Available tables in the database:\")\n",
    "for name in table_names:\n",
    "    print(name[0])\n"
   ]
  },
  {
   "cell_type": "code",
   "execution_count": 8,
   "metadata": {},
   "outputs": [
    {
     "data": {
      "text/html": [
       "<div>\n",
       "<style scoped>\n",
       "    .dataframe tbody tr th:only-of-type {\n",
       "        vertical-align: middle;\n",
       "    }\n",
       "\n",
       "    .dataframe tbody tr th {\n",
       "        vertical-align: top;\n",
       "    }\n",
       "\n",
       "    .dataframe thead th {\n",
       "        text-align: right;\n",
       "    }\n",
       "</style>\n",
       "<table border=\"1\" class=\"dataframe\">\n",
       "  <thead>\n",
       "    <tr style=\"text-align: right;\">\n",
       "      <th></th>\n",
       "      <th>year</th>\n",
       "      <th>month</th>\n",
       "      <th>Sex</th>\n",
       "      <th>Marital_Status</th>\n",
       "      <th>Race</th>\n",
       "      <th>Native_Country</th>\n",
       "      <th>Industry</th>\n",
       "      <th>Occupation</th>\n",
       "      <th>Education_Enrollment</th>\n",
       "      <th>FT/PT_Enrollment</th>\n",
       "      <th>Education_Level_Attained</th>\n",
       "      <th>Household_Member_Status</th>\n",
       "      <th>Weekly_Earnings</th>\n",
       "      <th>Weekly_Earnings_Categories</th>\n",
       "      <th>PWSSWGT</th>\n",
       "    </tr>\n",
       "  </thead>\n",
       "  <tbody>\n",
       "    <tr>\n",
       "      <th>0</th>\n",
       "      <td>2014</td>\n",
       "      <td>jan</td>\n",
       "      <td>Male</td>\n",
       "      <td>Divorced</td>\n",
       "      <td>White only</td>\n",
       "      <td>United States</td>\n",
       "      <td>State government</td>\n",
       "      <td>Transportation and material moving occupations</td>\n",
       "      <td>None</td>\n",
       "      <td>None</td>\n",
       "      <td>Bachelor's degree</td>\n",
       "      <td>Adult civilian household member</td>\n",
       "      <td>1620.0</td>\n",
       "      <td>1500-1999</td>\n",
       "      <td>3561.0809</td>\n",
       "    </tr>\n",
       "    <tr>\n",
       "      <th>1</th>\n",
       "      <td>2014</td>\n",
       "      <td>jan</td>\n",
       "      <td>Female</td>\n",
       "      <td>Widowed</td>\n",
       "      <td>White only</td>\n",
       "      <td>United States</td>\n",
       "      <td>State government</td>\n",
       "      <td>Office and administrative support occupations</td>\n",
       "      <td>None</td>\n",
       "      <td>None</td>\n",
       "      <td>High school graduate</td>\n",
       "      <td>Adult civilian household member</td>\n",
       "      <td>162.0</td>\n",
       "      <td>&lt;250</td>\n",
       "      <td>3322.0487</td>\n",
       "    </tr>\n",
       "    <tr>\n",
       "      <th>2</th>\n",
       "      <td>2014</td>\n",
       "      <td>jan</td>\n",
       "      <td>Female</td>\n",
       "      <td>Never married</td>\n",
       "      <td>White only</td>\n",
       "      <td>United States</td>\n",
       "      <td>State government</td>\n",
       "      <td>Community and social service occupations</td>\n",
       "      <td>Enrolled</td>\n",
       "      <td>Full time</td>\n",
       "      <td>Master's degree</td>\n",
       "      <td>Adult civilian household member</td>\n",
       "      <td>384.0</td>\n",
       "      <td>250-499</td>\n",
       "      <td>2671.0752</td>\n",
       "    </tr>\n",
       "    <tr>\n",
       "      <th>3</th>\n",
       "      <td>2014</td>\n",
       "      <td>jan</td>\n",
       "      <td>Female</td>\n",
       "      <td>Never married</td>\n",
       "      <td>Asian only</td>\n",
       "      <td>Thailand</td>\n",
       "      <td>State government</td>\n",
       "      <td>Community and social service occupations</td>\n",
       "      <td>Enrolled</td>\n",
       "      <td>Full time</td>\n",
       "      <td>Master's degree</td>\n",
       "      <td>Adult civilian household member</td>\n",
       "      <td>320.0</td>\n",
       "      <td>250-499</td>\n",
       "      <td>3012.7100</td>\n",
       "    </tr>\n",
       "    <tr>\n",
       "      <th>4</th>\n",
       "      <td>2014</td>\n",
       "      <td>jan</td>\n",
       "      <td>Male</td>\n",
       "      <td>Married - spouse present</td>\n",
       "      <td>White only</td>\n",
       "      <td>El Salvador</td>\n",
       "      <td>State government</td>\n",
       "      <td>Transportation and material moving occupations</td>\n",
       "      <td>Not enrolled</td>\n",
       "      <td>None</td>\n",
       "      <td>High school graduate</td>\n",
       "      <td>Adult civilian household member</td>\n",
       "      <td>650.0</td>\n",
       "      <td>500-749</td>\n",
       "      <td>3598.1304</td>\n",
       "    </tr>\n",
       "  </tbody>\n",
       "</table>\n",
       "</div>"
      ],
      "text/plain": [
       "   year month     Sex            Marital_Status        Race Native_Country  \\\n",
       "0  2014   jan    Male                  Divorced  White only  United States   \n",
       "1  2014   jan  Female                   Widowed  White only  United States   \n",
       "2  2014   jan  Female             Never married  White only  United States   \n",
       "3  2014   jan  Female             Never married  Asian only       Thailand   \n",
       "4  2014   jan    Male  Married - spouse present  White only    El Salvador   \n",
       "\n",
       "           Industry                                      Occupation  \\\n",
       "0  State government  Transportation and material moving occupations   \n",
       "1  State government   Office and administrative support occupations   \n",
       "2  State government        Community and social service occupations   \n",
       "3  State government        Community and social service occupations   \n",
       "4  State government  Transportation and material moving occupations   \n",
       "\n",
       "  Education_Enrollment FT/PT_Enrollment Education_Level_Attained  \\\n",
       "0                 None             None        Bachelor's degree   \n",
       "1                 None             None     High school graduate   \n",
       "2             Enrolled        Full time          Master's degree   \n",
       "3             Enrolled        Full time          Master's degree   \n",
       "4         Not enrolled             None     High school graduate   \n",
       "\n",
       "           Household_Member_Status  Weekly_Earnings  \\\n",
       "0  Adult civilian household member           1620.0   \n",
       "1  Adult civilian household member            162.0   \n",
       "2  Adult civilian household member            384.0   \n",
       "3  Adult civilian household member            320.0   \n",
       "4  Adult civilian household member            650.0   \n",
       "\n",
       "  Weekly_Earnings_Categories    PWSSWGT  \n",
       "0                  1500-1999  3561.0809  \n",
       "1                       <250  3322.0487  \n",
       "2                    250-499  2671.0752  \n",
       "3                    250-499  3012.7100  \n",
       "4                    500-749  3598.1304  "
      ]
     },
     "execution_count": 8,
     "metadata": {},
     "output_type": "execute_result"
    }
   ],
   "source": [
    "df = pd.read_sql_query(\"SELECT * FROM earnings\", conn)\n",
    "df.head()\n",
    "\n"
   ]
  },
  {
   "cell_type": "code",
   "execution_count": null,
   "metadata": {},
   "outputs": [
    {
     "data": {
      "text/html": [
       "<div>\n",
       "<style scoped>\n",
       "    .dataframe tbody tr th:only-of-type {\n",
       "        vertical-align: middle;\n",
       "    }\n",
       "\n",
       "    .dataframe tbody tr th {\n",
       "        vertical-align: top;\n",
       "    }\n",
       "\n",
       "    .dataframe thead th {\n",
       "        text-align: right;\n",
       "    }\n",
       "</style>\n",
       "<table border=\"1\" class=\"dataframe\">\n",
       "  <thead>\n",
       "    <tr style=\"text-align: right;\">\n",
       "      <th></th>\n",
       "      <th>year</th>\n",
       "      <th>month</th>\n",
       "      <th>Sex</th>\n",
       "      <th>Marital_Status</th>\n",
       "      <th>Race</th>\n",
       "      <th>Native_Country</th>\n",
       "      <th>Industry</th>\n",
       "      <th>Occupation</th>\n",
       "      <th>Education_Enrollment</th>\n",
       "      <th>FT/PT_Enrollment</th>\n",
       "      <th>Education_Level_Attained</th>\n",
       "      <th>Household_Member_Status</th>\n",
       "      <th>Weekly_Earnings</th>\n",
       "      <th>Weekly_Earnings_Categories</th>\n",
       "      <th>PWSSWGT</th>\n",
       "    </tr>\n",
       "  </thead>\n",
       "  <tbody>\n",
       "    <tr>\n",
       "      <th>0</th>\n",
       "      <td>2014</td>\n",
       "      <td>jan</td>\n",
       "      <td>Male</td>\n",
       "      <td>Divorced</td>\n",
       "      <td>White only</td>\n",
       "      <td>United States</td>\n",
       "      <td>State government</td>\n",
       "      <td>Transportation and material moving occupations</td>\n",
       "      <td>None</td>\n",
       "      <td>None</td>\n",
       "      <td>Bachelor's degree</td>\n",
       "      <td>Adult civilian household member</td>\n",
       "      <td>1620.0</td>\n",
       "      <td>1500-1999</td>\n",
       "      <td>3561.0809</td>\n",
       "    </tr>\n",
       "    <tr>\n",
       "      <th>1</th>\n",
       "      <td>2014</td>\n",
       "      <td>jan</td>\n",
       "      <td>Female</td>\n",
       "      <td>Widowed</td>\n",
       "      <td>White only</td>\n",
       "      <td>United States</td>\n",
       "      <td>State government</td>\n",
       "      <td>Office and administrative support occupations</td>\n",
       "      <td>None</td>\n",
       "      <td>None</td>\n",
       "      <td>High school graduate</td>\n",
       "      <td>Adult civilian household member</td>\n",
       "      <td>162.0</td>\n",
       "      <td>&lt;250</td>\n",
       "      <td>3322.0487</td>\n",
       "    </tr>\n",
       "    <tr>\n",
       "      <th>2</th>\n",
       "      <td>2014</td>\n",
       "      <td>jan</td>\n",
       "      <td>Female</td>\n",
       "      <td>Never married</td>\n",
       "      <td>White only</td>\n",
       "      <td>United States</td>\n",
       "      <td>State government</td>\n",
       "      <td>Community and social service occupations</td>\n",
       "      <td>Enrolled</td>\n",
       "      <td>Full time</td>\n",
       "      <td>Master's degree</td>\n",
       "      <td>Adult civilian household member</td>\n",
       "      <td>384.0</td>\n",
       "      <td>250-499</td>\n",
       "      <td>2671.0752</td>\n",
       "    </tr>\n",
       "    <tr>\n",
       "      <th>3</th>\n",
       "      <td>2014</td>\n",
       "      <td>jan</td>\n",
       "      <td>Female</td>\n",
       "      <td>Never married</td>\n",
       "      <td>Asian only</td>\n",
       "      <td>Thailand</td>\n",
       "      <td>State government</td>\n",
       "      <td>Community and social service occupations</td>\n",
       "      <td>Enrolled</td>\n",
       "      <td>Full time</td>\n",
       "      <td>Master's degree</td>\n",
       "      <td>Adult civilian household member</td>\n",
       "      <td>320.0</td>\n",
       "      <td>250-499</td>\n",
       "      <td>3012.7100</td>\n",
       "    </tr>\n",
       "    <tr>\n",
       "      <th>4</th>\n",
       "      <td>2014</td>\n",
       "      <td>jan</td>\n",
       "      <td>Male</td>\n",
       "      <td>Married - spouse present</td>\n",
       "      <td>White only</td>\n",
       "      <td>El Salvador</td>\n",
       "      <td>State government</td>\n",
       "      <td>Transportation and material moving occupations</td>\n",
       "      <td>Not enrolled</td>\n",
       "      <td>None</td>\n",
       "      <td>High school graduate</td>\n",
       "      <td>Adult civilian household member</td>\n",
       "      <td>650.0</td>\n",
       "      <td>500-749</td>\n",
       "      <td>3598.1304</td>\n",
       "    </tr>\n",
       "  </tbody>\n",
       "</table>\n",
       "</div>"
      ],
      "text/plain": [
       "   year month     Sex            Marital_Status        Race Native_Country  \\\n",
       "0  2014   jan    Male                  Divorced  White only  United States   \n",
       "1  2014   jan  Female                   Widowed  White only  United States   \n",
       "2  2014   jan  Female             Never married  White only  United States   \n",
       "3  2014   jan  Female             Never married  Asian only       Thailand   \n",
       "4  2014   jan    Male  Married - spouse present  White only    El Salvador   \n",
       "\n",
       "           Industry                                      Occupation  \\\n",
       "0  State government  Transportation and material moving occupations   \n",
       "1  State government   Office and administrative support occupations   \n",
       "2  State government        Community and social service occupations   \n",
       "3  State government        Community and social service occupations   \n",
       "4  State government  Transportation and material moving occupations   \n",
       "\n",
       "  Education_Enrollment FT/PT_Enrollment Education_Level_Attained  \\\n",
       "0                 None             None        Bachelor's degree   \n",
       "1                 None             None     High school graduate   \n",
       "2             Enrolled        Full time          Master's degree   \n",
       "3             Enrolled        Full time          Master's degree   \n",
       "4         Not enrolled             None     High school graduate   \n",
       "\n",
       "           Household_Member_Status  Weekly_Earnings  \\\n",
       "0  Adult civilian household member           1620.0   \n",
       "1  Adult civilian household member            162.0   \n",
       "2  Adult civilian household member            384.0   \n",
       "3  Adult civilian household member            320.0   \n",
       "4  Adult civilian household member            650.0   \n",
       "\n",
       "  Weekly_Earnings_Categories    PWSSWGT  \n",
       "0                  1500-1999  3561.0809  \n",
       "1                       <250  3322.0487  \n",
       "2                    250-499  2671.0752  \n",
       "3                    250-499  3012.7100  \n",
       "4                    500-749  3598.1304  "
      ]
     },
     "execution_count": 9,
     "metadata": {},
     "output_type": "execute_result"
    }
   ],
   "source": [
    "# Strip whitespace from column names\n",
    "df.columns = df.columns.str.strip()\n",
    "\n",
    "# Replace empty strings with NaNs uniformly\n",
    "df.replace('', pd.NA, inplace=True)\n",
    "\n",
    "# Check for missing data\n",
    "df.isnull().sum()\n",
    "\n",
    "# Check for duplicates rows\n",
    "df.duplicated().sum()\n",
    "\n",
    "\n",
    "df.head()"
   ]
  },
  {
   "cell_type": "code",
   "execution_count": 10,
   "metadata": {},
   "outputs": [
    {
     "name": "stdout",
     "output_type": "stream",
     "text": [
      "['year', 'month', 'Sex', 'Marital_Status', 'Race', 'Native_Country', 'Industry', 'Occupation', 'Education_Enrollment', 'FT/PT_Enrollment', 'Education_Level_Attained', 'Household_Member_Status', 'Weekly_Earnings', 'Weekly_Earnings_Categories', 'PWSSWGT']\n"
     ]
    }
   ],
   "source": [
    "print(df.columns.tolist())\n"
   ]
  },
  {
   "cell_type": "code",
   "execution_count": 11,
   "metadata": {},
   "outputs": [
    {
     "data": {
      "text/html": [
       "<div>\n",
       "<style scoped>\n",
       "    .dataframe tbody tr th:only-of-type {\n",
       "        vertical-align: middle;\n",
       "    }\n",
       "\n",
       "    .dataframe tbody tr th {\n",
       "        vertical-align: top;\n",
       "    }\n",
       "\n",
       "    .dataframe thead th {\n",
       "        text-align: right;\n",
       "    }\n",
       "</style>\n",
       "<table border=\"1\" class=\"dataframe\">\n",
       "  <thead>\n",
       "    <tr style=\"text-align: right;\">\n",
       "      <th></th>\n",
       "      <th>year</th>\n",
       "      <th>month</th>\n",
       "      <th>Sex</th>\n",
       "      <th>Marital_Status</th>\n",
       "      <th>Race</th>\n",
       "      <th>Native_Country</th>\n",
       "      <th>Industry</th>\n",
       "      <th>Occupation</th>\n",
       "      <th>Education_Enrollment</th>\n",
       "      <th>FT/PT_Enrollment</th>\n",
       "      <th>Education_Level_Attained</th>\n",
       "      <th>Household_Member_Status</th>\n",
       "      <th>Weekly_Earnings</th>\n",
       "      <th>Weekly_Earnings_Categories</th>\n",
       "      <th>PWSSWGT</th>\n",
       "    </tr>\n",
       "  </thead>\n",
       "  <tbody>\n",
       "    <tr>\n",
       "      <th>0</th>\n",
       "      <td>2014</td>\n",
       "      <td>jan</td>\n",
       "      <td>Male</td>\n",
       "      <td>Divorced</td>\n",
       "      <td>White only</td>\n",
       "      <td>United States</td>\n",
       "      <td>State government</td>\n",
       "      <td>Transportation and material moving occupations</td>\n",
       "      <td>None</td>\n",
       "      <td>None</td>\n",
       "      <td>Bachelor's degree</td>\n",
       "      <td>Adult civilian household member</td>\n",
       "      <td>1620.0</td>\n",
       "      <td>1500-1999</td>\n",
       "      <td>3561.0809</td>\n",
       "    </tr>\n",
       "    <tr>\n",
       "      <th>1</th>\n",
       "      <td>2014</td>\n",
       "      <td>jan</td>\n",
       "      <td>Female</td>\n",
       "      <td>Widowed</td>\n",
       "      <td>White only</td>\n",
       "      <td>United States</td>\n",
       "      <td>State government</td>\n",
       "      <td>Office and administrative support occupations</td>\n",
       "      <td>None</td>\n",
       "      <td>None</td>\n",
       "      <td>High school graduate</td>\n",
       "      <td>Adult civilian household member</td>\n",
       "      <td>162.0</td>\n",
       "      <td>&lt;250</td>\n",
       "      <td>3322.0487</td>\n",
       "    </tr>\n",
       "    <tr>\n",
       "      <th>2</th>\n",
       "      <td>2014</td>\n",
       "      <td>jan</td>\n",
       "      <td>Female</td>\n",
       "      <td>Never married</td>\n",
       "      <td>White only</td>\n",
       "      <td>United States</td>\n",
       "      <td>State government</td>\n",
       "      <td>Community and social service occupations</td>\n",
       "      <td>Enrolled</td>\n",
       "      <td>Full time</td>\n",
       "      <td>Master's degree</td>\n",
       "      <td>Adult civilian household member</td>\n",
       "      <td>384.0</td>\n",
       "      <td>250-499</td>\n",
       "      <td>2671.0752</td>\n",
       "    </tr>\n",
       "    <tr>\n",
       "      <th>3</th>\n",
       "      <td>2014</td>\n",
       "      <td>jan</td>\n",
       "      <td>Female</td>\n",
       "      <td>Never married</td>\n",
       "      <td>Asian only</td>\n",
       "      <td>Thailand</td>\n",
       "      <td>State government</td>\n",
       "      <td>Community and social service occupations</td>\n",
       "      <td>Enrolled</td>\n",
       "      <td>Full time</td>\n",
       "      <td>Master's degree</td>\n",
       "      <td>Adult civilian household member</td>\n",
       "      <td>320.0</td>\n",
       "      <td>250-499</td>\n",
       "      <td>3012.7100</td>\n",
       "    </tr>\n",
       "    <tr>\n",
       "      <th>4</th>\n",
       "      <td>2014</td>\n",
       "      <td>jan</td>\n",
       "      <td>Male</td>\n",
       "      <td>Married - spouse present</td>\n",
       "      <td>White only</td>\n",
       "      <td>El Salvador</td>\n",
       "      <td>State government</td>\n",
       "      <td>Transportation and material moving occupations</td>\n",
       "      <td>Not enrolled</td>\n",
       "      <td>None</td>\n",
       "      <td>High school graduate</td>\n",
       "      <td>Adult civilian household member</td>\n",
       "      <td>650.0</td>\n",
       "      <td>500-749</td>\n",
       "      <td>3598.1304</td>\n",
       "    </tr>\n",
       "  </tbody>\n",
       "</table>\n",
       "</div>"
      ],
      "text/plain": [
       "   year month     Sex            Marital_Status        Race Native_Country  \\\n",
       "0  2014   jan    Male                  Divorced  White only  United States   \n",
       "1  2014   jan  Female                   Widowed  White only  United States   \n",
       "2  2014   jan  Female             Never married  White only  United States   \n",
       "3  2014   jan  Female             Never married  Asian only       Thailand   \n",
       "4  2014   jan    Male  Married - spouse present  White only    El Salvador   \n",
       "\n",
       "           Industry                                      Occupation  \\\n",
       "0  State government  Transportation and material moving occupations   \n",
       "1  State government   Office and administrative support occupations   \n",
       "2  State government        Community and social service occupations   \n",
       "3  State government        Community and social service occupations   \n",
       "4  State government  Transportation and material moving occupations   \n",
       "\n",
       "  Education_Enrollment FT/PT_Enrollment Education_Level_Attained  \\\n",
       "0                 None             None        Bachelor's degree   \n",
       "1                 None             None     High school graduate   \n",
       "2             Enrolled        Full time          Master's degree   \n",
       "3             Enrolled        Full time          Master's degree   \n",
       "4         Not enrolled             None     High school graduate   \n",
       "\n",
       "           Household_Member_Status  Weekly_Earnings  \\\n",
       "0  Adult civilian household member           1620.0   \n",
       "1  Adult civilian household member            162.0   \n",
       "2  Adult civilian household member            384.0   \n",
       "3  Adult civilian household member            320.0   \n",
       "4  Adult civilian household member            650.0   \n",
       "\n",
       "  Weekly_Earnings_Categories    PWSSWGT  \n",
       "0                  1500-1999  3561.0809  \n",
       "1                       <250  3322.0487  \n",
       "2                    250-499  2671.0752  \n",
       "3                    250-499  3012.7100  \n",
       "4                    500-749  3598.1304  "
      ]
     },
     "execution_count": 11,
     "metadata": {},
     "output_type": "execute_result"
    }
   ],
   "source": [
    "\n",
    "# Convert earnings to numeric\n",
    "df['Weekly_Earnings'] = pd.to_numeric(df['Weekly_Earnings'], errors='coerce')\n",
    "\n",
    "\n",
    "# Display the first few rows\n",
    "df.head()\n"
   ]
  },
  {
   "cell_type": "code",
   "execution_count": 12,
   "metadata": {},
   "outputs": [
    {
     "name": "stdout",
     "output_type": "stream",
     "text": [
      "Weighted Avg Weekly Salary (Women): $919.77\n",
      "Weighted Avg Weekly Salary (Men): $1198.62\n",
      "Weighted Avg Weekly Salary (All): $1064.30\n"
     ]
    }
   ],
   "source": [
    "\n",
    "\n",
    "# Filter for women\n",
    "women_df = df[df['Sex'].str.lower() == 'female']\n",
    "\n",
    "# Weighted average for women\n",
    "weighted_salary_women = (women_df['Weekly_Earnings'] * women_df['PWSSWGT']).sum() / women_df['PWSSWGT'].sum()\n",
    "\n",
    "# Filter for men\n",
    "men_df = df[df['Sex'].str.lower() == 'male']\n",
    "\n",
    "# Weighted average for men\n",
    "weighted_salary_men = (men_df['Weekly_Earnings'] * men_df['PWSSWGT']).sum() / men_df['PWSSWGT'].sum()\n",
    "\n",
    "# Overall weighted salary\n",
    "weighted_salary_all = (df['Weekly_Earnings'] * df['PWSSWGT']).sum() / df['PWSSWGT'].sum()\n",
    "\n",
    "# Display\n",
    "print(f\"Weighted Avg Weekly Salary (Women): ${weighted_salary_women:.2f}\")\n",
    "print(f\"Weighted Avg Weekly Salary (Men): ${weighted_salary_men:.2f}\")\n",
    "print(f\"Weighted Avg Weekly Salary (All): ${weighted_salary_all:.2f}\")\n",
    "\n"
   ]
  },
  {
   "cell_type": "code",
   "execution_count": 13,
   "metadata": {},
   "outputs": [
    {
     "name": "stdout",
     "output_type": "stream",
     "text": [
      "Men earn $278.85 more than women per week on average (weighted).\n"
     ]
    }
   ],
   "source": [
    "# Difference: men - women\n",
    "gender_pay_gap = weighted_salary_men - weighted_salary_women\n",
    "\n",
    "# Display it nicely\n",
    "print(f\"Men earn ${gender_pay_gap:.2f} more than women per week on average (weighted).\")\n"
   ]
  },
  {
   "cell_type": "code",
   "execution_count": 14,
   "metadata": {},
   "outputs": [
    {
     "name": "stdout",
     "output_type": "stream",
     "text": [
      "That's a 30.32% pay gap in favor of men.\n"
     ]
    }
   ],
   "source": [
    "percent_gap = (gender_pay_gap / weighted_salary_women) * 100\n",
    "\n",
    "print(f\"That's a {percent_gap:.2f}% pay gap in favor of men.\")\n"
   ]
  },
  {
   "cell_type": "code",
   "execution_count": 15,
   "metadata": {},
   "outputs": [
    {
     "data": {
      "text/html": [
       "<div>\n",
       "<style scoped>\n",
       "    .dataframe tbody tr th:only-of-type {\n",
       "        vertical-align: middle;\n",
       "    }\n",
       "\n",
       "    .dataframe tbody tr th {\n",
       "        vertical-align: top;\n",
       "    }\n",
       "\n",
       "    .dataframe thead th {\n",
       "        text-align: right;\n",
       "    }\n",
       "</style>\n",
       "<table border=\"1\" class=\"dataframe\">\n",
       "  <thead>\n",
       "    <tr style=\"text-align: right;\">\n",
       "      <th></th>\n",
       "      <th>year</th>\n",
       "      <th>month</th>\n",
       "      <th>Sex</th>\n",
       "      <th>Marital_Status</th>\n",
       "      <th>Race</th>\n",
       "      <th>Native_Country</th>\n",
       "      <th>Industry</th>\n",
       "      <th>Occupation</th>\n",
       "      <th>Education_Enrollment</th>\n",
       "      <th>FT/PT_Enrollment</th>\n",
       "      <th>Education_Level_Attained</th>\n",
       "      <th>Household_Member_Status</th>\n",
       "      <th>Weekly_Earnings</th>\n",
       "      <th>Weekly_Earnings_Categories</th>\n",
       "      <th>PWSSWGT</th>\n",
       "    </tr>\n",
       "  </thead>\n",
       "  <tbody>\n",
       "    <tr>\n",
       "      <th>0</th>\n",
       "      <td>2014</td>\n",
       "      <td>jan</td>\n",
       "      <td>Male</td>\n",
       "      <td>Divorced</td>\n",
       "      <td>White only</td>\n",
       "      <td>United States</td>\n",
       "      <td>State government</td>\n",
       "      <td>Transportation and material moving occupations</td>\n",
       "      <td>None</td>\n",
       "      <td>None</td>\n",
       "      <td>Bachelor's degree</td>\n",
       "      <td>Adult civilian household member</td>\n",
       "      <td>1620.0</td>\n",
       "      <td>1500-1999</td>\n",
       "      <td>3561.0809</td>\n",
       "    </tr>\n",
       "    <tr>\n",
       "      <th>1</th>\n",
       "      <td>2014</td>\n",
       "      <td>jan</td>\n",
       "      <td>Female</td>\n",
       "      <td>Widowed</td>\n",
       "      <td>White only</td>\n",
       "      <td>United States</td>\n",
       "      <td>State government</td>\n",
       "      <td>Office and administrative support occupations</td>\n",
       "      <td>None</td>\n",
       "      <td>None</td>\n",
       "      <td>High school graduate</td>\n",
       "      <td>Adult civilian household member</td>\n",
       "      <td>162.0</td>\n",
       "      <td>&lt;250</td>\n",
       "      <td>3322.0487</td>\n",
       "    </tr>\n",
       "    <tr>\n",
       "      <th>2</th>\n",
       "      <td>2014</td>\n",
       "      <td>jan</td>\n",
       "      <td>Female</td>\n",
       "      <td>Never married</td>\n",
       "      <td>White only</td>\n",
       "      <td>United States</td>\n",
       "      <td>State government</td>\n",
       "      <td>Community and social service occupations</td>\n",
       "      <td>Enrolled</td>\n",
       "      <td>Full time</td>\n",
       "      <td>Master's degree</td>\n",
       "      <td>Adult civilian household member</td>\n",
       "      <td>384.0</td>\n",
       "      <td>250-499</td>\n",
       "      <td>2671.0752</td>\n",
       "    </tr>\n",
       "    <tr>\n",
       "      <th>3</th>\n",
       "      <td>2014</td>\n",
       "      <td>jan</td>\n",
       "      <td>Female</td>\n",
       "      <td>Never married</td>\n",
       "      <td>Asian only</td>\n",
       "      <td>Thailand</td>\n",
       "      <td>State government</td>\n",
       "      <td>Community and social service occupations</td>\n",
       "      <td>Enrolled</td>\n",
       "      <td>Full time</td>\n",
       "      <td>Master's degree</td>\n",
       "      <td>Adult civilian household member</td>\n",
       "      <td>320.0</td>\n",
       "      <td>250-499</td>\n",
       "      <td>3012.7100</td>\n",
       "    </tr>\n",
       "    <tr>\n",
       "      <th>4</th>\n",
       "      <td>2014</td>\n",
       "      <td>jan</td>\n",
       "      <td>Male</td>\n",
       "      <td>Married - spouse present</td>\n",
       "      <td>White only</td>\n",
       "      <td>El Salvador</td>\n",
       "      <td>State government</td>\n",
       "      <td>Transportation and material moving occupations</td>\n",
       "      <td>Not enrolled</td>\n",
       "      <td>None</td>\n",
       "      <td>High school graduate</td>\n",
       "      <td>Adult civilian household member</td>\n",
       "      <td>650.0</td>\n",
       "      <td>500-749</td>\n",
       "      <td>3598.1304</td>\n",
       "    </tr>\n",
       "    <tr>\n",
       "      <th>...</th>\n",
       "      <td>...</td>\n",
       "      <td>...</td>\n",
       "      <td>...</td>\n",
       "      <td>...</td>\n",
       "      <td>...</td>\n",
       "      <td>...</td>\n",
       "      <td>...</td>\n",
       "      <td>...</td>\n",
       "      <td>...</td>\n",
       "      <td>...</td>\n",
       "      <td>...</td>\n",
       "      <td>...</td>\n",
       "      <td>...</td>\n",
       "      <td>...</td>\n",
       "      <td>...</td>\n",
       "    </tr>\n",
       "    <tr>\n",
       "      <th>1659201</th>\n",
       "      <td>2025</td>\n",
       "      <td>mar</td>\n",
       "      <td>Male</td>\n",
       "      <td>Married - spouse present</td>\n",
       "      <td>White only</td>\n",
       "      <td>United States</td>\n",
       "      <td>State government</td>\n",
       "      <td>Building and grounds cleaning and maintenance ...</td>\n",
       "      <td>Not enrolled</td>\n",
       "      <td>None</td>\n",
       "      <td>Associate degree - occupational</td>\n",
       "      <td>Adult civilian household member</td>\n",
       "      <td>2880.0</td>\n",
       "      <td>2000+</td>\n",
       "      <td>602.3902</td>\n",
       "    </tr>\n",
       "    <tr>\n",
       "      <th>1659202</th>\n",
       "      <td>2025</td>\n",
       "      <td>mar</td>\n",
       "      <td>Female</td>\n",
       "      <td>Married - spouse present</td>\n",
       "      <td>White only</td>\n",
       "      <td>United States</td>\n",
       "      <td>Federal government</td>\n",
       "      <td>Healthcare practitioner and technical occupations</td>\n",
       "      <td>None</td>\n",
       "      <td>None</td>\n",
       "      <td>Master's degree</td>\n",
       "      <td>Adult civilian household member</td>\n",
       "      <td>3080.0</td>\n",
       "      <td>2000+</td>\n",
       "      <td>4064.6185</td>\n",
       "    </tr>\n",
       "    <tr>\n",
       "      <th>1659203</th>\n",
       "      <td>2025</td>\n",
       "      <td>mar</td>\n",
       "      <td>Male</td>\n",
       "      <td>Never married</td>\n",
       "      <td>White only</td>\n",
       "      <td>Guatemala</td>\n",
       "      <td>State government</td>\n",
       "      <td>Production occupations</td>\n",
       "      <td>Enrolled</td>\n",
       "      <td>Full time</td>\n",
       "      <td>11th grade</td>\n",
       "      <td>Adult civilian household member</td>\n",
       "      <td>72.0</td>\n",
       "      <td>&lt;250</td>\n",
       "      <td>5009.6817</td>\n",
       "    </tr>\n",
       "    <tr>\n",
       "      <th>1659204</th>\n",
       "      <td>2025</td>\n",
       "      <td>mar</td>\n",
       "      <td>Male</td>\n",
       "      <td>Married - spouse present</td>\n",
       "      <td>Black only</td>\n",
       "      <td>United States</td>\n",
       "      <td>State government</td>\n",
       "      <td>Transportation and material moving occupations</td>\n",
       "      <td>Not enrolled</td>\n",
       "      <td>None</td>\n",
       "      <td>High school graduate</td>\n",
       "      <td>Adult civilian household member</td>\n",
       "      <td>674.0</td>\n",
       "      <td>500-749</td>\n",
       "      <td>3058.1813</td>\n",
       "    </tr>\n",
       "    <tr>\n",
       "      <th>1659205</th>\n",
       "      <td>2025</td>\n",
       "      <td>mar</td>\n",
       "      <td>Female</td>\n",
       "      <td>Married - spouse present</td>\n",
       "      <td>Black only</td>\n",
       "      <td>United States</td>\n",
       "      <td>State government</td>\n",
       "      <td>Business and financial operations occupations</td>\n",
       "      <td>Not enrolled</td>\n",
       "      <td>None</td>\n",
       "      <td>Some college, no degree</td>\n",
       "      <td>Adult civilian household member</td>\n",
       "      <td>962.0</td>\n",
       "      <td>750-999</td>\n",
       "      <td>5441.8490</td>\n",
       "    </tr>\n",
       "  </tbody>\n",
       "</table>\n",
       "<p>1659206 rows × 15 columns</p>\n",
       "</div>"
      ],
      "text/plain": [
       "         year month     Sex            Marital_Status        Race  \\\n",
       "0        2014   jan    Male                  Divorced  White only   \n",
       "1        2014   jan  Female                   Widowed  White only   \n",
       "2        2014   jan  Female             Never married  White only   \n",
       "3        2014   jan  Female             Never married  Asian only   \n",
       "4        2014   jan    Male  Married - spouse present  White only   \n",
       "...       ...   ...     ...                       ...         ...   \n",
       "1659201  2025   mar    Male  Married - spouse present  White only   \n",
       "1659202  2025   mar  Female  Married - spouse present  White only   \n",
       "1659203  2025   mar    Male             Never married  White only   \n",
       "1659204  2025   mar    Male  Married - spouse present  Black only   \n",
       "1659205  2025   mar  Female  Married - spouse present  Black only   \n",
       "\n",
       "        Native_Country            Industry  \\\n",
       "0        United States    State government   \n",
       "1        United States    State government   \n",
       "2        United States    State government   \n",
       "3             Thailand    State government   \n",
       "4          El Salvador    State government   \n",
       "...                ...                 ...   \n",
       "1659201  United States    State government   \n",
       "1659202  United States  Federal government   \n",
       "1659203      Guatemala    State government   \n",
       "1659204  United States    State government   \n",
       "1659205  United States    State government   \n",
       "\n",
       "                                                Occupation  \\\n",
       "0           Transportation and material moving occupations   \n",
       "1            Office and administrative support occupations   \n",
       "2                 Community and social service occupations   \n",
       "3                 Community and social service occupations   \n",
       "4           Transportation and material moving occupations   \n",
       "...                                                    ...   \n",
       "1659201  Building and grounds cleaning and maintenance ...   \n",
       "1659202  Healthcare practitioner and technical occupations   \n",
       "1659203                             Production occupations   \n",
       "1659204     Transportation and material moving occupations   \n",
       "1659205      Business and financial operations occupations   \n",
       "\n",
       "        Education_Enrollment FT/PT_Enrollment  \\\n",
       "0                       None             None   \n",
       "1                       None             None   \n",
       "2                   Enrolled        Full time   \n",
       "3                   Enrolled        Full time   \n",
       "4               Not enrolled             None   \n",
       "...                      ...              ...   \n",
       "1659201         Not enrolled             None   \n",
       "1659202                 None             None   \n",
       "1659203             Enrolled        Full time   \n",
       "1659204         Not enrolled             None   \n",
       "1659205         Not enrolled             None   \n",
       "\n",
       "                Education_Level_Attained          Household_Member_Status  \\\n",
       "0                      Bachelor's degree  Adult civilian household member   \n",
       "1                   High school graduate  Adult civilian household member   \n",
       "2                        Master's degree  Adult civilian household member   \n",
       "3                        Master's degree  Adult civilian household member   \n",
       "4                   High school graduate  Adult civilian household member   \n",
       "...                                  ...                              ...   \n",
       "1659201  Associate degree - occupational  Adult civilian household member   \n",
       "1659202                  Master's degree  Adult civilian household member   \n",
       "1659203                       11th grade  Adult civilian household member   \n",
       "1659204             High school graduate  Adult civilian household member   \n",
       "1659205          Some college, no degree  Adult civilian household member   \n",
       "\n",
       "         Weekly_Earnings Weekly_Earnings_Categories    PWSSWGT  \n",
       "0                 1620.0                  1500-1999  3561.0809  \n",
       "1                  162.0                       <250  3322.0487  \n",
       "2                  384.0                    250-499  2671.0752  \n",
       "3                  320.0                    250-499  3012.7100  \n",
       "4                  650.0                    500-749  3598.1304  \n",
       "...                  ...                        ...        ...  \n",
       "1659201           2880.0                      2000+   602.3902  \n",
       "1659202           3080.0                      2000+  4064.6185  \n",
       "1659203             72.0                       <250  5009.6817  \n",
       "1659204            674.0                    500-749  3058.1813  \n",
       "1659205            962.0                    750-999  5441.8490  \n",
       "\n",
       "[1659206 rows x 15 columns]"
      ]
     },
     "execution_count": 15,
     "metadata": {},
     "output_type": "execute_result"
    }
   ],
   "source": [
    "# Group by gender and calculate statistics on Weekly_Earnings\n",
    "gender_stats = df.groupby('Sex')['Weekly_Earnings'].agg([\n",
    "    'mean', \n",
    "    'median', \n",
    "    lambda x: x.mode().iloc[0] if not x.mode().empty else pd.NA\n",
    "])\n",
    "\n",
    "gender_stats.columns = ['Mean', 'Median', 'Mode']\n",
    "\n",
    "df"
   ]
  },
  {
   "cell_type": "code",
   "execution_count": 16,
   "metadata": {},
   "outputs": [
    {
     "data": {
      "text/html": [
       "<div>\n",
       "<style scoped>\n",
       "    .dataframe tbody tr th:only-of-type {\n",
       "        vertical-align: middle;\n",
       "    }\n",
       "\n",
       "    .dataframe tbody tr th {\n",
       "        vertical-align: top;\n",
       "    }\n",
       "\n",
       "    .dataframe thead th {\n",
       "        text-align: right;\n",
       "    }\n",
       "</style>\n",
       "<table border=\"1\" class=\"dataframe\">\n",
       "  <thead>\n",
       "    <tr style=\"text-align: right;\">\n",
       "      <th></th>\n",
       "      <th>year</th>\n",
       "      <th>month</th>\n",
       "      <th>Sex</th>\n",
       "      <th>Marital_Status</th>\n",
       "      <th>Race</th>\n",
       "      <th>Native_Country</th>\n",
       "      <th>Industry</th>\n",
       "      <th>Occupation</th>\n",
       "      <th>Education_Enrollment</th>\n",
       "      <th>FT/PT_Enrollment</th>\n",
       "      <th>Education_Level_Attained</th>\n",
       "      <th>Household_Member_Status</th>\n",
       "      <th>Weekly_Earnings</th>\n",
       "      <th>Weekly_Earnings_Categories</th>\n",
       "      <th>PWSSWGT</th>\n",
       "    </tr>\n",
       "  </thead>\n",
       "  <tbody>\n",
       "    <tr>\n",
       "      <th>0</th>\n",
       "      <td>2014</td>\n",
       "      <td>jan</td>\n",
       "      <td>Male</td>\n",
       "      <td>Divorced</td>\n",
       "      <td>White only</td>\n",
       "      <td>United States</td>\n",
       "      <td>State government</td>\n",
       "      <td>Transportation and material moving occupations</td>\n",
       "      <td>None</td>\n",
       "      <td>None</td>\n",
       "      <td>Bachelor's degree</td>\n",
       "      <td>Adult civilian household member</td>\n",
       "      <td>1620.0</td>\n",
       "      <td>1500-1999</td>\n",
       "      <td>3561.0809</td>\n",
       "    </tr>\n",
       "    <tr>\n",
       "      <th>1</th>\n",
       "      <td>2014</td>\n",
       "      <td>jan</td>\n",
       "      <td>Female</td>\n",
       "      <td>Widowed</td>\n",
       "      <td>White only</td>\n",
       "      <td>United States</td>\n",
       "      <td>State government</td>\n",
       "      <td>Office and administrative support occupations</td>\n",
       "      <td>None</td>\n",
       "      <td>None</td>\n",
       "      <td>High school graduate</td>\n",
       "      <td>Adult civilian household member</td>\n",
       "      <td>162.0</td>\n",
       "      <td>&lt;250</td>\n",
       "      <td>3322.0487</td>\n",
       "    </tr>\n",
       "    <tr>\n",
       "      <th>2</th>\n",
       "      <td>2014</td>\n",
       "      <td>jan</td>\n",
       "      <td>Female</td>\n",
       "      <td>Never married</td>\n",
       "      <td>White only</td>\n",
       "      <td>United States</td>\n",
       "      <td>State government</td>\n",
       "      <td>Community and social service occupations</td>\n",
       "      <td>Enrolled</td>\n",
       "      <td>Full time</td>\n",
       "      <td>Master's degree</td>\n",
       "      <td>Adult civilian household member</td>\n",
       "      <td>384.0</td>\n",
       "      <td>250-499</td>\n",
       "      <td>2671.0752</td>\n",
       "    </tr>\n",
       "    <tr>\n",
       "      <th>3</th>\n",
       "      <td>2014</td>\n",
       "      <td>jan</td>\n",
       "      <td>Female</td>\n",
       "      <td>Never married</td>\n",
       "      <td>Asian only</td>\n",
       "      <td>Thailand</td>\n",
       "      <td>State government</td>\n",
       "      <td>Community and social service occupations</td>\n",
       "      <td>Enrolled</td>\n",
       "      <td>Full time</td>\n",
       "      <td>Master's degree</td>\n",
       "      <td>Adult civilian household member</td>\n",
       "      <td>320.0</td>\n",
       "      <td>250-499</td>\n",
       "      <td>3012.7100</td>\n",
       "    </tr>\n",
       "    <tr>\n",
       "      <th>4</th>\n",
       "      <td>2014</td>\n",
       "      <td>jan</td>\n",
       "      <td>Male</td>\n",
       "      <td>Married - spouse present</td>\n",
       "      <td>White only</td>\n",
       "      <td>El Salvador</td>\n",
       "      <td>State government</td>\n",
       "      <td>Transportation and material moving occupations</td>\n",
       "      <td>Not enrolled</td>\n",
       "      <td>None</td>\n",
       "      <td>High school graduate</td>\n",
       "      <td>Adult civilian household member</td>\n",
       "      <td>650.0</td>\n",
       "      <td>500-749</td>\n",
       "      <td>3598.1304</td>\n",
       "    </tr>\n",
       "    <tr>\n",
       "      <th>...</th>\n",
       "      <td>...</td>\n",
       "      <td>...</td>\n",
       "      <td>...</td>\n",
       "      <td>...</td>\n",
       "      <td>...</td>\n",
       "      <td>...</td>\n",
       "      <td>...</td>\n",
       "      <td>...</td>\n",
       "      <td>...</td>\n",
       "      <td>...</td>\n",
       "      <td>...</td>\n",
       "      <td>...</td>\n",
       "      <td>...</td>\n",
       "      <td>...</td>\n",
       "      <td>...</td>\n",
       "    </tr>\n",
       "    <tr>\n",
       "      <th>1659201</th>\n",
       "      <td>2025</td>\n",
       "      <td>mar</td>\n",
       "      <td>Male</td>\n",
       "      <td>Married - spouse present</td>\n",
       "      <td>White only</td>\n",
       "      <td>United States</td>\n",
       "      <td>State government</td>\n",
       "      <td>Building and grounds cleaning and maintenance ...</td>\n",
       "      <td>Not enrolled</td>\n",
       "      <td>None</td>\n",
       "      <td>Associate degree - occupational</td>\n",
       "      <td>Adult civilian household member</td>\n",
       "      <td>2880.0</td>\n",
       "      <td>2000+</td>\n",
       "      <td>602.3902</td>\n",
       "    </tr>\n",
       "    <tr>\n",
       "      <th>1659202</th>\n",
       "      <td>2025</td>\n",
       "      <td>mar</td>\n",
       "      <td>Female</td>\n",
       "      <td>Married - spouse present</td>\n",
       "      <td>White only</td>\n",
       "      <td>United States</td>\n",
       "      <td>Federal government</td>\n",
       "      <td>Healthcare practitioner and technical occupations</td>\n",
       "      <td>None</td>\n",
       "      <td>None</td>\n",
       "      <td>Master's degree</td>\n",
       "      <td>Adult civilian household member</td>\n",
       "      <td>3080.0</td>\n",
       "      <td>2000+</td>\n",
       "      <td>4064.6185</td>\n",
       "    </tr>\n",
       "    <tr>\n",
       "      <th>1659203</th>\n",
       "      <td>2025</td>\n",
       "      <td>mar</td>\n",
       "      <td>Male</td>\n",
       "      <td>Never married</td>\n",
       "      <td>White only</td>\n",
       "      <td>Guatemala</td>\n",
       "      <td>State government</td>\n",
       "      <td>Production occupations</td>\n",
       "      <td>Enrolled</td>\n",
       "      <td>Full time</td>\n",
       "      <td>11th grade</td>\n",
       "      <td>Adult civilian household member</td>\n",
       "      <td>72.0</td>\n",
       "      <td>&lt;250</td>\n",
       "      <td>5009.6817</td>\n",
       "    </tr>\n",
       "    <tr>\n",
       "      <th>1659204</th>\n",
       "      <td>2025</td>\n",
       "      <td>mar</td>\n",
       "      <td>Male</td>\n",
       "      <td>Married - spouse present</td>\n",
       "      <td>Black only</td>\n",
       "      <td>United States</td>\n",
       "      <td>State government</td>\n",
       "      <td>Transportation and material moving occupations</td>\n",
       "      <td>Not enrolled</td>\n",
       "      <td>None</td>\n",
       "      <td>High school graduate</td>\n",
       "      <td>Adult civilian household member</td>\n",
       "      <td>674.0</td>\n",
       "      <td>500-749</td>\n",
       "      <td>3058.1813</td>\n",
       "    </tr>\n",
       "    <tr>\n",
       "      <th>1659205</th>\n",
       "      <td>2025</td>\n",
       "      <td>mar</td>\n",
       "      <td>Female</td>\n",
       "      <td>Married - spouse present</td>\n",
       "      <td>Black only</td>\n",
       "      <td>United States</td>\n",
       "      <td>State government</td>\n",
       "      <td>Business and financial operations occupations</td>\n",
       "      <td>Not enrolled</td>\n",
       "      <td>None</td>\n",
       "      <td>Some college, no degree</td>\n",
       "      <td>Adult civilian household member</td>\n",
       "      <td>962.0</td>\n",
       "      <td>750-999</td>\n",
       "      <td>5441.8490</td>\n",
       "    </tr>\n",
       "  </tbody>\n",
       "</table>\n",
       "<p>1659206 rows × 15 columns</p>\n",
       "</div>"
      ],
      "text/plain": [
       "         year month     Sex            Marital_Status        Race  \\\n",
       "0        2014   jan    Male                  Divorced  White only   \n",
       "1        2014   jan  Female                   Widowed  White only   \n",
       "2        2014   jan  Female             Never married  White only   \n",
       "3        2014   jan  Female             Never married  Asian only   \n",
       "4        2014   jan    Male  Married - spouse present  White only   \n",
       "...       ...   ...     ...                       ...         ...   \n",
       "1659201  2025   mar    Male  Married - spouse present  White only   \n",
       "1659202  2025   mar  Female  Married - spouse present  White only   \n",
       "1659203  2025   mar    Male             Never married  White only   \n",
       "1659204  2025   mar    Male  Married - spouse present  Black only   \n",
       "1659205  2025   mar  Female  Married - spouse present  Black only   \n",
       "\n",
       "        Native_Country            Industry  \\\n",
       "0        United States    State government   \n",
       "1        United States    State government   \n",
       "2        United States    State government   \n",
       "3             Thailand    State government   \n",
       "4          El Salvador    State government   \n",
       "...                ...                 ...   \n",
       "1659201  United States    State government   \n",
       "1659202  United States  Federal government   \n",
       "1659203      Guatemala    State government   \n",
       "1659204  United States    State government   \n",
       "1659205  United States    State government   \n",
       "\n",
       "                                                Occupation  \\\n",
       "0           Transportation and material moving occupations   \n",
       "1            Office and administrative support occupations   \n",
       "2                 Community and social service occupations   \n",
       "3                 Community and social service occupations   \n",
       "4           Transportation and material moving occupations   \n",
       "...                                                    ...   \n",
       "1659201  Building and grounds cleaning and maintenance ...   \n",
       "1659202  Healthcare practitioner and technical occupations   \n",
       "1659203                             Production occupations   \n",
       "1659204     Transportation and material moving occupations   \n",
       "1659205      Business and financial operations occupations   \n",
       "\n",
       "        Education_Enrollment FT/PT_Enrollment  \\\n",
       "0                       None             None   \n",
       "1                       None             None   \n",
       "2                   Enrolled        Full time   \n",
       "3                   Enrolled        Full time   \n",
       "4               Not enrolled             None   \n",
       "...                      ...              ...   \n",
       "1659201         Not enrolled             None   \n",
       "1659202                 None             None   \n",
       "1659203             Enrolled        Full time   \n",
       "1659204         Not enrolled             None   \n",
       "1659205         Not enrolled             None   \n",
       "\n",
       "                Education_Level_Attained          Household_Member_Status  \\\n",
       "0                      Bachelor's degree  Adult civilian household member   \n",
       "1                   High school graduate  Adult civilian household member   \n",
       "2                        Master's degree  Adult civilian household member   \n",
       "3                        Master's degree  Adult civilian household member   \n",
       "4                   High school graduate  Adult civilian household member   \n",
       "...                                  ...                              ...   \n",
       "1659201  Associate degree - occupational  Adult civilian household member   \n",
       "1659202                  Master's degree  Adult civilian household member   \n",
       "1659203                       11th grade  Adult civilian household member   \n",
       "1659204             High school graduate  Adult civilian household member   \n",
       "1659205          Some college, no degree  Adult civilian household member   \n",
       "\n",
       "         Weekly_Earnings Weekly_Earnings_Categories    PWSSWGT  \n",
       "0                 1620.0                  1500-1999  3561.0809  \n",
       "1                  162.0                       <250  3322.0487  \n",
       "2                  384.0                    250-499  2671.0752  \n",
       "3                  320.0                    250-499  3012.7100  \n",
       "4                  650.0                    500-749  3598.1304  \n",
       "...                  ...                        ...        ...  \n",
       "1659201           2880.0                      2000+   602.3902  \n",
       "1659202           3080.0                      2000+  4064.6185  \n",
       "1659203             72.0                       <250  5009.6817  \n",
       "1659204            674.0                    500-749  3058.1813  \n",
       "1659205            962.0                    750-999  5441.8490  \n",
       "\n",
       "[1659206 rows x 15 columns]"
      ]
     },
     "execution_count": 16,
     "metadata": {},
     "output_type": "execute_result"
    }
   ],
   "source": [
    "# Average weekly earnings by education level (sorted high to low)\n",
    "df.groupby('Education_Enrollment')['Weekly_Earnings'].mean().sort_values(ascending=False)\n",
    "\n",
    "df"
   ]
  },
  {
   "cell_type": "code",
   "execution_count": 17,
   "metadata": {},
   "outputs": [
    {
     "data": {
      "text/html": [
       "<div>\n",
       "<style scoped>\n",
       "    .dataframe tbody tr th:only-of-type {\n",
       "        vertical-align: middle;\n",
       "    }\n",
       "\n",
       "    .dataframe tbody tr th {\n",
       "        vertical-align: top;\n",
       "    }\n",
       "\n",
       "    .dataframe thead th {\n",
       "        text-align: right;\n",
       "    }\n",
       "</style>\n",
       "<table border=\"1\" class=\"dataframe\">\n",
       "  <thead>\n",
       "    <tr style=\"text-align: right;\">\n",
       "      <th></th>\n",
       "      <th>Sex</th>\n",
       "      <th>Education_Level_Attained</th>\n",
       "      <th>Mean</th>\n",
       "      <th>Median</th>\n",
       "      <th>Mode</th>\n",
       "    </tr>\n",
       "  </thead>\n",
       "  <tbody>\n",
       "    <tr>\n",
       "      <th>0</th>\n",
       "      <td>Female</td>\n",
       "      <td>10th grade</td>\n",
       "      <td>328.181809</td>\n",
       "      <td>265.00</td>\n",
       "      <td>400.00</td>\n",
       "    </tr>\n",
       "    <tr>\n",
       "      <th>1</th>\n",
       "      <td>Female</td>\n",
       "      <td>11th grade</td>\n",
       "      <td>331.908053</td>\n",
       "      <td>270.00</td>\n",
       "      <td>300.00</td>\n",
       "    </tr>\n",
       "    <tr>\n",
       "      <th>2</th>\n",
       "      <td>Female</td>\n",
       "      <td>12th grade, no diploma</td>\n",
       "      <td>447.437153</td>\n",
       "      <td>400.00</td>\n",
       "      <td>400.00</td>\n",
       "    </tr>\n",
       "    <tr>\n",
       "      <th>3</th>\n",
       "      <td>Female</td>\n",
       "      <td>1st-4th grade</td>\n",
       "      <td>450.504639</td>\n",
       "      <td>404.76</td>\n",
       "      <td>400.00</td>\n",
       "    </tr>\n",
       "    <tr>\n",
       "      <th>4</th>\n",
       "      <td>Female</td>\n",
       "      <td>5th-6th grade</td>\n",
       "      <td>445.850174</td>\n",
       "      <td>400.00</td>\n",
       "      <td>400.00</td>\n",
       "    </tr>\n",
       "    <tr>\n",
       "      <th>5</th>\n",
       "      <td>Female</td>\n",
       "      <td>7th-8th grade</td>\n",
       "      <td>421.401012</td>\n",
       "      <td>392.30</td>\n",
       "      <td>400.00</td>\n",
       "    </tr>\n",
       "    <tr>\n",
       "      <th>6</th>\n",
       "      <td>Female</td>\n",
       "      <td>9th grade</td>\n",
       "      <td>375.382009</td>\n",
       "      <td>336.00</td>\n",
       "      <td>400.00</td>\n",
       "    </tr>\n",
       "    <tr>\n",
       "      <th>7</th>\n",
       "      <td>Female</td>\n",
       "      <td>Associate degree - academic</td>\n",
       "      <td>804.375413</td>\n",
       "      <td>700.00</td>\n",
       "      <td>600.00</td>\n",
       "    </tr>\n",
       "    <tr>\n",
       "      <th>8</th>\n",
       "      <td>Female</td>\n",
       "      <td>Associate degree - occupational</td>\n",
       "      <td>766.590717</td>\n",
       "      <td>674.00</td>\n",
       "      <td>600.00</td>\n",
       "    </tr>\n",
       "    <tr>\n",
       "      <th>9</th>\n",
       "      <td>Female</td>\n",
       "      <td>Bachelor's degree</td>\n",
       "      <td>1142.449892</td>\n",
       "      <td>961.53</td>\n",
       "      <td>2884.61</td>\n",
       "    </tr>\n",
       "    <tr>\n",
       "      <th>10</th>\n",
       "      <td>Female</td>\n",
       "      <td>Doctorate degree</td>\n",
       "      <td>1779.701040</td>\n",
       "      <td>1576.92</td>\n",
       "      <td>2884.61</td>\n",
       "    </tr>\n",
       "    <tr>\n",
       "      <th>11</th>\n",
       "      <td>Female</td>\n",
       "      <td>High school graduate</td>\n",
       "      <td>627.974141</td>\n",
       "      <td>557.00</td>\n",
       "      <td>600.00</td>\n",
       "    </tr>\n",
       "    <tr>\n",
       "      <th>12</th>\n",
       "      <td>Female</td>\n",
       "      <td>Less than 1st grade</td>\n",
       "      <td>461.719018</td>\n",
       "      <td>403.84</td>\n",
       "      <td>400.00</td>\n",
       "    </tr>\n",
       "    <tr>\n",
       "      <th>13</th>\n",
       "      <td>Female</td>\n",
       "      <td>Master's degree</td>\n",
       "      <td>1389.640391</td>\n",
       "      <td>1230.76</td>\n",
       "      <td>2884.61</td>\n",
       "    </tr>\n",
       "    <tr>\n",
       "      <th>14</th>\n",
       "      <td>Female</td>\n",
       "      <td>Professional degree</td>\n",
       "      <td>1836.318283</td>\n",
       "      <td>1576.00</td>\n",
       "      <td>2884.61</td>\n",
       "    </tr>\n",
       "    <tr>\n",
       "      <th>15</th>\n",
       "      <td>Female</td>\n",
       "      <td>Some college, no degree</td>\n",
       "      <td>655.650198</td>\n",
       "      <td>560.00</td>\n",
       "      <td>600.00</td>\n",
       "    </tr>\n",
       "    <tr>\n",
       "      <th>16</th>\n",
       "      <td>Male</td>\n",
       "      <td>10th grade</td>\n",
       "      <td>535.840946</td>\n",
       "      <td>450.00</td>\n",
       "      <td>600.00</td>\n",
       "    </tr>\n",
       "    <tr>\n",
       "      <th>17</th>\n",
       "      <td>Male</td>\n",
       "      <td>11th grade</td>\n",
       "      <td>531.941792</td>\n",
       "      <td>425.00</td>\n",
       "      <td>600.00</td>\n",
       "    </tr>\n",
       "    <tr>\n",
       "      <th>18</th>\n",
       "      <td>Male</td>\n",
       "      <td>12th grade, no diploma</td>\n",
       "      <td>670.209705</td>\n",
       "      <td>585.00</td>\n",
       "      <td>600.00</td>\n",
       "    </tr>\n",
       "    <tr>\n",
       "      <th>19</th>\n",
       "      <td>Male</td>\n",
       "      <td>1st-4th grade</td>\n",
       "      <td>631.143262</td>\n",
       "      <td>560.00</td>\n",
       "      <td>600.00</td>\n",
       "    </tr>\n",
       "    <tr>\n",
       "      <th>20</th>\n",
       "      <td>Male</td>\n",
       "      <td>5th-6th grade</td>\n",
       "      <td>646.329052</td>\n",
       "      <td>580.00</td>\n",
       "      <td>600.00</td>\n",
       "    </tr>\n",
       "    <tr>\n",
       "      <th>21</th>\n",
       "      <td>Male</td>\n",
       "      <td>7th-8th grade</td>\n",
       "      <td>658.445591</td>\n",
       "      <td>580.00</td>\n",
       "      <td>600.00</td>\n",
       "    </tr>\n",
       "    <tr>\n",
       "      <th>22</th>\n",
       "      <td>Male</td>\n",
       "      <td>9th grade</td>\n",
       "      <td>588.217100</td>\n",
       "      <td>520.00</td>\n",
       "      <td>600.00</td>\n",
       "    </tr>\n",
       "    <tr>\n",
       "      <th>23</th>\n",
       "      <td>Male</td>\n",
       "      <td>Associate degree - academic</td>\n",
       "      <td>1110.297416</td>\n",
       "      <td>961.53</td>\n",
       "      <td>1000.00</td>\n",
       "    </tr>\n",
       "    <tr>\n",
       "      <th>24</th>\n",
       "      <td>Male</td>\n",
       "      <td>Associate degree - occupational</td>\n",
       "      <td>1113.554010</td>\n",
       "      <td>990.38</td>\n",
       "      <td>1000.00</td>\n",
       "    </tr>\n",
       "    <tr>\n",
       "      <th>25</th>\n",
       "      <td>Male</td>\n",
       "      <td>Bachelor's degree</td>\n",
       "      <td>1551.315487</td>\n",
       "      <td>1346.15</td>\n",
       "      <td>2884.61</td>\n",
       "    </tr>\n",
       "    <tr>\n",
       "      <th>26</th>\n",
       "      <td>Male</td>\n",
       "      <td>Doctorate degree</td>\n",
       "      <td>2080.889270</td>\n",
       "      <td>1923.07</td>\n",
       "      <td>2884.61</td>\n",
       "    </tr>\n",
       "    <tr>\n",
       "      <th>27</th>\n",
       "      <td>Male</td>\n",
       "      <td>High school graduate</td>\n",
       "      <td>905.833475</td>\n",
       "      <td>769.23</td>\n",
       "      <td>600.00</td>\n",
       "    </tr>\n",
       "    <tr>\n",
       "      <th>28</th>\n",
       "      <td>Male</td>\n",
       "      <td>Less than 1st grade</td>\n",
       "      <td>608.568600</td>\n",
       "      <td>520.00</td>\n",
       "      <td>400.00</td>\n",
       "    </tr>\n",
       "    <tr>\n",
       "      <th>29</th>\n",
       "      <td>Male</td>\n",
       "      <td>Master's degree</td>\n",
       "      <td>1831.877880</td>\n",
       "      <td>1663.46</td>\n",
       "      <td>2884.61</td>\n",
       "    </tr>\n",
       "    <tr>\n",
       "      <th>30</th>\n",
       "      <td>Male</td>\n",
       "      <td>Professional degree</td>\n",
       "      <td>2167.162138</td>\n",
       "      <td>2076.92</td>\n",
       "      <td>2884.61</td>\n",
       "    </tr>\n",
       "    <tr>\n",
       "      <th>31</th>\n",
       "      <td>Male</td>\n",
       "      <td>Some college, no degree</td>\n",
       "      <td>946.608153</td>\n",
       "      <td>800.00</td>\n",
       "      <td>600.00</td>\n",
       "    </tr>\n",
       "  </tbody>\n",
       "</table>\n",
       "</div>"
      ],
      "text/plain": [
       "       Sex         Education_Level_Attained         Mean   Median     Mode\n",
       "0   Female                       10th grade   328.181809   265.00   400.00\n",
       "1   Female                       11th grade   331.908053   270.00   300.00\n",
       "2   Female           12th grade, no diploma   447.437153   400.00   400.00\n",
       "3   Female                    1st-4th grade   450.504639   404.76   400.00\n",
       "4   Female                    5th-6th grade   445.850174   400.00   400.00\n",
       "5   Female                    7th-8th grade   421.401012   392.30   400.00\n",
       "6   Female                        9th grade   375.382009   336.00   400.00\n",
       "7   Female      Associate degree - academic   804.375413   700.00   600.00\n",
       "8   Female  Associate degree - occupational   766.590717   674.00   600.00\n",
       "9   Female                Bachelor's degree  1142.449892   961.53  2884.61\n",
       "10  Female                 Doctorate degree  1779.701040  1576.92  2884.61\n",
       "11  Female             High school graduate   627.974141   557.00   600.00\n",
       "12  Female              Less than 1st grade   461.719018   403.84   400.00\n",
       "13  Female                  Master's degree  1389.640391  1230.76  2884.61\n",
       "14  Female              Professional degree  1836.318283  1576.00  2884.61\n",
       "15  Female          Some college, no degree   655.650198   560.00   600.00\n",
       "16    Male                       10th grade   535.840946   450.00   600.00\n",
       "17    Male                       11th grade   531.941792   425.00   600.00\n",
       "18    Male           12th grade, no diploma   670.209705   585.00   600.00\n",
       "19    Male                    1st-4th grade   631.143262   560.00   600.00\n",
       "20    Male                    5th-6th grade   646.329052   580.00   600.00\n",
       "21    Male                    7th-8th grade   658.445591   580.00   600.00\n",
       "22    Male                        9th grade   588.217100   520.00   600.00\n",
       "23    Male      Associate degree - academic  1110.297416   961.53  1000.00\n",
       "24    Male  Associate degree - occupational  1113.554010   990.38  1000.00\n",
       "25    Male                Bachelor's degree  1551.315487  1346.15  2884.61\n",
       "26    Male                 Doctorate degree  2080.889270  1923.07  2884.61\n",
       "27    Male             High school graduate   905.833475   769.23   600.00\n",
       "28    Male              Less than 1st grade   608.568600   520.00   400.00\n",
       "29    Male                  Master's degree  1831.877880  1663.46  2884.61\n",
       "30    Male              Professional degree  2167.162138  2076.92  2884.61\n",
       "31    Male          Some college, no degree   946.608153   800.00   600.00"
      ]
     },
     "execution_count": 17,
     "metadata": {},
     "output_type": "execute_result"
    }
   ],
   "source": [
    "# Group by both Sex and Education_Enrollment\n",
    "education_enroll_stats = df.groupby(['Sex', 'Education_Level_Attained'])['Weekly_Earnings'].agg([\n",
    "    'mean',\n",
    "    'median',\n",
    "    lambda x: x.mode().iloc[0] if not x.mode().empty else pd.NA\n",
    "])\n",
    "education_enroll_stats.columns = ['Mean', 'Median', 'Mode']\n",
    "education_enroll_stats = education_enroll_stats.reset_index()\n",
    "education_enroll_stats"
   ]
  },
  {
   "cell_type": "code",
   "execution_count": 26,
   "metadata": {},
   "outputs": [],
   "source": [
    "education_enroll_stats.to_json('static/json/education_enrollment_wage.json')"
   ]
  },
  {
   "cell_type": "code",
   "execution_count": 18,
   "metadata": {},
   "outputs": [
    {
     "data": {
      "text/plain": [
       "Occupation\n",
       "Legal occupations                                             1776.543337\n",
       "Computer and mathematical occupations                         1707.519826\n",
       "Architecture and engineering occupations                      1658.799285\n",
       "Management occupations                                        1639.079652\n",
       "Life, physical, and social science occupations                1476.870608\n",
       "Business and financial operations occupations                 1460.925368\n",
       "Healthcare practitioner and technical occupations             1318.087251\n",
       "Arts, design, entertainment, sports, and media occupations    1147.051435\n",
       "Education instruction and library occupations                 1055.164980\n",
       "Installation, maintenance, and repair occupations             1050.005148\n",
       "Name: Weekly_Earnings, dtype: float64"
      ]
     },
     "execution_count": 18,
     "metadata": {},
     "output_type": "execute_result"
    }
   ],
   "source": [
    "# Average weekly earnings by occupation (top 10 highest paid)\n",
    "df.groupby('Occupation')['Weekly_Earnings'].mean().sort_values(ascending=False).head(10)\n"
   ]
  },
  {
   "cell_type": "code",
   "execution_count": null,
   "metadata": {},
   "outputs": [
    {
     "name": "stderr",
     "output_type": "stream",
     "text": [
      "/var/folders/77/g0ql5jbj0_3bh515zpj9kwv80000gn/T/ipykernel_56350/757818364.py:28: DeprecationWarning: DataFrameGroupBy.apply operated on the grouping columns. This behavior is deprecated, and in a future version of pandas the grouping columns will be excluded from the operation. Either pass `include_groups=False` to exclude the groupings or explicitly select the grouping columns after groupby to silence this warning.\n",
      "  occupation_stats = df_clean.groupby(['Sex', 'Occupation']).apply(\n"
     ]
    },
    {
     "data": {
      "text/html": [
       "<div>\n",
       "<style scoped>\n",
       "    .dataframe tbody tr th:only-of-type {\n",
       "        vertical-align: middle;\n",
       "    }\n",
       "\n",
       "    .dataframe tbody tr th {\n",
       "        vertical-align: top;\n",
       "    }\n",
       "\n",
       "    .dataframe thead th {\n",
       "        text-align: right;\n",
       "    }\n",
       "</style>\n",
       "<table border=\"1\" class=\"dataframe\">\n",
       "  <thead>\n",
       "    <tr style=\"text-align: right;\">\n",
       "      <th></th>\n",
       "      <th>Sex</th>\n",
       "      <th>Occupation</th>\n",
       "      <th>Weighted_Mean</th>\n",
       "      <th>Weighted_Median</th>\n",
       "      <th>Weighted_Mode</th>\n",
       "    </tr>\n",
       "  </thead>\n",
       "  <tbody>\n",
       "    <tr>\n",
       "      <th>0</th>\n",
       "      <td>Female</td>\n",
       "      <td>Architecture and engineering occupations</td>\n",
       "      <td>1481.239810</td>\n",
       "      <td>1350.00</td>\n",
       "      <td>2884.61</td>\n",
       "    </tr>\n",
       "    <tr>\n",
       "      <th>1</th>\n",
       "      <td>Female</td>\n",
       "      <td>Arts, design, entertainment, sports, and media...</td>\n",
       "      <td>1037.999851</td>\n",
       "      <td>870.00</td>\n",
       "      <td>2884.61</td>\n",
       "    </tr>\n",
       "    <tr>\n",
       "      <th>2</th>\n",
       "      <td>Female</td>\n",
       "      <td>Building and grounds cleaning and maintenance ...</td>\n",
       "      <td>463.595999</td>\n",
       "      <td>412.40</td>\n",
       "      <td>400.00</td>\n",
       "    </tr>\n",
       "    <tr>\n",
       "      <th>3</th>\n",
       "      <td>Female</td>\n",
       "      <td>Business and financial operations occupations</td>\n",
       "      <td>1341.284385</td>\n",
       "      <td>1153.84</td>\n",
       "      <td>2884.61</td>\n",
       "    </tr>\n",
       "    <tr>\n",
       "      <th>4</th>\n",
       "      <td>Female</td>\n",
       "      <td>Community and social service occupations</td>\n",
       "      <td>1029.497984</td>\n",
       "      <td>923.00</td>\n",
       "      <td>1000.00</td>\n",
       "    </tr>\n",
       "    <tr>\n",
       "      <th>5</th>\n",
       "      <td>Female</td>\n",
       "      <td>Computer and mathematical occupations</td>\n",
       "      <td>1543.077600</td>\n",
       "      <td>1384.00</td>\n",
       "      <td>2884.61</td>\n",
       "    </tr>\n",
       "    <tr>\n",
       "      <th>6</th>\n",
       "      <td>Female</td>\n",
       "      <td>Construction and extraction occupations</td>\n",
       "      <td>819.719865</td>\n",
       "      <td>700.00</td>\n",
       "      <td>600.00</td>\n",
       "    </tr>\n",
       "    <tr>\n",
       "      <th>7</th>\n",
       "      <td>Female</td>\n",
       "      <td>Education instruction and library occupations</td>\n",
       "      <td>1002.850587</td>\n",
       "      <td>884.61</td>\n",
       "      <td>1000.00</td>\n",
       "    </tr>\n",
       "    <tr>\n",
       "      <th>8</th>\n",
       "      <td>Female</td>\n",
       "      <td>Farming, fishing, and forestry occupations</td>\n",
       "      <td>513.767046</td>\n",
       "      <td>464.00</td>\n",
       "      <td>400.00</td>\n",
       "    </tr>\n",
       "    <tr>\n",
       "      <th>9</th>\n",
       "      <td>Female</td>\n",
       "      <td>Food preparation and serving related occupations</td>\n",
       "      <td>419.812132</td>\n",
       "      <td>363.90</td>\n",
       "      <td>300.00</td>\n",
       "    </tr>\n",
       "  </tbody>\n",
       "</table>\n",
       "</div>"
      ],
      "text/plain": [
       "      Sex                                         Occupation  Weighted_Mean  \\\n",
       "0  Female           Architecture and engineering occupations    1481.239810   \n",
       "1  Female  Arts, design, entertainment, sports, and media...    1037.999851   \n",
       "2  Female  Building and grounds cleaning and maintenance ...     463.595999   \n",
       "3  Female      Business and financial operations occupations    1341.284385   \n",
       "4  Female           Community and social service occupations    1029.497984   \n",
       "5  Female              Computer and mathematical occupations    1543.077600   \n",
       "6  Female            Construction and extraction occupations     819.719865   \n",
       "7  Female      Education instruction and library occupations    1002.850587   \n",
       "8  Female         Farming, fishing, and forestry occupations     513.767046   \n",
       "9  Female   Food preparation and serving related occupations     419.812132   \n",
       "\n",
       "   Weighted_Median  Weighted_Mode  \n",
       "0          1350.00        2884.61  \n",
       "1           870.00        2884.61  \n",
       "2           412.40         400.00  \n",
       "3          1153.84        2884.61  \n",
       "4           923.00        1000.00  \n",
       "5          1384.00        2884.61  \n",
       "6           700.00         600.00  \n",
       "7           884.61        1000.00  \n",
       "8           464.00         400.00  \n",
       "9           363.90         300.00  "
      ]
     },
     "execution_count": 15,
     "metadata": {},
     "output_type": "execute_result"
    }
   ],
   "source": [
    "# Group by gender and occupation, and calculate mean, median, and mode for weighted weekly earnings\n",
    "\n",
    "# Step 1: Drop rows with missing Weekly_Earnings or PWSSWGT\n",
    "df_clean = df.dropna(subset=['Weekly_Earnings', 'PWSSWGT'])\n",
    "\n",
    "# Step 2: Define weighted functions\n",
    "\n",
    "def weighted_mean(group):\n",
    "    return np.average(group['Weekly_Earnings'], weights=group['PWSSWGT'])\n",
    "\n",
    "def weighted_median(group):\n",
    "    sorted_group = group.sort_values('Weekly_Earnings')\n",
    "    cumsum = sorted_group['PWSSWGT'].cumsum()\n",
    "    cutoff = sorted_group['PWSSWGT'].sum() / 2\n",
    "    return sorted_group.loc[cumsum >= cutoff, 'Weekly_Earnings'].iloc[0]\n",
    "\n",
    "def weighted_mode(group):\n",
    "    try:\n",
    "        weights = group['PWSSWGT'].round().astype(int)\n",
    "        repeated = group.loc[group.index.repeat(weights)]\n",
    "        mode_series = repeated['Weekly_Earnings'].mode()\n",
    "        return mode_series.iloc[0] if not mode_series.empty else pd.NA\n",
    "    except:\n",
    "        return pd.NA\n",
    "\n",
    "# Step 3: Apply to groupby\n",
    "\n",
    "occupation_stats = df_clean.groupby(['Sex', 'Occupation']).apply(\n",
    "    lambda g: pd.Series({\n",
    "        'Weighted_Mean': weighted_mean(g),\n",
    "        'Weighted_Median': weighted_median(g),\n",
    "        'Weighted_Mode': weighted_mode(g)\n",
    "    })\n",
    ").reset_index()\n",
    "\n",
    "# Step 4: Preview the result\n",
    "\n",
    "occupation_stats.head(10)\n",
    "\n",
    "\n"
   ]
  },
  {
   "cell_type": "code",
   "execution_count": 19,
   "metadata": {},
   "outputs": [
    {
     "name": "stderr",
     "output_type": "stream",
     "text": [
      "/var/folders/77/g0ql5jbj0_3bh515zpj9kwv80000gn/T/ipykernel_33997/2431709208.py:22: DeprecationWarning: DataFrameGroupBy.apply operated on the grouping columns. This behavior is deprecated, and in a future version of pandas the grouping columns will be excluded from the operation. Either pass `include_groups=False` to exclude the groupings or explicitly select the grouping columns after groupby to silence this warning.\n",
      "  weighted_stats = df.groupby(group).apply(\n"
     ]
    },
    {
     "data": {
      "text/html": [
       "<div>\n",
       "<style scoped>\n",
       "    .dataframe tbody tr th:only-of-type {\n",
       "        vertical-align: middle;\n",
       "    }\n",
       "\n",
       "    .dataframe tbody tr th {\n",
       "        vertical-align: top;\n",
       "    }\n",
       "\n",
       "    .dataframe thead th {\n",
       "        text-align: right;\n",
       "    }\n",
       "</style>\n",
       "<table border=\"1\" class=\"dataframe\">\n",
       "  <thead>\n",
       "    <tr style=\"text-align: right;\">\n",
       "      <th></th>\n",
       "      <th>Sex</th>\n",
       "      <th>Occupation</th>\n",
       "      <th>Education_Enrollment</th>\n",
       "      <th>Weighted Mean</th>\n",
       "      <th>Weighted Median</th>\n",
       "      <th>Weighted Mode</th>\n",
       "    </tr>\n",
       "  </thead>\n",
       "  <tbody>\n",
       "    <tr>\n",
       "      <th>0</th>\n",
       "      <td>Female</td>\n",
       "      <td>Architecture and engineering occupations</td>\n",
       "      <td>Enrolled</td>\n",
       "      <td>900.978352</td>\n",
       "      <td>720.00</td>\n",
       "      <td>600.00</td>\n",
       "    </tr>\n",
       "    <tr>\n",
       "      <th>1</th>\n",
       "      <td>Female</td>\n",
       "      <td>Architecture and engineering occupations</td>\n",
       "      <td>Not enrolled</td>\n",
       "      <td>1505.426150</td>\n",
       "      <td>1384.61</td>\n",
       "      <td>2884.61</td>\n",
       "    </tr>\n",
       "    <tr>\n",
       "      <th>2</th>\n",
       "      <td>Female</td>\n",
       "      <td>Arts, design, entertainment, sports, and media...</td>\n",
       "      <td>Enrolled</td>\n",
       "      <td>408.018355</td>\n",
       "      <td>220.00</td>\n",
       "      <td>150.00</td>\n",
       "    </tr>\n",
       "    <tr>\n",
       "      <th>3</th>\n",
       "      <td>Female</td>\n",
       "      <td>Arts, design, entertainment, sports, and media...</td>\n",
       "      <td>Not enrolled</td>\n",
       "      <td>1126.608647</td>\n",
       "      <td>961.53</td>\n",
       "      <td>2884.61</td>\n",
       "    </tr>\n",
       "    <tr>\n",
       "      <th>4</th>\n",
       "      <td>Female</td>\n",
       "      <td>Building and grounds cleaning and maintenance ...</td>\n",
       "      <td>Enrolled</td>\n",
       "      <td>275.443337</td>\n",
       "      <td>200.00</td>\n",
       "      <td>200.00</td>\n",
       "    </tr>\n",
       "  </tbody>\n",
       "</table>\n",
       "</div>"
      ],
      "text/plain": [
       "      Sex                                         Occupation  \\\n",
       "0  Female           Architecture and engineering occupations   \n",
       "1  Female           Architecture and engineering occupations   \n",
       "2  Female  Arts, design, entertainment, sports, and media...   \n",
       "3  Female  Arts, design, entertainment, sports, and media...   \n",
       "4  Female  Building and grounds cleaning and maintenance ...   \n",
       "\n",
       "  Education_Enrollment  Weighted Mean  Weighted Median  Weighted Mode  \n",
       "0             Enrolled     900.978352           720.00         600.00  \n",
       "1         Not enrolled    1505.426150          1384.61        2884.61  \n",
       "2             Enrolled     408.018355           220.00         150.00  \n",
       "3         Not enrolled    1126.608647           961.53        2884.61  \n",
       "4             Enrolled     275.443337           200.00         200.00  "
      ]
     },
     "execution_count": 19,
     "metadata": {},
     "output_type": "execute_result"
    }
   ],
   "source": [
    "# Clean column names\n",
    "df.columns = df.columns.str.strip()\n",
    "\n",
    "# Helper functions\n",
    "def weighted_mean(x):\n",
    "    return (x['Weekly_Earnings'] * x['PWSSWGT']).sum() / x['PWSSWGT'].sum()\n",
    "\n",
    "def weighted_median(data, weights):\n",
    "    sorted_data, sorted_weights = zip(*sorted(zip(data, weights)))\n",
    "    cum_weights = np.cumsum(sorted_weights)\n",
    "    cutoff = sum(sorted_weights) / 2\n",
    "    return sorted_data[np.searchsorted(cum_weights, cutoff)]\n",
    "\n",
    "def weighted_mode(x, weights):\n",
    "    df_temp = pd.DataFrame({'value': x, 'weight': weights})\n",
    "    return df_temp.groupby('value')['weight'].sum().idxmax()\n",
    "\n",
    "# ✅ Fixed group list\n",
    "group = ['Sex', 'Occupation', 'Education_Enrollment']\n",
    "\n",
    "# Group and apply stats\n",
    "weighted_stats = df.groupby(group).apply(\n",
    "    lambda g: pd.Series({\n",
    "        'Weighted Mean': weighted_mean(g),\n",
    "        'Weighted Median': weighted_median(g['Weekly_Earnings'], g['PWSSWGT']),\n",
    "        'Weighted Mode': weighted_mode(g['Weekly_Earnings'], g['PWSSWGT'])\n",
    "    })\n",
    ").reset_index()\n",
    "\n",
    "# Display results\n",
    "weighted_stats.head()\n",
    "\n"
   ]
  },
  {
   "cell_type": "code",
   "execution_count": 20,
   "metadata": {},
   "outputs": [
    {
     "name": "stderr",
     "output_type": "stream",
     "text": [
      "/var/folders/77/g0ql5jbj0_3bh515zpj9kwv80000gn/T/ipykernel_33997/3376440358.py:4: DeprecationWarning: DataFrameGroupBy.apply operated on the grouping columns. This behavior is deprecated, and in a future version of pandas the grouping columns will be excluded from the operation. Either pass `include_groups=False` to exclude the groupings or explicitly select the grouping columns after groupby to silence this warning.\n",
      "  occupation_stats = df.groupby(group).apply(\n"
     ]
    },
    {
     "data": {
      "text/html": [
       "<div>\n",
       "<style scoped>\n",
       "    .dataframe tbody tr th:only-of-type {\n",
       "        vertical-align: middle;\n",
       "    }\n",
       "\n",
       "    .dataframe tbody tr th {\n",
       "        vertical-align: top;\n",
       "    }\n",
       "\n",
       "    .dataframe thead th {\n",
       "        text-align: right;\n",
       "    }\n",
       "</style>\n",
       "<table border=\"1\" class=\"dataframe\">\n",
       "  <thead>\n",
       "    <tr style=\"text-align: right;\">\n",
       "      <th></th>\n",
       "      <th>Occupation</th>\n",
       "      <th>Weighted Mean</th>\n",
       "      <th>Weighted Median</th>\n",
       "      <th>Weighted Mode</th>\n",
       "    </tr>\n",
       "  </thead>\n",
       "  <tbody>\n",
       "    <tr>\n",
       "      <th>0</th>\n",
       "      <td>Architecture and engineering occupations</td>\n",
       "      <td>1699.997891</td>\n",
       "      <td>1538.46</td>\n",
       "      <td>2884.61</td>\n",
       "    </tr>\n",
       "    <tr>\n",
       "      <th>1</th>\n",
       "      <td>Arts, design, entertainment, sports, and media...</td>\n",
       "      <td>1163.740594</td>\n",
       "      <td>980.00</td>\n",
       "      <td>2884.61</td>\n",
       "    </tr>\n",
       "    <tr>\n",
       "      <th>2</th>\n",
       "      <td>Building and grounds cleaning and maintenance ...</td>\n",
       "      <td>577.037888</td>\n",
       "      <td>500.00</td>\n",
       "      <td>600.00</td>\n",
       "    </tr>\n",
       "    <tr>\n",
       "      <th>3</th>\n",
       "      <td>Business and financial operations occupations</td>\n",
       "      <td>1506.398424</td>\n",
       "      <td>1270.00</td>\n",
       "      <td>2884.61</td>\n",
       "    </tr>\n",
       "    <tr>\n",
       "      <th>4</th>\n",
       "      <td>Community and social service occupations</td>\n",
       "      <td>1074.794449</td>\n",
       "      <td>952.75</td>\n",
       "      <td>1000.00</td>\n",
       "    </tr>\n",
       "  </tbody>\n",
       "</table>\n",
       "</div>"
      ],
      "text/plain": [
       "                                          Occupation  Weighted Mean  \\\n",
       "0           Architecture and engineering occupations    1699.997891   \n",
       "1  Arts, design, entertainment, sports, and media...    1163.740594   \n",
       "2  Building and grounds cleaning and maintenance ...     577.037888   \n",
       "3      Business and financial operations occupations    1506.398424   \n",
       "4           Community and social service occupations    1074.794449   \n",
       "\n",
       "   Weighted Median  Weighted Mode  \n",
       "0          1538.46        2884.61  \n",
       "1           980.00        2884.61  \n",
       "2           500.00         600.00  \n",
       "3          1270.00        2884.61  \n",
       "4           952.75        1000.00  "
      ]
     },
     "execution_count": 20,
     "metadata": {},
     "output_type": "execute_result"
    }
   ],
   "source": [
    "# Group by Occupation only\n",
    "group = ['Occupation']\n",
    "\n",
    "occupation_stats = df.groupby(group).apply(\n",
    "    lambda g: pd.Series({\n",
    "        'Weighted Mean': weighted_mean(g),\n",
    "        'Weighted Median': weighted_median(g['Weekly_Earnings'], g['PWSSWGT']),\n",
    "        'Weighted Mode': weighted_mode(g['Weekly_Earnings'], g['PWSSWGT'])\n",
    "    })\n",
    ").reset_index()\n",
    "\n",
    "# Show result\n",
    "occupation_stats.head()\n",
    "\n"
   ]
  },
  {
   "cell_type": "code",
   "execution_count": 21,
   "metadata": {},
   "outputs": [
    {
     "name": "stdout",
     "output_type": "stream",
     "text": [
      "['Male' 'Female']\n"
     ]
    }
   ],
   "source": [
    "print(df['Sex'].unique())\n"
   ]
  },
  {
   "cell_type": "code",
   "execution_count": 22,
   "metadata": {},
   "outputs": [
    {
     "name": "stderr",
     "output_type": "stream",
     "text": [
      "/var/folders/77/g0ql5jbj0_3bh515zpj9kwv80000gn/T/ipykernel_33997/1488231434.py:6: DeprecationWarning: DataFrameGroupBy.apply operated on the grouping columns. This behavior is deprecated, and in a future version of pandas the grouping columns will be excluded from the operation. Either pass `include_groups=False` to exclude the groupings or explicitly select the grouping columns after groupby to silence this warning.\n",
      "  weighted_means = df.groupby(['Occupation', 'Sex']).apply(weighted_mean).unstack()\n"
     ]
    },
    {
     "data": {
      "text/html": [
       "<div>\n",
       "<style scoped>\n",
       "    .dataframe tbody tr th:only-of-type {\n",
       "        vertical-align: middle;\n",
       "    }\n",
       "\n",
       "    .dataframe tbody tr th {\n",
       "        vertical-align: top;\n",
       "    }\n",
       "\n",
       "    .dataframe thead th {\n",
       "        text-align: right;\n",
       "    }\n",
       "</style>\n",
       "<table border=\"1\" class=\"dataframe\">\n",
       "  <thead>\n",
       "    <tr style=\"text-align: right;\">\n",
       "      <th></th>\n",
       "      <th>Female</th>\n",
       "      <th>Male</th>\n",
       "      <th>Gap</th>\n",
       "    </tr>\n",
       "    <tr>\n",
       "      <th>Occupation</th>\n",
       "      <th></th>\n",
       "      <th></th>\n",
       "      <th></th>\n",
       "    </tr>\n",
       "  </thead>\n",
       "  <tbody>\n",
       "    <tr>\n",
       "      <th>Legal occupations</th>\n",
       "      <td>1498.487647</td>\n",
       "      <td>2156.503314</td>\n",
       "      <td>-658.015667</td>\n",
       "    </tr>\n",
       "    <tr>\n",
       "      <th>Healthcare practitioner and technical occupations</th>\n",
       "      <td>1239.922547</td>\n",
       "      <td>1695.505566</td>\n",
       "      <td>-455.583019</td>\n",
       "    </tr>\n",
       "    <tr>\n",
       "      <th>Sales and related occupations</th>\n",
       "      <td>689.555254</td>\n",
       "      <td>1131.923704</td>\n",
       "      <td>-442.368450</td>\n",
       "    </tr>\n",
       "    <tr>\n",
       "      <th>Management occupations</th>\n",
       "      <td>1466.456096</td>\n",
       "      <td>1863.439404</td>\n",
       "      <td>-396.983308</td>\n",
       "    </tr>\n",
       "    <tr>\n",
       "      <th>Business and financial operations occupations</th>\n",
       "      <td>1341.284385</td>\n",
       "      <td>1716.284824</td>\n",
       "      <td>-375.000438</td>\n",
       "    </tr>\n",
       "    <tr>\n",
       "      <th>Computer and mathematical occupations</th>\n",
       "      <td>1543.077600</td>\n",
       "      <td>1851.355906</td>\n",
       "      <td>-308.278306</td>\n",
       "    </tr>\n",
       "    <tr>\n",
       "      <th>Protective service occupations</th>\n",
       "      <td>805.198574</td>\n",
       "      <td>1108.155184</td>\n",
       "      <td>-302.956610</td>\n",
       "    </tr>\n",
       "    <tr>\n",
       "      <th>Education instruction and library occupations</th>\n",
       "      <td>1002.850587</td>\n",
       "      <td>1294.042587</td>\n",
       "      <td>-291.192000</td>\n",
       "    </tr>\n",
       "    <tr>\n",
       "      <th>Production occupations</th>\n",
       "      <td>664.815188</td>\n",
       "      <td>933.564872</td>\n",
       "      <td>-268.749684</td>\n",
       "    </tr>\n",
       "    <tr>\n",
       "      <th>Architecture and engineering occupations</th>\n",
       "      <td>1481.239810</td>\n",
       "      <td>1742.100290</td>\n",
       "      <td>-260.860480</td>\n",
       "    </tr>\n",
       "    <tr>\n",
       "      <th>Arts, design, entertainment, sports, and media occupations</th>\n",
       "      <td>1037.999851</td>\n",
       "      <td>1281.433676</td>\n",
       "      <td>-243.433825</td>\n",
       "    </tr>\n",
       "    <tr>\n",
       "      <th>Transportation and material moving occupations</th>\n",
       "      <td>619.703615</td>\n",
       "      <td>848.962843</td>\n",
       "      <td>-229.259228</td>\n",
       "    </tr>\n",
       "    <tr>\n",
       "      <th>Life, physical, and social science occupations</th>\n",
       "      <td>1375.611205</td>\n",
       "      <td>1593.586025</td>\n",
       "      <td>-217.974820</td>\n",
       "    </tr>\n",
       "    <tr>\n",
       "      <th>Building and grounds cleaning and maintenance occupations</th>\n",
       "      <td>463.595999</td>\n",
       "      <td>658.896588</td>\n",
       "      <td>-195.300589</td>\n",
       "    </tr>\n",
       "    <tr>\n",
       "      <th>Construction and extraction occupations</th>\n",
       "      <td>819.719865</td>\n",
       "      <td>999.337594</td>\n",
       "      <td>-179.617729</td>\n",
       "    </tr>\n",
       "    <tr>\n",
       "      <th>Personal care and service occupations</th>\n",
       "      <td>488.520372</td>\n",
       "      <td>646.706917</td>\n",
       "      <td>-158.186545</td>\n",
       "    </tr>\n",
       "    <tr>\n",
       "      <th>Installation, maintenance, and repair occupations</th>\n",
       "      <td>905.136627</td>\n",
       "      <td>1055.781591</td>\n",
       "      <td>-150.644964</td>\n",
       "    </tr>\n",
       "    <tr>\n",
       "      <th>Healthcare support occupations</th>\n",
       "      <td>587.135177</td>\n",
       "      <td>735.482333</td>\n",
       "      <td>-148.347156</td>\n",
       "    </tr>\n",
       "    <tr>\n",
       "      <th>Farming, fishing, and forestry occupations</th>\n",
       "      <td>513.767046</td>\n",
       "      <td>651.578337</td>\n",
       "      <td>-137.811291</td>\n",
       "    </tr>\n",
       "    <tr>\n",
       "      <th>Community and social service occupations</th>\n",
       "      <td>1029.497984</td>\n",
       "      <td>1166.541776</td>\n",
       "      <td>-137.043792</td>\n",
       "    </tr>\n",
       "    <tr>\n",
       "      <th>Office and administrative support occupations</th>\n",
       "      <td>750.357903</td>\n",
       "      <td>875.260807</td>\n",
       "      <td>-124.902903</td>\n",
       "    </tr>\n",
       "    <tr>\n",
       "      <th>Food preparation and serving related occupations</th>\n",
       "      <td>419.812132</td>\n",
       "      <td>525.623430</td>\n",
       "      <td>-105.811298</td>\n",
       "    </tr>\n",
       "  </tbody>\n",
       "</table>\n",
       "</div>"
      ],
      "text/plain": [
       "                                                         Female         Male  \\\n",
       "Occupation                                                                     \n",
       "Legal occupations                                   1498.487647  2156.503314   \n",
       "Healthcare practitioner and technical occupations   1239.922547  1695.505566   \n",
       "Sales and related occupations                        689.555254  1131.923704   \n",
       "Management occupations                              1466.456096  1863.439404   \n",
       "Business and financial operations occupations       1341.284385  1716.284824   \n",
       "Computer and mathematical occupations               1543.077600  1851.355906   \n",
       "Protective service occupations                       805.198574  1108.155184   \n",
       "Education instruction and library occupations       1002.850587  1294.042587   \n",
       "Production occupations                               664.815188   933.564872   \n",
       "Architecture and engineering occupations            1481.239810  1742.100290   \n",
       "Arts, design, entertainment, sports, and media ...  1037.999851  1281.433676   \n",
       "Transportation and material moving occupations       619.703615   848.962843   \n",
       "Life, physical, and social science occupations      1375.611205  1593.586025   \n",
       "Building and grounds cleaning and maintenance o...   463.595999   658.896588   \n",
       "Construction and extraction occupations              819.719865   999.337594   \n",
       "Personal care and service occupations                488.520372   646.706917   \n",
       "Installation, maintenance, and repair occupations    905.136627  1055.781591   \n",
       "Healthcare support occupations                       587.135177   735.482333   \n",
       "Farming, fishing, and forestry occupations           513.767046   651.578337   \n",
       "Community and social service occupations            1029.497984  1166.541776   \n",
       "Office and administrative support occupations        750.357903   875.260807   \n",
       "Food preparation and serving related occupations     419.812132   525.623430   \n",
       "\n",
       "                                                           Gap  \n",
       "Occupation                                                      \n",
       "Legal occupations                                  -658.015667  \n",
       "Healthcare practitioner and technical occupations  -455.583019  \n",
       "Sales and related occupations                      -442.368450  \n",
       "Management occupations                             -396.983308  \n",
       "Business and financial operations occupations      -375.000438  \n",
       "Computer and mathematical occupations              -308.278306  \n",
       "Protective service occupations                     -302.956610  \n",
       "Education instruction and library occupations      -291.192000  \n",
       "Production occupations                             -268.749684  \n",
       "Architecture and engineering occupations           -260.860480  \n",
       "Arts, design, entertainment, sports, and media ... -243.433825  \n",
       "Transportation and material moving occupations     -229.259228  \n",
       "Life, physical, and social science occupations     -217.974820  \n",
       "Building and grounds cleaning and maintenance o... -195.300589  \n",
       "Construction and extraction occupations            -179.617729  \n",
       "Personal care and service occupations              -158.186545  \n",
       "Installation, maintenance, and repair occupations  -150.644964  \n",
       "Healthcare support occupations                     -148.347156  \n",
       "Farming, fishing, and forestry occupations         -137.811291  \n",
       "Community and social service occupations           -137.043792  \n",
       "Office and administrative support occupations      -124.902903  \n",
       "Food preparation and serving related occupations   -105.811298  "
      ]
     },
     "execution_count": 22,
     "metadata": {},
     "output_type": "execute_result"
    }
   ],
   "source": [
    "# Step 1: Helper for weighted mean\n",
    "def weighted_mean(x):\n",
    "    return (x['Weekly_Earnings'] * x['PWSSWGT']).sum() / x['PWSSWGT'].sum()\n",
    "\n",
    "# Step 2: Group by Occupation and Sex, compute weighted means\n",
    "weighted_means = df.groupby(['Occupation', 'Sex']).apply(weighted_mean).unstack()\n",
    "\n",
    "# Step 3: Capitalize column names (optional, for 'Male'/'Female')\n",
    "weighted_means.columns.name = None\n",
    "weighted_means = weighted_means.rename(columns=lambda x: x.capitalize())\n",
    "\n",
    "# Step 4: Calculate the gender pay gap (Female - Male)\n",
    "weighted_means['Gap'] = weighted_means['Female'] - weighted_means['Male']\n",
    "\n",
    "# Step 5: Sort by the gap\n",
    "gender_pay_gap = weighted_means.sort_values('Gap')\n",
    "\n",
    "# Step 6: Show the result\n",
    "gender_pay_gap\n"
   ]
  },
  {
   "cell_type": "code",
   "execution_count": 20,
   "metadata": {},
   "outputs": [],
   "source": [
    "csv_path = \"outputs/equity_gap.csv\"\n",
    "df.to_csv(csv_path)"
   ]
  },
  {
   "cell_type": "code",
   "execution_count": 24,
   "metadata": {},
   "outputs": [
    {
     "data": {
      "text/html": [
       "<div>\n",
       "<style scoped>\n",
       "    .dataframe tbody tr th:only-of-type {\n",
       "        vertical-align: middle;\n",
       "    }\n",
       "\n",
       "    .dataframe tbody tr th {\n",
       "        vertical-align: top;\n",
       "    }\n",
       "\n",
       "    .dataframe thead th {\n",
       "        text-align: right;\n",
       "    }\n",
       "</style>\n",
       "<table border=\"1\" class=\"dataframe\">\n",
       "  <thead>\n",
       "    <tr style=\"text-align: right;\">\n",
       "      <th></th>\n",
       "      <th>weighted_mean</th>\n",
       "      <th>year</th>\n",
       "      <th>sex</th>\n",
       "    </tr>\n",
       "  </thead>\n",
       "  <tbody>\n",
       "    <tr>\n",
       "      <th>0</th>\n",
       "      <td>974.979698</td>\n",
       "      <td>2014</td>\n",
       "      <td>Male</td>\n",
       "    </tr>\n",
       "    <tr>\n",
       "      <th>1</th>\n",
       "      <td>736.564141</td>\n",
       "      <td>2014</td>\n",
       "      <td>Female</td>\n",
       "    </tr>\n",
       "    <tr>\n",
       "      <th>2</th>\n",
       "      <td>860.063889</td>\n",
       "      <td>2014</td>\n",
       "      <td>All</td>\n",
       "    </tr>\n",
       "    <tr>\n",
       "      <th>3</th>\n",
       "      <td>1004.266437</td>\n",
       "      <td>2015</td>\n",
       "      <td>Male</td>\n",
       "    </tr>\n",
       "    <tr>\n",
       "      <th>4</th>\n",
       "      <td>757.607397</td>\n",
       "      <td>2015</td>\n",
       "      <td>Female</td>\n",
       "    </tr>\n",
       "    <tr>\n",
       "      <th>5</th>\n",
       "      <td>885.345482</td>\n",
       "      <td>2015</td>\n",
       "      <td>All</td>\n",
       "    </tr>\n",
       "    <tr>\n",
       "      <th>6</th>\n",
       "      <td>1027.808794</td>\n",
       "      <td>2016</td>\n",
       "      <td>Male</td>\n",
       "    </tr>\n",
       "    <tr>\n",
       "      <th>7</th>\n",
       "      <td>778.277915</td>\n",
       "      <td>2016</td>\n",
       "      <td>Female</td>\n",
       "    </tr>\n",
       "    <tr>\n",
       "      <th>8</th>\n",
       "      <td>907.690165</td>\n",
       "      <td>2016</td>\n",
       "      <td>All</td>\n",
       "    </tr>\n",
       "    <tr>\n",
       "      <th>9</th>\n",
       "      <td>1057.689582</td>\n",
       "      <td>2017</td>\n",
       "      <td>Male</td>\n",
       "    </tr>\n",
       "    <tr>\n",
       "      <th>10</th>\n",
       "      <td>805.109615</td>\n",
       "      <td>2017</td>\n",
       "      <td>Female</td>\n",
       "    </tr>\n",
       "    <tr>\n",
       "      <th>11</th>\n",
       "      <td>935.915727</td>\n",
       "      <td>2017</td>\n",
       "      <td>All</td>\n",
       "    </tr>\n",
       "    <tr>\n",
       "      <th>12</th>\n",
       "      <td>1091.205031</td>\n",
       "      <td>2018</td>\n",
       "      <td>Male</td>\n",
       "    </tr>\n",
       "    <tr>\n",
       "      <th>13</th>\n",
       "      <td>833.408713</td>\n",
       "      <td>2018</td>\n",
       "      <td>Female</td>\n",
       "    </tr>\n",
       "    <tr>\n",
       "      <th>14</th>\n",
       "      <td>967.114222</td>\n",
       "      <td>2018</td>\n",
       "      <td>All</td>\n",
       "    </tr>\n",
       "    <tr>\n",
       "      <th>15</th>\n",
       "      <td>1130.369324</td>\n",
       "      <td>2019</td>\n",
       "      <td>Male</td>\n",
       "    </tr>\n",
       "    <tr>\n",
       "      <th>16</th>\n",
       "      <td>865.766448</td>\n",
       "      <td>2019</td>\n",
       "      <td>Female</td>\n",
       "    </tr>\n",
       "    <tr>\n",
       "      <th>17</th>\n",
       "      <td>1002.592490</td>\n",
       "      <td>2019</td>\n",
       "      <td>All</td>\n",
       "    </tr>\n",
       "    <tr>\n",
       "      <th>18</th>\n",
       "      <td>1191.119667</td>\n",
       "      <td>2020</td>\n",
       "      <td>Male</td>\n",
       "    </tr>\n",
       "    <tr>\n",
       "      <th>19</th>\n",
       "      <td>931.637025</td>\n",
       "      <td>2020</td>\n",
       "      <td>Female</td>\n",
       "    </tr>\n",
       "    <tr>\n",
       "      <th>20</th>\n",
       "      <td>1066.489433</td>\n",
       "      <td>2020</td>\n",
       "      <td>All</td>\n",
       "    </tr>\n",
       "    <tr>\n",
       "      <th>21</th>\n",
       "      <td>1211.469058</td>\n",
       "      <td>2021</td>\n",
       "      <td>Male</td>\n",
       "    </tr>\n",
       "    <tr>\n",
       "      <th>22</th>\n",
       "      <td>958.576222</td>\n",
       "      <td>2021</td>\n",
       "      <td>Female</td>\n",
       "    </tr>\n",
       "    <tr>\n",
       "      <th>23</th>\n",
       "      <td>1089.628753</td>\n",
       "      <td>2021</td>\n",
       "      <td>All</td>\n",
       "    </tr>\n",
       "    <tr>\n",
       "      <th>24</th>\n",
       "      <td>1271.089586</td>\n",
       "      <td>2022</td>\n",
       "      <td>Male</td>\n",
       "    </tr>\n",
       "    <tr>\n",
       "      <th>25</th>\n",
       "      <td>1011.737496</td>\n",
       "      <td>2022</td>\n",
       "      <td>Female</td>\n",
       "    </tr>\n",
       "    <tr>\n",
       "      <th>26</th>\n",
       "      <td>1146.660732</td>\n",
       "      <td>2022</td>\n",
       "      <td>All</td>\n",
       "    </tr>\n",
       "    <tr>\n",
       "      <th>27</th>\n",
       "      <td>1423.066724</td>\n",
       "      <td>2023</td>\n",
       "      <td>Male</td>\n",
       "    </tr>\n",
       "    <tr>\n",
       "      <th>28</th>\n",
       "      <td>1102.117141</td>\n",
       "      <td>2023</td>\n",
       "      <td>Female</td>\n",
       "    </tr>\n",
       "    <tr>\n",
       "      <th>29</th>\n",
       "      <td>1268.509957</td>\n",
       "      <td>2023</td>\n",
       "      <td>All</td>\n",
       "    </tr>\n",
       "    <tr>\n",
       "      <th>30</th>\n",
       "      <td>1624.973752</td>\n",
       "      <td>2024</td>\n",
       "      <td>Male</td>\n",
       "    </tr>\n",
       "    <tr>\n",
       "      <th>31</th>\n",
       "      <td>1213.435856</td>\n",
       "      <td>2024</td>\n",
       "      <td>Female</td>\n",
       "    </tr>\n",
       "    <tr>\n",
       "      <th>32</th>\n",
       "      <td>1426.376788</td>\n",
       "      <td>2024</td>\n",
       "      <td>All</td>\n",
       "    </tr>\n",
       "    <tr>\n",
       "      <th>33</th>\n",
       "      <td>1684.691027</td>\n",
       "      <td>2025</td>\n",
       "      <td>Male</td>\n",
       "    </tr>\n",
       "    <tr>\n",
       "      <th>34</th>\n",
       "      <td>1242.348568</td>\n",
       "      <td>2025</td>\n",
       "      <td>Female</td>\n",
       "    </tr>\n",
       "    <tr>\n",
       "      <th>35</th>\n",
       "      <td>1469.922745</td>\n",
       "      <td>2025</td>\n",
       "      <td>All</td>\n",
       "    </tr>\n",
       "  </tbody>\n",
       "</table>\n",
       "</div>"
      ],
      "text/plain": [
       "    weighted_mean  year     sex\n",
       "0      974.979698  2014    Male\n",
       "1      736.564141  2014  Female\n",
       "2      860.063889  2014     All\n",
       "3     1004.266437  2015    Male\n",
       "4      757.607397  2015  Female\n",
       "5      885.345482  2015     All\n",
       "6     1027.808794  2016    Male\n",
       "7      778.277915  2016  Female\n",
       "8      907.690165  2016     All\n",
       "9     1057.689582  2017    Male\n",
       "10     805.109615  2017  Female\n",
       "11     935.915727  2017     All\n",
       "12    1091.205031  2018    Male\n",
       "13     833.408713  2018  Female\n",
       "14     967.114222  2018     All\n",
       "15    1130.369324  2019    Male\n",
       "16     865.766448  2019  Female\n",
       "17    1002.592490  2019     All\n",
       "18    1191.119667  2020    Male\n",
       "19     931.637025  2020  Female\n",
       "20    1066.489433  2020     All\n",
       "21    1211.469058  2021    Male\n",
       "22     958.576222  2021  Female\n",
       "23    1089.628753  2021     All\n",
       "24    1271.089586  2022    Male\n",
       "25    1011.737496  2022  Female\n",
       "26    1146.660732  2022     All\n",
       "27    1423.066724  2023    Male\n",
       "28    1102.117141  2023  Female\n",
       "29    1268.509957  2023     All\n",
       "30    1624.973752  2024    Male\n",
       "31    1213.435856  2024  Female\n",
       "32    1426.376788  2024     All\n",
       "33    1684.691027  2025    Male\n",
       "34    1242.348568  2025  Female\n",
       "35    1469.922745  2025     All"
      ]
     },
     "execution_count": 24,
     "metadata": {},
     "output_type": "execute_result"
    }
   ],
   "source": [
    "# Load CSV\n",
    "df = pd.read_csv(\"/Users/joeportnoy/Desktop/repos/Money-Talks-A-Demographic-Story/outputs/bls_data.csv\")\n",
    "\n",
    "# Ensure numeric types\n",
    "df[\"Weekly Earnings\"] = pd.to_numeric(df[\"Weekly Earnings\"], errors=\"coerce\")\n",
    "df[\"PWSSWGT\"] = pd.to_numeric(df[\"PWSSWGT\"], errors=\"coerce\")\n",
    "\n",
    "# Drop rows with missing critical values\n",
    "df.dropna(subset=[\"Weekly Earnings\", \"Sex\", \"year\", \"PWSSWGT\"], inplace=True)\n",
    "\n",
    "# Function to compute weighted stats\n",
    "def weighted_stats(data):\n",
    "    weights = data[\"PWSSWGT\"]\n",
    "    values = data[\"Weekly Earnings\"]\n",
    "\n",
    "    # Weighted mean\n",
    "    mean = np.average(values, weights=weights)\n",
    "\n",
    "    # Weighted median\n",
    "    sorted_idx = np.argsort(values)\n",
    "    sorted_vals = values.iloc[sorted_idx]\n",
    "    sorted_weights = weights.iloc[sorted_idx]\n",
    "    cumsum = np.cumsum(sorted_weights)\n",
    "    cutoff = sorted_weights.sum() / 2.0\n",
    "    median = sorted_vals[cumsum >= cutoff].iloc[0]\n",
    "\n",
    "    return {\n",
    "        \"weighted_mean\": mean\n",
    "    }\n",
    "\n",
    "# Loop over years and sex\n",
    "results = []\n",
    "for year in sorted(df[\"year\"].unique()):\n",
    "    for sex in [\"Male\", \"Female\", \"All\"]:\n",
    "        if sex == \"All\":\n",
    "            group = df[df[\"year\"] == year]\n",
    "        else:\n",
    "            group = df[(df[\"year\"] == year) & (df[\"Sex\"] == sex)]\n",
    "\n",
    "        if not group.empty:\n",
    "            stats = weighted_stats(group)\n",
    "            stats[\"year\"] = year\n",
    "            stats[\"sex\"] = sex\n",
    "            results.append(stats)\n",
    "\n",
    "# Create and show DataFrame\n",
    "summary_df = pd.DataFrame(results)\n",
    "\n",
    "summary_df"
   ]
  },
  {
   "cell_type": "code",
   "execution_count": 26,
   "metadata": {},
   "outputs": [
    {
     "data": {
      "application/vnd.plotly.v1+json": {
       "config": {
        "plotlyServerURL": "https://plot.ly"
       },
       "data": [
        {
         "line": {
          "color": "green"
         },
         "mode": "lines+markers",
         "name": "Male",
         "type": "scatter",
         "x": [
          2014,
          2015,
          2016,
          2017,
          2018,
          2019,
          2020,
          2021,
          2022,
          2023,
          2024
         ],
         "y": [
          974.9796976541163,
          1004.266437327168,
          1027.808794350646,
          1057.6895821560659,
          1091.2050311035462,
          1130.3693241963754,
          1191.1196667335246,
          1211.4690578571572,
          1271.089585944863,
          1423.066724235858,
          1624.9737522082678
         ]
        },
        {
         "line": {
          "color": "yellow"
         },
         "mode": "lines+markers",
         "name": "Female",
         "type": "scatter",
         "x": [
          2014,
          2015,
          2016,
          2017,
          2018,
          2019,
          2020,
          2021,
          2022,
          2023,
          2024
         ],
         "y": [
          736.5641412061897,
          757.6073967549801,
          778.2779149851892,
          805.1096153774163,
          833.4087132273614,
          865.7664478053899,
          931.6370248432047,
          958.5762221336678,
          1011.7374957720547,
          1102.1171406238527,
          1213.4358558172926
         ]
        },
        {
         "line": {
          "color": "blue"
         },
         "mode": "lines+markers",
         "name": "Overall",
         "type": "scatter",
         "x": [
          2014,
          2015,
          2016,
          2017,
          2018,
          2019,
          2020,
          2021,
          2022,
          2023,
          2024
         ],
         "y": [
          855.771919430153,
          880.936917041074,
          903.0433546679176,
          931.3995987667411,
          962.3068721654538,
          998.0678860008827,
          1061.3783457883646,
          1085.0226399954124,
          1141.4135408584589,
          1262.5919324298552,
          1419.2048040127802
         ]
        }
       ],
       "layout": {
        "template": {
         "data": {
          "bar": [
           {
            "error_x": {
             "color": "#2a3f5f"
            },
            "error_y": {
             "color": "#2a3f5f"
            },
            "marker": {
             "line": {
              "color": "white",
              "width": 0.5
             },
             "pattern": {
              "fillmode": "overlay",
              "size": 10,
              "solidity": 0.2
             }
            },
            "type": "bar"
           }
          ],
          "barpolar": [
           {
            "marker": {
             "line": {
              "color": "white",
              "width": 0.5
             },
             "pattern": {
              "fillmode": "overlay",
              "size": 10,
              "solidity": 0.2
             }
            },
            "type": "barpolar"
           }
          ],
          "carpet": [
           {
            "aaxis": {
             "endlinecolor": "#2a3f5f",
             "gridcolor": "#C8D4E3",
             "linecolor": "#C8D4E3",
             "minorgridcolor": "#C8D4E3",
             "startlinecolor": "#2a3f5f"
            },
            "baxis": {
             "endlinecolor": "#2a3f5f",
             "gridcolor": "#C8D4E3",
             "linecolor": "#C8D4E3",
             "minorgridcolor": "#C8D4E3",
             "startlinecolor": "#2a3f5f"
            },
            "type": "carpet"
           }
          ],
          "choropleth": [
           {
            "colorbar": {
             "outlinewidth": 0,
             "ticks": ""
            },
            "type": "choropleth"
           }
          ],
          "contour": [
           {
            "colorbar": {
             "outlinewidth": 0,
             "ticks": ""
            },
            "colorscale": [
             [
              0,
              "#0d0887"
             ],
             [
              0.1111111111111111,
              "#46039f"
             ],
             [
              0.2222222222222222,
              "#7201a8"
             ],
             [
              0.3333333333333333,
              "#9c179e"
             ],
             [
              0.4444444444444444,
              "#bd3786"
             ],
             [
              0.5555555555555556,
              "#d8576b"
             ],
             [
              0.6666666666666666,
              "#ed7953"
             ],
             [
              0.7777777777777778,
              "#fb9f3a"
             ],
             [
              0.8888888888888888,
              "#fdca26"
             ],
             [
              1,
              "#f0f921"
             ]
            ],
            "type": "contour"
           }
          ],
          "contourcarpet": [
           {
            "colorbar": {
             "outlinewidth": 0,
             "ticks": ""
            },
            "type": "contourcarpet"
           }
          ],
          "heatmap": [
           {
            "colorbar": {
             "outlinewidth": 0,
             "ticks": ""
            },
            "colorscale": [
             [
              0,
              "#0d0887"
             ],
             [
              0.1111111111111111,
              "#46039f"
             ],
             [
              0.2222222222222222,
              "#7201a8"
             ],
             [
              0.3333333333333333,
              "#9c179e"
             ],
             [
              0.4444444444444444,
              "#bd3786"
             ],
             [
              0.5555555555555556,
              "#d8576b"
             ],
             [
              0.6666666666666666,
              "#ed7953"
             ],
             [
              0.7777777777777778,
              "#fb9f3a"
             ],
             [
              0.8888888888888888,
              "#fdca26"
             ],
             [
              1,
              "#f0f921"
             ]
            ],
            "type": "heatmap"
           }
          ],
          "heatmapgl": [
           {
            "colorbar": {
             "outlinewidth": 0,
             "ticks": ""
            },
            "colorscale": [
             [
              0,
              "#0d0887"
             ],
             [
              0.1111111111111111,
              "#46039f"
             ],
             [
              0.2222222222222222,
              "#7201a8"
             ],
             [
              0.3333333333333333,
              "#9c179e"
             ],
             [
              0.4444444444444444,
              "#bd3786"
             ],
             [
              0.5555555555555556,
              "#d8576b"
             ],
             [
              0.6666666666666666,
              "#ed7953"
             ],
             [
              0.7777777777777778,
              "#fb9f3a"
             ],
             [
              0.8888888888888888,
              "#fdca26"
             ],
             [
              1,
              "#f0f921"
             ]
            ],
            "type": "heatmapgl"
           }
          ],
          "histogram": [
           {
            "marker": {
             "pattern": {
              "fillmode": "overlay",
              "size": 10,
              "solidity": 0.2
             }
            },
            "type": "histogram"
           }
          ],
          "histogram2d": [
           {
            "colorbar": {
             "outlinewidth": 0,
             "ticks": ""
            },
            "colorscale": [
             [
              0,
              "#0d0887"
             ],
             [
              0.1111111111111111,
              "#46039f"
             ],
             [
              0.2222222222222222,
              "#7201a8"
             ],
             [
              0.3333333333333333,
              "#9c179e"
             ],
             [
              0.4444444444444444,
              "#bd3786"
             ],
             [
              0.5555555555555556,
              "#d8576b"
             ],
             [
              0.6666666666666666,
              "#ed7953"
             ],
             [
              0.7777777777777778,
              "#fb9f3a"
             ],
             [
              0.8888888888888888,
              "#fdca26"
             ],
             [
              1,
              "#f0f921"
             ]
            ],
            "type": "histogram2d"
           }
          ],
          "histogram2dcontour": [
           {
            "colorbar": {
             "outlinewidth": 0,
             "ticks": ""
            },
            "colorscale": [
             [
              0,
              "#0d0887"
             ],
             [
              0.1111111111111111,
              "#46039f"
             ],
             [
              0.2222222222222222,
              "#7201a8"
             ],
             [
              0.3333333333333333,
              "#9c179e"
             ],
             [
              0.4444444444444444,
              "#bd3786"
             ],
             [
              0.5555555555555556,
              "#d8576b"
             ],
             [
              0.6666666666666666,
              "#ed7953"
             ],
             [
              0.7777777777777778,
              "#fb9f3a"
             ],
             [
              0.8888888888888888,
              "#fdca26"
             ],
             [
              1,
              "#f0f921"
             ]
            ],
            "type": "histogram2dcontour"
           }
          ],
          "mesh3d": [
           {
            "colorbar": {
             "outlinewidth": 0,
             "ticks": ""
            },
            "type": "mesh3d"
           }
          ],
          "parcoords": [
           {
            "line": {
             "colorbar": {
              "outlinewidth": 0,
              "ticks": ""
             }
            },
            "type": "parcoords"
           }
          ],
          "pie": [
           {
            "automargin": true,
            "type": "pie"
           }
          ],
          "scatter": [
           {
            "fillpattern": {
             "fillmode": "overlay",
             "size": 10,
             "solidity": 0.2
            },
            "type": "scatter"
           }
          ],
          "scatter3d": [
           {
            "line": {
             "colorbar": {
              "outlinewidth": 0,
              "ticks": ""
             }
            },
            "marker": {
             "colorbar": {
              "outlinewidth": 0,
              "ticks": ""
             }
            },
            "type": "scatter3d"
           }
          ],
          "scattercarpet": [
           {
            "marker": {
             "colorbar": {
              "outlinewidth": 0,
              "ticks": ""
             }
            },
            "type": "scattercarpet"
           }
          ],
          "scattergeo": [
           {
            "marker": {
             "colorbar": {
              "outlinewidth": 0,
              "ticks": ""
             }
            },
            "type": "scattergeo"
           }
          ],
          "scattergl": [
           {
            "marker": {
             "colorbar": {
              "outlinewidth": 0,
              "ticks": ""
             }
            },
            "type": "scattergl"
           }
          ],
          "scattermapbox": [
           {
            "marker": {
             "colorbar": {
              "outlinewidth": 0,
              "ticks": ""
             }
            },
            "type": "scattermapbox"
           }
          ],
          "scatterpolar": [
           {
            "marker": {
             "colorbar": {
              "outlinewidth": 0,
              "ticks": ""
             }
            },
            "type": "scatterpolar"
           }
          ],
          "scatterpolargl": [
           {
            "marker": {
             "colorbar": {
              "outlinewidth": 0,
              "ticks": ""
             }
            },
            "type": "scatterpolargl"
           }
          ],
          "scatterternary": [
           {
            "marker": {
             "colorbar": {
              "outlinewidth": 0,
              "ticks": ""
             }
            },
            "type": "scatterternary"
           }
          ],
          "surface": [
           {
            "colorbar": {
             "outlinewidth": 0,
             "ticks": ""
            },
            "colorscale": [
             [
              0,
              "#0d0887"
             ],
             [
              0.1111111111111111,
              "#46039f"
             ],
             [
              0.2222222222222222,
              "#7201a8"
             ],
             [
              0.3333333333333333,
              "#9c179e"
             ],
             [
              0.4444444444444444,
              "#bd3786"
             ],
             [
              0.5555555555555556,
              "#d8576b"
             ],
             [
              0.6666666666666666,
              "#ed7953"
             ],
             [
              0.7777777777777778,
              "#fb9f3a"
             ],
             [
              0.8888888888888888,
              "#fdca26"
             ],
             [
              1,
              "#f0f921"
             ]
            ],
            "type": "surface"
           }
          ],
          "table": [
           {
            "cells": {
             "fill": {
              "color": "#EBF0F8"
             },
             "line": {
              "color": "white"
             }
            },
            "header": {
             "fill": {
              "color": "#C8D4E3"
             },
             "line": {
              "color": "white"
             }
            },
            "type": "table"
           }
          ]
         },
         "layout": {
          "annotationdefaults": {
           "arrowcolor": "#2a3f5f",
           "arrowhead": 0,
           "arrowwidth": 1
          },
          "autotypenumbers": "strict",
          "coloraxis": {
           "colorbar": {
            "outlinewidth": 0,
            "ticks": ""
           }
          },
          "colorscale": {
           "diverging": [
            [
             0,
             "#8e0152"
            ],
            [
             0.1,
             "#c51b7d"
            ],
            [
             0.2,
             "#de77ae"
            ],
            [
             0.3,
             "#f1b6da"
            ],
            [
             0.4,
             "#fde0ef"
            ],
            [
             0.5,
             "#f7f7f7"
            ],
            [
             0.6,
             "#e6f5d0"
            ],
            [
             0.7,
             "#b8e186"
            ],
            [
             0.8,
             "#7fbc41"
            ],
            [
             0.9,
             "#4d9221"
            ],
            [
             1,
             "#276419"
            ]
           ],
           "sequential": [
            [
             0,
             "#0d0887"
            ],
            [
             0.1111111111111111,
             "#46039f"
            ],
            [
             0.2222222222222222,
             "#7201a8"
            ],
            [
             0.3333333333333333,
             "#9c179e"
            ],
            [
             0.4444444444444444,
             "#bd3786"
            ],
            [
             0.5555555555555556,
             "#d8576b"
            ],
            [
             0.6666666666666666,
             "#ed7953"
            ],
            [
             0.7777777777777778,
             "#fb9f3a"
            ],
            [
             0.8888888888888888,
             "#fdca26"
            ],
            [
             1,
             "#f0f921"
            ]
           ],
           "sequentialminus": [
            [
             0,
             "#0d0887"
            ],
            [
             0.1111111111111111,
             "#46039f"
            ],
            [
             0.2222222222222222,
             "#7201a8"
            ],
            [
             0.3333333333333333,
             "#9c179e"
            ],
            [
             0.4444444444444444,
             "#bd3786"
            ],
            [
             0.5555555555555556,
             "#d8576b"
            ],
            [
             0.6666666666666666,
             "#ed7953"
            ],
            [
             0.7777777777777778,
             "#fb9f3a"
            ],
            [
             0.8888888888888888,
             "#fdca26"
            ],
            [
             1,
             "#f0f921"
            ]
           ]
          },
          "colorway": [
           "#636efa",
           "#EF553B",
           "#00cc96",
           "#ab63fa",
           "#FFA15A",
           "#19d3f3",
           "#FF6692",
           "#B6E880",
           "#FF97FF",
           "#FECB52"
          ],
          "font": {
           "color": "#2a3f5f"
          },
          "geo": {
           "bgcolor": "white",
           "lakecolor": "white",
           "landcolor": "white",
           "showlakes": true,
           "showland": true,
           "subunitcolor": "#C8D4E3"
          },
          "hoverlabel": {
           "align": "left"
          },
          "hovermode": "closest",
          "mapbox": {
           "style": "light"
          },
          "paper_bgcolor": "white",
          "plot_bgcolor": "white",
          "polar": {
           "angularaxis": {
            "gridcolor": "#EBF0F8",
            "linecolor": "#EBF0F8",
            "ticks": ""
           },
           "bgcolor": "white",
           "radialaxis": {
            "gridcolor": "#EBF0F8",
            "linecolor": "#EBF0F8",
            "ticks": ""
           }
          },
          "scene": {
           "xaxis": {
            "backgroundcolor": "white",
            "gridcolor": "#DFE8F3",
            "gridwidth": 2,
            "linecolor": "#EBF0F8",
            "showbackground": true,
            "ticks": "",
            "zerolinecolor": "#EBF0F8"
           },
           "yaxis": {
            "backgroundcolor": "white",
            "gridcolor": "#DFE8F3",
            "gridwidth": 2,
            "linecolor": "#EBF0F8",
            "showbackground": true,
            "ticks": "",
            "zerolinecolor": "#EBF0F8"
           },
           "zaxis": {
            "backgroundcolor": "white",
            "gridcolor": "#DFE8F3",
            "gridwidth": 2,
            "linecolor": "#EBF0F8",
            "showbackground": true,
            "ticks": "",
            "zerolinecolor": "#EBF0F8"
           }
          },
          "shapedefaults": {
           "line": {
            "color": "#2a3f5f"
           }
          },
          "ternary": {
           "aaxis": {
            "gridcolor": "#DFE8F3",
            "linecolor": "#A2B1C6",
            "ticks": ""
           },
           "baxis": {
            "gridcolor": "#DFE8F3",
            "linecolor": "#A2B1C6",
            "ticks": ""
           },
           "bgcolor": "white",
           "caxis": {
            "gridcolor": "#DFE8F3",
            "linecolor": "#A2B1C6",
            "ticks": ""
           }
          },
          "title": {
           "x": 0.05
          },
          "xaxis": {
           "automargin": true,
           "gridcolor": "#EBF0F8",
           "linecolor": "#EBF0F8",
           "ticks": "",
           "title": {
            "standoff": 15
           },
           "zerolinecolor": "#EBF0F8",
           "zerolinewidth": 2
          },
          "yaxis": {
           "automargin": true,
           "gridcolor": "#EBF0F8",
           "linecolor": "#EBF0F8",
           "ticks": "",
           "title": {
            "standoff": 15
           },
           "zerolinecolor": "#EBF0F8",
           "zerolinewidth": 2
          }
         }
        },
        "title": {
         "text": "Weighted Weekly Earnings Over Time (2014–2024)"
        },
        "xaxis": {
         "title": {
          "text": "Year"
         }
        },
        "yaxis": {
         "title": {
          "text": "Weekly Earnings ($)"
         }
        }
       }
      }
     },
     "metadata": {},
     "output_type": "display_data"
    }
   ],
   "source": [
    "# Filter to years 2014–2024\n",
    "filtered_df = summary_df[summary_df['year'].between(2014, 2024)]\n",
    "\n",
    "# Pivot to wide format\n",
    "pivot_df = filtered_df.pivot(index='year', columns='sex', values='weighted_mean').reset_index()\n",
    "\n",
    "# Calculate overall average (simple mean of male and female)\n",
    "pivot_df['Overall'] = pivot_df[['Male', 'Female']].mean(axis=1)\n",
    "\n",
    "# Create Plotly figure\n",
    "fig = go.Figure()\n",
    "\n",
    "fig.add_trace(go.Scatter(\n",
    "    x=pivot_df['year'],\n",
    "    y=pivot_df['Male'],\n",
    "    mode='lines+markers',\n",
    "    name='Male',\n",
    "    line=dict(color='green')\n",
    "))\n",
    "\n",
    "fig.add_trace(go.Scatter(\n",
    "    x=pivot_df['year'],\n",
    "    y=pivot_df['Female'],\n",
    "    mode='lines+markers',\n",
    "    name='Female',\n",
    "    line=dict(color='yellow')\n",
    "))\n",
    "\n",
    "fig.add_trace(go.Scatter(\n",
    "    x=pivot_df['year'],\n",
    "    y=pivot_df['Overall'],\n",
    "    mode='lines+markers',\n",
    "    name='Overall',\n",
    "    line=dict(color='blue')\n",
    "))\n",
    "\n",
    "# Layout\n",
    "fig.update_layout(\n",
    "    title='Weighted Weekly Earnings Over Time (2014–2024)',\n",
    "    xaxis_title='Year',\n",
    "    yaxis_title='Weekly Earnings ($)',\n",
    "    template='plotly_white'\n",
    ")\n",
    "\n",
    "fig.show()"
   ]
  },
  {
   "cell_type": "code",
   "execution_count": 32,
   "metadata": {},
   "outputs": [],
   "source": [
    "# Pivot and calculate averages as before\n",
    "filtered_df = summary_df[summary_df['year'].between(2014, 2024)]\n",
    "pivot_df = filtered_df.pivot(index='year', columns='sex', values='weighted_mean').reset_index()\n",
    "pivot_df['Overall'] = pivot_df[['Male', 'Female']].mean(axis=1)\n",
    "\n",
    "# Create the figure\n",
    "fig = go.Figure()\n",
    "fig.add_trace(go.Scatter(x=pivot_df['year'], y=pivot_df['Male'], mode='lines+markers', name='Male', line=dict(color='green')))\n",
    "fig.add_trace(go.Scatter(x=pivot_df['year'], y=pivot_df['Female'], mode='lines+markers', name='Female', line=dict(color='yellow')))\n",
    "fig.add_trace(go.Scatter(x=pivot_df['year'], y=pivot_df['Overall'], mode='lines+markers', name='Overall', line=dict(color='blue')))\n",
    "\n",
    "# Export to JSON for use in JS\n",
    "pio.write_json(fig, \"/Users/joeportnoy/Desktop/repos/Money-Talks-A-Demographic-Story/static/json/earnings_chart.json\")"
   ]
  },
  {
   "cell_type": "code",
   "execution_count": 42,
   "metadata": {},
   "outputs": [],
   "source": [
    "# Load and clean the data\n",
    "df = pd.read_csv(\"/Users/joeportnoy/Desktop/repos/Money-Talks-A-Demographic-Story/outputs/bls_data.csv\")\n",
    "df = df.dropna(subset=['Weekly Earnings', 'Occupation', 'Sex', 'PWSSWGT'])\n",
    "\n",
    "results = []\n",
    "occupations = df['Occupation'].unique()\n",
    "\n",
    "# Calculate weighted averages\n",
    "for occupation in occupations:\n",
    "    filtered = df[df['Occupation'] == occupation]\n",
    "\n",
    "    def weighted_mean(group):\n",
    "        return round((group['Weekly Earnings'] * group['PWSSWGT']).sum() / group['PWSSWGT'].sum(), 2)\n",
    "\n",
    "    male_avg = weighted_mean(filtered[filtered['Sex'] == 'Male'])\n",
    "    female_avg = weighted_mean(filtered[filtered['Sex'] == 'Female'])\n",
    "    overall_avg = round((male_avg + female_avg) / 2, 2)\n",
    "\n",
    "    results.append({\n",
    "        \"occupation\": occupation,\n",
    "        \"male_avg\": male_avg,\n",
    "        \"female_avg\": female_avg,\n",
    "        \"overall_avg\": overall_avg\n",
    "    })\n",
    "\n",
    "# Ensure output directory exists\n",
    "os.makedirs(\"../static/json\", exist_ok=True)\n",
    "\n",
    "# Write JSON file\n",
    "with open(\"../static/json/compare_wage.json\", \"w\") as f:\n",
    "    json.dump(results, f, indent=2)"
   ]
  },
  {
   "cell_type": "code",
   "execution_count": 33,
   "metadata": {},
   "outputs": [
    {
     "data": {
      "application/vnd.plotly.v1+json": {
       "config": {
        "plotlyServerURL": "https://plot.ly"
       },
       "data": [
        {
         "alignmentgroup": "True",
         "hovertemplate": "Pay Gap ($)=%{marker.color}<br>Occupation=%{y}<extra></extra>",
         "legendgroup": "",
         "marker": {
          "color": [
           -658.0156672511555,
           -455.58301907896566,
           -442.368449644374,
           -396.98330783764936,
           -375.0004381497017,
           -308.278305713535,
           -302.9566100055191,
           -291.1919999585656,
           -268.7496838924285,
           -260.8604796914851,
           -243.4338254130089,
           -229.25922796722728,
           -217.97481979755594,
           -195.3005886751747,
           -179.61772931784594,
           -158.18654452864354,
           -150.64496441257415,
           -148.3471561671297,
           -137.81129064954223,
           -137.04379209082117,
           -124.90290337538818,
           -105.81129812099658
          ],
          "coloraxis": "coloraxis",
          "pattern": {
           "shape": ""
          }
         },
         "name": "",
         "offsetgroup": "",
         "orientation": "h",
         "showlegend": false,
         "textposition": "auto",
         "type": "bar",
         "x": [
          -658.0156672511555,
          -455.58301907896566,
          -442.368449644374,
          -396.98330783764936,
          -375.0004381497017,
          -308.278305713535,
          -302.9566100055191,
          -291.1919999585656,
          -268.7496838924285,
          -260.8604796914851,
          -243.4338254130089,
          -229.25922796722728,
          -217.97481979755594,
          -195.3005886751747,
          -179.61772931784594,
          -158.18654452864354,
          -150.64496441257415,
          -148.3471561671297,
          -137.81129064954223,
          -137.04379209082117,
          -124.90290337538818,
          -105.81129812099658
         ],
         "xaxis": "x",
         "y": [
          "Legal occupations",
          "Healthcare practitioner and technical occupations",
          "Sales and related occupations",
          "Management occupations",
          "Business and financial operations occupations",
          "Computer and mathematical occupations",
          "Protective service occupations",
          "Education instruction and library occupations",
          "Production occupations",
          "Architecture and engineering occupations",
          "Arts, design, entertainment, sports, and media occupations",
          "Transportation and material moving occupations",
          "Life, physical, and social science occupations",
          "Building and grounds cleaning and maintenance occupations",
          "Construction and extraction occupations",
          "Personal care and service occupations",
          "Installation, maintenance, and repair occupations",
          "Healthcare support occupations",
          "Farming, fishing, and forestry occupations",
          "Community and social service occupations",
          "Office and administrative support occupations",
          "Food preparation and serving related occupations"
         ],
         "yaxis": "y"
        }
       ],
       "layout": {
        "barmode": "relative",
        "coloraxis": {
         "colorbar": {
          "title": {
           "text": "Pay Gap ($)"
          }
         },
         "colorscale": [
          [
           0,
           "rgb(103,0,31)"
          ],
          [
           0.1,
           "rgb(178,24,43)"
          ],
          [
           0.2,
           "rgb(214,96,77)"
          ],
          [
           0.3,
           "rgb(244,165,130)"
          ],
          [
           0.4,
           "rgb(253,219,199)"
          ],
          [
           0.5,
           "rgb(247,247,247)"
          ],
          [
           0.6,
           "rgb(209,229,240)"
          ],
          [
           0.7,
           "rgb(146,197,222)"
          ],
          [
           0.8,
           "rgb(67,147,195)"
          ],
          [
           0.9,
           "rgb(33,102,172)"
          ],
          [
           1,
           "rgb(5,48,97)"
          ]
         ]
        },
        "legend": {
         "tracegroupgap": 0
        },
        "template": {
         "data": {
          "bar": [
           {
            "error_x": {
             "color": "#2a3f5f"
            },
            "error_y": {
             "color": "#2a3f5f"
            },
            "marker": {
             "line": {
              "color": "#E5ECF6",
              "width": 0.5
             },
             "pattern": {
              "fillmode": "overlay",
              "size": 10,
              "solidity": 0.2
             }
            },
            "type": "bar"
           }
          ],
          "barpolar": [
           {
            "marker": {
             "line": {
              "color": "#E5ECF6",
              "width": 0.5
             },
             "pattern": {
              "fillmode": "overlay",
              "size": 10,
              "solidity": 0.2
             }
            },
            "type": "barpolar"
           }
          ],
          "carpet": [
           {
            "aaxis": {
             "endlinecolor": "#2a3f5f",
             "gridcolor": "white",
             "linecolor": "white",
             "minorgridcolor": "white",
             "startlinecolor": "#2a3f5f"
            },
            "baxis": {
             "endlinecolor": "#2a3f5f",
             "gridcolor": "white",
             "linecolor": "white",
             "minorgridcolor": "white",
             "startlinecolor": "#2a3f5f"
            },
            "type": "carpet"
           }
          ],
          "choropleth": [
           {
            "colorbar": {
             "outlinewidth": 0,
             "ticks": ""
            },
            "type": "choropleth"
           }
          ],
          "contour": [
           {
            "colorbar": {
             "outlinewidth": 0,
             "ticks": ""
            },
            "colorscale": [
             [
              0,
              "#0d0887"
             ],
             [
              0.1111111111111111,
              "#46039f"
             ],
             [
              0.2222222222222222,
              "#7201a8"
             ],
             [
              0.3333333333333333,
              "#9c179e"
             ],
             [
              0.4444444444444444,
              "#bd3786"
             ],
             [
              0.5555555555555556,
              "#d8576b"
             ],
             [
              0.6666666666666666,
              "#ed7953"
             ],
             [
              0.7777777777777778,
              "#fb9f3a"
             ],
             [
              0.8888888888888888,
              "#fdca26"
             ],
             [
              1,
              "#f0f921"
             ]
            ],
            "type": "contour"
           }
          ],
          "contourcarpet": [
           {
            "colorbar": {
             "outlinewidth": 0,
             "ticks": ""
            },
            "type": "contourcarpet"
           }
          ],
          "heatmap": [
           {
            "colorbar": {
             "outlinewidth": 0,
             "ticks": ""
            },
            "colorscale": [
             [
              0,
              "#0d0887"
             ],
             [
              0.1111111111111111,
              "#46039f"
             ],
             [
              0.2222222222222222,
              "#7201a8"
             ],
             [
              0.3333333333333333,
              "#9c179e"
             ],
             [
              0.4444444444444444,
              "#bd3786"
             ],
             [
              0.5555555555555556,
              "#d8576b"
             ],
             [
              0.6666666666666666,
              "#ed7953"
             ],
             [
              0.7777777777777778,
              "#fb9f3a"
             ],
             [
              0.8888888888888888,
              "#fdca26"
             ],
             [
              1,
              "#f0f921"
             ]
            ],
            "type": "heatmap"
           }
          ],
          "heatmapgl": [
           {
            "colorbar": {
             "outlinewidth": 0,
             "ticks": ""
            },
            "colorscale": [
             [
              0,
              "#0d0887"
             ],
             [
              0.1111111111111111,
              "#46039f"
             ],
             [
              0.2222222222222222,
              "#7201a8"
             ],
             [
              0.3333333333333333,
              "#9c179e"
             ],
             [
              0.4444444444444444,
              "#bd3786"
             ],
             [
              0.5555555555555556,
              "#d8576b"
             ],
             [
              0.6666666666666666,
              "#ed7953"
             ],
             [
              0.7777777777777778,
              "#fb9f3a"
             ],
             [
              0.8888888888888888,
              "#fdca26"
             ],
             [
              1,
              "#f0f921"
             ]
            ],
            "type": "heatmapgl"
           }
          ],
          "histogram": [
           {
            "marker": {
             "pattern": {
              "fillmode": "overlay",
              "size": 10,
              "solidity": 0.2
             }
            },
            "type": "histogram"
           }
          ],
          "histogram2d": [
           {
            "colorbar": {
             "outlinewidth": 0,
             "ticks": ""
            },
            "colorscale": [
             [
              0,
              "#0d0887"
             ],
             [
              0.1111111111111111,
              "#46039f"
             ],
             [
              0.2222222222222222,
              "#7201a8"
             ],
             [
              0.3333333333333333,
              "#9c179e"
             ],
             [
              0.4444444444444444,
              "#bd3786"
             ],
             [
              0.5555555555555556,
              "#d8576b"
             ],
             [
              0.6666666666666666,
              "#ed7953"
             ],
             [
              0.7777777777777778,
              "#fb9f3a"
             ],
             [
              0.8888888888888888,
              "#fdca26"
             ],
             [
              1,
              "#f0f921"
             ]
            ],
            "type": "histogram2d"
           }
          ],
          "histogram2dcontour": [
           {
            "colorbar": {
             "outlinewidth": 0,
             "ticks": ""
            },
            "colorscale": [
             [
              0,
              "#0d0887"
             ],
             [
              0.1111111111111111,
              "#46039f"
             ],
             [
              0.2222222222222222,
              "#7201a8"
             ],
             [
              0.3333333333333333,
              "#9c179e"
             ],
             [
              0.4444444444444444,
              "#bd3786"
             ],
             [
              0.5555555555555556,
              "#d8576b"
             ],
             [
              0.6666666666666666,
              "#ed7953"
             ],
             [
              0.7777777777777778,
              "#fb9f3a"
             ],
             [
              0.8888888888888888,
              "#fdca26"
             ],
             [
              1,
              "#f0f921"
             ]
            ],
            "type": "histogram2dcontour"
           }
          ],
          "mesh3d": [
           {
            "colorbar": {
             "outlinewidth": 0,
             "ticks": ""
            },
            "type": "mesh3d"
           }
          ],
          "parcoords": [
           {
            "line": {
             "colorbar": {
              "outlinewidth": 0,
              "ticks": ""
             }
            },
            "type": "parcoords"
           }
          ],
          "pie": [
           {
            "automargin": true,
            "type": "pie"
           }
          ],
          "scatter": [
           {
            "fillpattern": {
             "fillmode": "overlay",
             "size": 10,
             "solidity": 0.2
            },
            "type": "scatter"
           }
          ],
          "scatter3d": [
           {
            "line": {
             "colorbar": {
              "outlinewidth": 0,
              "ticks": ""
             }
            },
            "marker": {
             "colorbar": {
              "outlinewidth": 0,
              "ticks": ""
             }
            },
            "type": "scatter3d"
           }
          ],
          "scattercarpet": [
           {
            "marker": {
             "colorbar": {
              "outlinewidth": 0,
              "ticks": ""
             }
            },
            "type": "scattercarpet"
           }
          ],
          "scattergeo": [
           {
            "marker": {
             "colorbar": {
              "outlinewidth": 0,
              "ticks": ""
             }
            },
            "type": "scattergeo"
           }
          ],
          "scattergl": [
           {
            "marker": {
             "colorbar": {
              "outlinewidth": 0,
              "ticks": ""
             }
            },
            "type": "scattergl"
           }
          ],
          "scattermapbox": [
           {
            "marker": {
             "colorbar": {
              "outlinewidth": 0,
              "ticks": ""
             }
            },
            "type": "scattermapbox"
           }
          ],
          "scatterpolar": [
           {
            "marker": {
             "colorbar": {
              "outlinewidth": 0,
              "ticks": ""
             }
            },
            "type": "scatterpolar"
           }
          ],
          "scatterpolargl": [
           {
            "marker": {
             "colorbar": {
              "outlinewidth": 0,
              "ticks": ""
             }
            },
            "type": "scatterpolargl"
           }
          ],
          "scatterternary": [
           {
            "marker": {
             "colorbar": {
              "outlinewidth": 0,
              "ticks": ""
             }
            },
            "type": "scatterternary"
           }
          ],
          "surface": [
           {
            "colorbar": {
             "outlinewidth": 0,
             "ticks": ""
            },
            "colorscale": [
             [
              0,
              "#0d0887"
             ],
             [
              0.1111111111111111,
              "#46039f"
             ],
             [
              0.2222222222222222,
              "#7201a8"
             ],
             [
              0.3333333333333333,
              "#9c179e"
             ],
             [
              0.4444444444444444,
              "#bd3786"
             ],
             [
              0.5555555555555556,
              "#d8576b"
             ],
             [
              0.6666666666666666,
              "#ed7953"
             ],
             [
              0.7777777777777778,
              "#fb9f3a"
             ],
             [
              0.8888888888888888,
              "#fdca26"
             ],
             [
              1,
              "#f0f921"
             ]
            ],
            "type": "surface"
           }
          ],
          "table": [
           {
            "cells": {
             "fill": {
              "color": "#EBF0F8"
             },
             "line": {
              "color": "white"
             }
            },
            "header": {
             "fill": {
              "color": "#C8D4E3"
             },
             "line": {
              "color": "white"
             }
            },
            "type": "table"
           }
          ]
         },
         "layout": {
          "annotationdefaults": {
           "arrowcolor": "#2a3f5f",
           "arrowhead": 0,
           "arrowwidth": 1
          },
          "autotypenumbers": "strict",
          "coloraxis": {
           "colorbar": {
            "outlinewidth": 0,
            "ticks": ""
           }
          },
          "colorscale": {
           "diverging": [
            [
             0,
             "#8e0152"
            ],
            [
             0.1,
             "#c51b7d"
            ],
            [
             0.2,
             "#de77ae"
            ],
            [
             0.3,
             "#f1b6da"
            ],
            [
             0.4,
             "#fde0ef"
            ],
            [
             0.5,
             "#f7f7f7"
            ],
            [
             0.6,
             "#e6f5d0"
            ],
            [
             0.7,
             "#b8e186"
            ],
            [
             0.8,
             "#7fbc41"
            ],
            [
             0.9,
             "#4d9221"
            ],
            [
             1,
             "#276419"
            ]
           ],
           "sequential": [
            [
             0,
             "#0d0887"
            ],
            [
             0.1111111111111111,
             "#46039f"
            ],
            [
             0.2222222222222222,
             "#7201a8"
            ],
            [
             0.3333333333333333,
             "#9c179e"
            ],
            [
             0.4444444444444444,
             "#bd3786"
            ],
            [
             0.5555555555555556,
             "#d8576b"
            ],
            [
             0.6666666666666666,
             "#ed7953"
            ],
            [
             0.7777777777777778,
             "#fb9f3a"
            ],
            [
             0.8888888888888888,
             "#fdca26"
            ],
            [
             1,
             "#f0f921"
            ]
           ],
           "sequentialminus": [
            [
             0,
             "#0d0887"
            ],
            [
             0.1111111111111111,
             "#46039f"
            ],
            [
             0.2222222222222222,
             "#7201a8"
            ],
            [
             0.3333333333333333,
             "#9c179e"
            ],
            [
             0.4444444444444444,
             "#bd3786"
            ],
            [
             0.5555555555555556,
             "#d8576b"
            ],
            [
             0.6666666666666666,
             "#ed7953"
            ],
            [
             0.7777777777777778,
             "#fb9f3a"
            ],
            [
             0.8888888888888888,
             "#fdca26"
            ],
            [
             1,
             "#f0f921"
            ]
           ]
          },
          "colorway": [
           "#636efa",
           "#EF553B",
           "#00cc96",
           "#ab63fa",
           "#FFA15A",
           "#19d3f3",
           "#FF6692",
           "#B6E880",
           "#FF97FF",
           "#FECB52"
          ],
          "font": {
           "color": "#2a3f5f"
          },
          "geo": {
           "bgcolor": "white",
           "lakecolor": "white",
           "landcolor": "#E5ECF6",
           "showlakes": true,
           "showland": true,
           "subunitcolor": "white"
          },
          "hoverlabel": {
           "align": "left"
          },
          "hovermode": "closest",
          "mapbox": {
           "style": "light"
          },
          "paper_bgcolor": "white",
          "plot_bgcolor": "#E5ECF6",
          "polar": {
           "angularaxis": {
            "gridcolor": "white",
            "linecolor": "white",
            "ticks": ""
           },
           "bgcolor": "#E5ECF6",
           "radialaxis": {
            "gridcolor": "white",
            "linecolor": "white",
            "ticks": ""
           }
          },
          "scene": {
           "xaxis": {
            "backgroundcolor": "#E5ECF6",
            "gridcolor": "white",
            "gridwidth": 2,
            "linecolor": "white",
            "showbackground": true,
            "ticks": "",
            "zerolinecolor": "white"
           },
           "yaxis": {
            "backgroundcolor": "#E5ECF6",
            "gridcolor": "white",
            "gridwidth": 2,
            "linecolor": "white",
            "showbackground": true,
            "ticks": "",
            "zerolinecolor": "white"
           },
           "zaxis": {
            "backgroundcolor": "#E5ECF6",
            "gridcolor": "white",
            "gridwidth": 2,
            "linecolor": "white",
            "showbackground": true,
            "ticks": "",
            "zerolinecolor": "white"
           }
          },
          "shapedefaults": {
           "line": {
            "color": "#2a3f5f"
           }
          },
          "ternary": {
           "aaxis": {
            "gridcolor": "white",
            "linecolor": "white",
            "ticks": ""
           },
           "baxis": {
            "gridcolor": "white",
            "linecolor": "white",
            "ticks": ""
           },
           "bgcolor": "#E5ECF6",
           "caxis": {
            "gridcolor": "white",
            "linecolor": "white",
            "ticks": ""
           }
          },
          "title": {
           "x": 0.05
          },
          "xaxis": {
           "automargin": true,
           "gridcolor": "white",
           "linecolor": "white",
           "ticks": "",
           "title": {
            "standoff": 15
           },
           "zerolinecolor": "white",
           "zerolinewidth": 2
          },
          "yaxis": {
           "automargin": true,
           "gridcolor": "white",
           "linecolor": "white",
           "ticks": "",
           "title": {
            "standoff": 15
           },
           "zerolinecolor": "white",
           "zerolinewidth": 2
          }
         }
        },
        "title": {
         "text": "Gender Pay Gap by Occupation (Male - Female)"
        },
        "xaxis": {
         "anchor": "y",
         "domain": [
          0,
          1
         ],
         "title": {
          "text": "Pay Gap ($)"
         }
        },
        "yaxis": {
         "anchor": "x",
         "categoryorder": "total ascending",
         "domain": [
          0,
          1
         ],
         "title": {
          "text": "Occupation"
         }
        }
       }
      }
     },
     "metadata": {},
     "output_type": "display_data"
    }
   ],
   "source": [
    "\n",
    "fig1 = px.bar(\n",
    "    gender_pay_gap.reset_index(),\n",
    "    x='Gap',\n",
    "    y='Occupation',\n",
    "    orientation='h',\n",
    "    color='Gap',\n",
    "    color_continuous_scale='RdBu',\n",
    "    title='Gender Pay Gap by Occupation (Male - Female)',\n",
    "    labels={'Gap': 'Pay Gap ($)'}\n",
    ")\n",
    "\n",
    "fig1.update_layout(yaxis={'categoryorder': 'total ascending'})\n",
    "fig1.show()\n"
   ]
  },
  {
   "cell_type": "code",
   "execution_count": 34,
   "metadata": {},
   "outputs": [
    {
     "data": {
      "application/vnd.plotly.v1+json": {
       "config": {
        "plotlyServerURL": "https://plot.ly"
       },
       "data": [
        {
         "alignmentgroup": "True",
         "hovertemplate": "Gender=Male<br>Earnings=%{x}<br>Occupation=%{y}<extra></extra>",
         "legendgroup": "Male",
         "marker": {
          "color": "#636efa",
          "pattern": {
           "shape": ""
          }
         },
         "name": "Male",
         "offsetgroup": "Male",
         "orientation": "h",
         "showlegend": true,
         "textposition": "auto",
         "type": "bar",
         "x": [
          1742.1002896891532,
          1281.4336761811762,
          658.8965879771706,
          1716.2848235051308,
          1166.5417761199192,
          1851.3559059305173,
          999.3375943401696,
          1294.0425871087307,
          651.5783365374105,
          525.6234302668852,
          1695.5055656983934,
          735.4823332507021,
          1055.7815911482796,
          2156.503314036551,
          1593.586024695576,
          1863.4394036506292,
          875.2608066948465,
          646.706916921319,
          933.5648719682258,
          1108.1551841584296,
          1131.9237039176624,
          848.9628432769813
         ],
         "xaxis": "x",
         "y": [
          "Architecture and engineering occupations",
          "Arts, design, entertainment, sports, and media occupations",
          "Building and grounds cleaning and maintenance occupations",
          "Business and financial operations occupations",
          "Community and social service occupations",
          "Computer and mathematical occupations",
          "Construction and extraction occupations",
          "Education instruction and library occupations",
          "Farming, fishing, and forestry occupations",
          "Food preparation and serving related occupations",
          "Healthcare practitioner and technical occupations",
          "Healthcare support occupations",
          "Installation, maintenance, and repair occupations",
          "Legal occupations",
          "Life, physical, and social science occupations",
          "Management occupations",
          "Office and administrative support occupations",
          "Personal care and service occupations",
          "Production occupations",
          "Protective service occupations",
          "Sales and related occupations",
          "Transportation and material moving occupations"
         ],
         "yaxis": "y"
        },
        {
         "alignmentgroup": "True",
         "hovertemplate": "Gender=Female<br>Earnings=%{x}<br>Occupation=%{y}<extra></extra>",
         "legendgroup": "Female",
         "marker": {
          "color": "#EF553B",
          "pattern": {
           "shape": ""
          }
         },
         "name": "Female",
         "offsetgroup": "Female",
         "orientation": "h",
         "showlegend": true,
         "textposition": "auto",
         "type": "bar",
         "x": [
          1481.239809997668,
          1037.9998507681673,
          463.5959993019959,
          1341.284385355429,
          1029.497984029098,
          1543.0776002169823,
          819.7198650223237,
          1002.8505871501651,
          513.7670458878682,
          419.8121321458886,
          1239.9225466194277,
          587.1351770835724,
          905.1366267357055,
          1498.4876467853953,
          1375.61120489802,
          1466.4560958129798,
          750.3579033194583,
          488.5203723926755,
          664.8151880757973,
          805.1985741529105,
          689.5552542732884,
          619.703615309754
         ],
         "xaxis": "x",
         "y": [
          "Architecture and engineering occupations",
          "Arts, design, entertainment, sports, and media occupations",
          "Building and grounds cleaning and maintenance occupations",
          "Business and financial operations occupations",
          "Community and social service occupations",
          "Computer and mathematical occupations",
          "Construction and extraction occupations",
          "Education instruction and library occupations",
          "Farming, fishing, and forestry occupations",
          "Food preparation and serving related occupations",
          "Healthcare practitioner and technical occupations",
          "Healthcare support occupations",
          "Installation, maintenance, and repair occupations",
          "Legal occupations",
          "Life, physical, and social science occupations",
          "Management occupations",
          "Office and administrative support occupations",
          "Personal care and service occupations",
          "Production occupations",
          "Protective service occupations",
          "Sales and related occupations",
          "Transportation and material moving occupations"
         ],
         "yaxis": "y"
        }
       ],
       "layout": {
        "barmode": "group",
        "legend": {
         "title": {
          "text": "Gender"
         },
         "tracegroupgap": 0
        },
        "template": {
         "data": {
          "bar": [
           {
            "error_x": {
             "color": "#2a3f5f"
            },
            "error_y": {
             "color": "#2a3f5f"
            },
            "marker": {
             "line": {
              "color": "#E5ECF6",
              "width": 0.5
             },
             "pattern": {
              "fillmode": "overlay",
              "size": 10,
              "solidity": 0.2
             }
            },
            "type": "bar"
           }
          ],
          "barpolar": [
           {
            "marker": {
             "line": {
              "color": "#E5ECF6",
              "width": 0.5
             },
             "pattern": {
              "fillmode": "overlay",
              "size": 10,
              "solidity": 0.2
             }
            },
            "type": "barpolar"
           }
          ],
          "carpet": [
           {
            "aaxis": {
             "endlinecolor": "#2a3f5f",
             "gridcolor": "white",
             "linecolor": "white",
             "minorgridcolor": "white",
             "startlinecolor": "#2a3f5f"
            },
            "baxis": {
             "endlinecolor": "#2a3f5f",
             "gridcolor": "white",
             "linecolor": "white",
             "minorgridcolor": "white",
             "startlinecolor": "#2a3f5f"
            },
            "type": "carpet"
           }
          ],
          "choropleth": [
           {
            "colorbar": {
             "outlinewidth": 0,
             "ticks": ""
            },
            "type": "choropleth"
           }
          ],
          "contour": [
           {
            "colorbar": {
             "outlinewidth": 0,
             "ticks": ""
            },
            "colorscale": [
             [
              0,
              "#0d0887"
             ],
             [
              0.1111111111111111,
              "#46039f"
             ],
             [
              0.2222222222222222,
              "#7201a8"
             ],
             [
              0.3333333333333333,
              "#9c179e"
             ],
             [
              0.4444444444444444,
              "#bd3786"
             ],
             [
              0.5555555555555556,
              "#d8576b"
             ],
             [
              0.6666666666666666,
              "#ed7953"
             ],
             [
              0.7777777777777778,
              "#fb9f3a"
             ],
             [
              0.8888888888888888,
              "#fdca26"
             ],
             [
              1,
              "#f0f921"
             ]
            ],
            "type": "contour"
           }
          ],
          "contourcarpet": [
           {
            "colorbar": {
             "outlinewidth": 0,
             "ticks": ""
            },
            "type": "contourcarpet"
           }
          ],
          "heatmap": [
           {
            "colorbar": {
             "outlinewidth": 0,
             "ticks": ""
            },
            "colorscale": [
             [
              0,
              "#0d0887"
             ],
             [
              0.1111111111111111,
              "#46039f"
             ],
             [
              0.2222222222222222,
              "#7201a8"
             ],
             [
              0.3333333333333333,
              "#9c179e"
             ],
             [
              0.4444444444444444,
              "#bd3786"
             ],
             [
              0.5555555555555556,
              "#d8576b"
             ],
             [
              0.6666666666666666,
              "#ed7953"
             ],
             [
              0.7777777777777778,
              "#fb9f3a"
             ],
             [
              0.8888888888888888,
              "#fdca26"
             ],
             [
              1,
              "#f0f921"
             ]
            ],
            "type": "heatmap"
           }
          ],
          "heatmapgl": [
           {
            "colorbar": {
             "outlinewidth": 0,
             "ticks": ""
            },
            "colorscale": [
             [
              0,
              "#0d0887"
             ],
             [
              0.1111111111111111,
              "#46039f"
             ],
             [
              0.2222222222222222,
              "#7201a8"
             ],
             [
              0.3333333333333333,
              "#9c179e"
             ],
             [
              0.4444444444444444,
              "#bd3786"
             ],
             [
              0.5555555555555556,
              "#d8576b"
             ],
             [
              0.6666666666666666,
              "#ed7953"
             ],
             [
              0.7777777777777778,
              "#fb9f3a"
             ],
             [
              0.8888888888888888,
              "#fdca26"
             ],
             [
              1,
              "#f0f921"
             ]
            ],
            "type": "heatmapgl"
           }
          ],
          "histogram": [
           {
            "marker": {
             "pattern": {
              "fillmode": "overlay",
              "size": 10,
              "solidity": 0.2
             }
            },
            "type": "histogram"
           }
          ],
          "histogram2d": [
           {
            "colorbar": {
             "outlinewidth": 0,
             "ticks": ""
            },
            "colorscale": [
             [
              0,
              "#0d0887"
             ],
             [
              0.1111111111111111,
              "#46039f"
             ],
             [
              0.2222222222222222,
              "#7201a8"
             ],
             [
              0.3333333333333333,
              "#9c179e"
             ],
             [
              0.4444444444444444,
              "#bd3786"
             ],
             [
              0.5555555555555556,
              "#d8576b"
             ],
             [
              0.6666666666666666,
              "#ed7953"
             ],
             [
              0.7777777777777778,
              "#fb9f3a"
             ],
             [
              0.8888888888888888,
              "#fdca26"
             ],
             [
              1,
              "#f0f921"
             ]
            ],
            "type": "histogram2d"
           }
          ],
          "histogram2dcontour": [
           {
            "colorbar": {
             "outlinewidth": 0,
             "ticks": ""
            },
            "colorscale": [
             [
              0,
              "#0d0887"
             ],
             [
              0.1111111111111111,
              "#46039f"
             ],
             [
              0.2222222222222222,
              "#7201a8"
             ],
             [
              0.3333333333333333,
              "#9c179e"
             ],
             [
              0.4444444444444444,
              "#bd3786"
             ],
             [
              0.5555555555555556,
              "#d8576b"
             ],
             [
              0.6666666666666666,
              "#ed7953"
             ],
             [
              0.7777777777777778,
              "#fb9f3a"
             ],
             [
              0.8888888888888888,
              "#fdca26"
             ],
             [
              1,
              "#f0f921"
             ]
            ],
            "type": "histogram2dcontour"
           }
          ],
          "mesh3d": [
           {
            "colorbar": {
             "outlinewidth": 0,
             "ticks": ""
            },
            "type": "mesh3d"
           }
          ],
          "parcoords": [
           {
            "line": {
             "colorbar": {
              "outlinewidth": 0,
              "ticks": ""
             }
            },
            "type": "parcoords"
           }
          ],
          "pie": [
           {
            "automargin": true,
            "type": "pie"
           }
          ],
          "scatter": [
           {
            "fillpattern": {
             "fillmode": "overlay",
             "size": 10,
             "solidity": 0.2
            },
            "type": "scatter"
           }
          ],
          "scatter3d": [
           {
            "line": {
             "colorbar": {
              "outlinewidth": 0,
              "ticks": ""
             }
            },
            "marker": {
             "colorbar": {
              "outlinewidth": 0,
              "ticks": ""
             }
            },
            "type": "scatter3d"
           }
          ],
          "scattercarpet": [
           {
            "marker": {
             "colorbar": {
              "outlinewidth": 0,
              "ticks": ""
             }
            },
            "type": "scattercarpet"
           }
          ],
          "scattergeo": [
           {
            "marker": {
             "colorbar": {
              "outlinewidth": 0,
              "ticks": ""
             }
            },
            "type": "scattergeo"
           }
          ],
          "scattergl": [
           {
            "marker": {
             "colorbar": {
              "outlinewidth": 0,
              "ticks": ""
             }
            },
            "type": "scattergl"
           }
          ],
          "scattermapbox": [
           {
            "marker": {
             "colorbar": {
              "outlinewidth": 0,
              "ticks": ""
             }
            },
            "type": "scattermapbox"
           }
          ],
          "scatterpolar": [
           {
            "marker": {
             "colorbar": {
              "outlinewidth": 0,
              "ticks": ""
             }
            },
            "type": "scatterpolar"
           }
          ],
          "scatterpolargl": [
           {
            "marker": {
             "colorbar": {
              "outlinewidth": 0,
              "ticks": ""
             }
            },
            "type": "scatterpolargl"
           }
          ],
          "scatterternary": [
           {
            "marker": {
             "colorbar": {
              "outlinewidth": 0,
              "ticks": ""
             }
            },
            "type": "scatterternary"
           }
          ],
          "surface": [
           {
            "colorbar": {
             "outlinewidth": 0,
             "ticks": ""
            },
            "colorscale": [
             [
              0,
              "#0d0887"
             ],
             [
              0.1111111111111111,
              "#46039f"
             ],
             [
              0.2222222222222222,
              "#7201a8"
             ],
             [
              0.3333333333333333,
              "#9c179e"
             ],
             [
              0.4444444444444444,
              "#bd3786"
             ],
             [
              0.5555555555555556,
              "#d8576b"
             ],
             [
              0.6666666666666666,
              "#ed7953"
             ],
             [
              0.7777777777777778,
              "#fb9f3a"
             ],
             [
              0.8888888888888888,
              "#fdca26"
             ],
             [
              1,
              "#f0f921"
             ]
            ],
            "type": "surface"
           }
          ],
          "table": [
           {
            "cells": {
             "fill": {
              "color": "#EBF0F8"
             },
             "line": {
              "color": "white"
             }
            },
            "header": {
             "fill": {
              "color": "#C8D4E3"
             },
             "line": {
              "color": "white"
             }
            },
            "type": "table"
           }
          ]
         },
         "layout": {
          "annotationdefaults": {
           "arrowcolor": "#2a3f5f",
           "arrowhead": 0,
           "arrowwidth": 1
          },
          "autotypenumbers": "strict",
          "coloraxis": {
           "colorbar": {
            "outlinewidth": 0,
            "ticks": ""
           }
          },
          "colorscale": {
           "diverging": [
            [
             0,
             "#8e0152"
            ],
            [
             0.1,
             "#c51b7d"
            ],
            [
             0.2,
             "#de77ae"
            ],
            [
             0.3,
             "#f1b6da"
            ],
            [
             0.4,
             "#fde0ef"
            ],
            [
             0.5,
             "#f7f7f7"
            ],
            [
             0.6,
             "#e6f5d0"
            ],
            [
             0.7,
             "#b8e186"
            ],
            [
             0.8,
             "#7fbc41"
            ],
            [
             0.9,
             "#4d9221"
            ],
            [
             1,
             "#276419"
            ]
           ],
           "sequential": [
            [
             0,
             "#0d0887"
            ],
            [
             0.1111111111111111,
             "#46039f"
            ],
            [
             0.2222222222222222,
             "#7201a8"
            ],
            [
             0.3333333333333333,
             "#9c179e"
            ],
            [
             0.4444444444444444,
             "#bd3786"
            ],
            [
             0.5555555555555556,
             "#d8576b"
            ],
            [
             0.6666666666666666,
             "#ed7953"
            ],
            [
             0.7777777777777778,
             "#fb9f3a"
            ],
            [
             0.8888888888888888,
             "#fdca26"
            ],
            [
             1,
             "#f0f921"
            ]
           ],
           "sequentialminus": [
            [
             0,
             "#0d0887"
            ],
            [
             0.1111111111111111,
             "#46039f"
            ],
            [
             0.2222222222222222,
             "#7201a8"
            ],
            [
             0.3333333333333333,
             "#9c179e"
            ],
            [
             0.4444444444444444,
             "#bd3786"
            ],
            [
             0.5555555555555556,
             "#d8576b"
            ],
            [
             0.6666666666666666,
             "#ed7953"
            ],
            [
             0.7777777777777778,
             "#fb9f3a"
            ],
            [
             0.8888888888888888,
             "#fdca26"
            ],
            [
             1,
             "#f0f921"
            ]
           ]
          },
          "colorway": [
           "#636efa",
           "#EF553B",
           "#00cc96",
           "#ab63fa",
           "#FFA15A",
           "#19d3f3",
           "#FF6692",
           "#B6E880",
           "#FF97FF",
           "#FECB52"
          ],
          "font": {
           "color": "#2a3f5f"
          },
          "geo": {
           "bgcolor": "white",
           "lakecolor": "white",
           "landcolor": "#E5ECF6",
           "showlakes": true,
           "showland": true,
           "subunitcolor": "white"
          },
          "hoverlabel": {
           "align": "left"
          },
          "hovermode": "closest",
          "mapbox": {
           "style": "light"
          },
          "paper_bgcolor": "white",
          "plot_bgcolor": "#E5ECF6",
          "polar": {
           "angularaxis": {
            "gridcolor": "white",
            "linecolor": "white",
            "ticks": ""
           },
           "bgcolor": "#E5ECF6",
           "radialaxis": {
            "gridcolor": "white",
            "linecolor": "white",
            "ticks": ""
           }
          },
          "scene": {
           "xaxis": {
            "backgroundcolor": "#E5ECF6",
            "gridcolor": "white",
            "gridwidth": 2,
            "linecolor": "white",
            "showbackground": true,
            "ticks": "",
            "zerolinecolor": "white"
           },
           "yaxis": {
            "backgroundcolor": "#E5ECF6",
            "gridcolor": "white",
            "gridwidth": 2,
            "linecolor": "white",
            "showbackground": true,
            "ticks": "",
            "zerolinecolor": "white"
           },
           "zaxis": {
            "backgroundcolor": "#E5ECF6",
            "gridcolor": "white",
            "gridwidth": 2,
            "linecolor": "white",
            "showbackground": true,
            "ticks": "",
            "zerolinecolor": "white"
           }
          },
          "shapedefaults": {
           "line": {
            "color": "#2a3f5f"
           }
          },
          "ternary": {
           "aaxis": {
            "gridcolor": "white",
            "linecolor": "white",
            "ticks": ""
           },
           "baxis": {
            "gridcolor": "white",
            "linecolor": "white",
            "ticks": ""
           },
           "bgcolor": "#E5ECF6",
           "caxis": {
            "gridcolor": "white",
            "linecolor": "white",
            "ticks": ""
           }
          },
          "title": {
           "x": 0.05
          },
          "xaxis": {
           "automargin": true,
           "gridcolor": "white",
           "linecolor": "white",
           "ticks": "",
           "title": {
            "standoff": 15
           },
           "zerolinecolor": "white",
           "zerolinewidth": 2
          },
          "yaxis": {
           "automargin": true,
           "gridcolor": "white",
           "linecolor": "white",
           "ticks": "",
           "title": {
            "standoff": 15
           },
           "zerolinecolor": "white",
           "zerolinewidth": 2
          }
         }
        },
        "title": {
         "text": "Male vs. Female Weekly Earnings by Occupation (Weighted)"
        },
        "xaxis": {
         "anchor": "y",
         "domain": [
          0,
          1
         ],
         "title": {
          "text": "Earnings"
         }
        },
        "yaxis": {
         "anchor": "x",
         "categoryorder": "total ascending",
         "domain": [
          0,
          1
         ],
         "title": {
          "text": "Occupation"
         }
        }
       }
      }
     },
     "metadata": {},
     "output_type": "display_data"
    }
   ],
   "source": [
    "df_compare = weighted_means[['Male', 'Female']].reset_index()\n",
    "\n",
    "fig2 = px.bar(\n",
    "    df_compare.melt(id_vars='Occupation', value_vars=['Male', 'Female'], var_name='Gender', value_name='Earnings'),\n",
    "    x='Earnings',\n",
    "    y='Occupation',\n",
    "    color='Gender',\n",
    "    barmode='group',\n",
    "    title='Male vs. Female Weekly Earnings by Occupation (Weighted)'\n",
    ")\n",
    "\n",
    "fig2.update_layout(yaxis={'categoryorder': 'total ascending'})\n",
    "fig2.show()"
   ]
  },
  {
   "cell_type": "code",
   "execution_count": null,
   "metadata": {},
   "outputs": [],
   "source": [
    "summary_df.to_csv(\"outputs/avg_wage_data_over_time.csv\")"
   ]
  },
  {
   "cell_type": "code",
   "execution_count": null,
   "metadata": {},
   "outputs": [],
   "source": [
    "conn.close()"
   ]
  }
 ],
 "metadata": {
  "kernelspec": {
   "display_name": "dev",
   "language": "python",
   "name": "python3"
  },
  "language_info": {
   "codemirror_mode": {
    "name": "ipython",
    "version": 3
   },
   "file_extension": ".py",
   "mimetype": "text/x-python",
   "name": "python",
   "nbconvert_exporter": "python",
   "pygments_lexer": "ipython3",
   "version": "3.10.16"
  }
 },
 "nbformat": 4,
 "nbformat_minor": 2
}
