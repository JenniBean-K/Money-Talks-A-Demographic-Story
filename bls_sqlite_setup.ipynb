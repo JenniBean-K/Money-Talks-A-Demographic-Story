{
 "cells": [
  {
   "cell_type": "code",
   "execution_count": 3,
   "metadata": {},
   "outputs": [
    {
     "name": "stdout",
     "output_type": "stream",
     "text": [
      "   year month     Sex            Marital_Status        Race Native_Country  \\\n",
      "0  2014   jan    Male                  Divorced  White only  United States   \n",
      "1  2014   jan  Female                   Widowed  White only  United States   \n",
      "2  2014   jan  Female             Never married  White only  United States   \n",
      "3  2014   jan  Female             Never married  Asian only       Thailand   \n",
      "4  2014   jan    Male  Married - spouse present  White only    El Salvador   \n",
      "\n",
      "           Industry                                      Occupation  \\\n",
      "0  State government  Transportation and material moving occupations   \n",
      "1  State government   Office and administrative support occupations   \n",
      "2  State government        Community and social service occupations   \n",
      "3  State government        Community and social service occupations   \n",
      "4  State government  Transportation and material moving occupations   \n",
      "\n",
      "  Education_Enrollment FT/PT_Enrollment Education_Level_Attained  \\\n",
      "0                 None             None        Bachelor's degree   \n",
      "1                 None             None     High school graduate   \n",
      "2             Enrolled        Full time          Master's degree   \n",
      "3             Enrolled        Full time          Master's degree   \n",
      "4         Not enrolled             None     High school graduate   \n",
      "\n",
      "           Household_Member_Status  Weekly_Earnings  \\\n",
      "0  Adult civilian household member           1620.0   \n",
      "1  Adult civilian household member            162.0   \n",
      "2  Adult civilian household member            384.0   \n",
      "3  Adult civilian household member            320.0   \n",
      "4  Adult civilian household member            650.0   \n",
      "\n",
      "  Weekly_Earnings_Categories    PWSSWGT  \n",
      "0                  1500-1999  3561.0809  \n",
      "1                       <250  3322.0487  \n",
      "2                    250-499  2671.0752  \n",
      "3                    250-499  3012.7100  \n",
      "4                    500-749  3598.1304  \n"
     ]
    }
   ],
   "source": [
    "import pandas as pd\n",
    "import sqlite3\n",
    "\n",
    "# Step 1: Load your CSV into a DataFrame\n",
    "csv_file = '/Users/joeportnoy/Desktop/repos/Money-Talks-A-Demographic-Story/outputs/bls_data.csv'\n",
    "df = pd.read_csv(csv_file)\n",
    "\n",
    "# Step 2: Clean up column names (SQLite doesn't like spaces)\n",
    "df.columns = [col.strip().replace(' ', '_') for col in df.columns]\n",
    "\n",
    "# Step 3: Connect to SQLite database (creates one if it doesn't exist)\n",
    "conn = sqlite3.connect('outputs/bls_wage_data.db')\n",
    "cursor = conn.cursor()\n",
    "\n",
    "# Step 4: Write DataFrame to SQL table\n",
    "df.to_sql('earnings', conn, if_exists='replace', index=False)\n",
    "\n",
    "# Optional: View some records to verify\n",
    "sample = pd.read_sql_query(\"SELECT * FROM earnings LIMIT 5\", conn)\n",
    "print(sample)\n",
    "\n",
    "# Step 5: Close the connection when you're done\n",
    "conn.close()"
   ]
  }
 ],
 "metadata": {
  "kernelspec": {
   "display_name": "dev",
   "language": "python",
   "name": "python3"
  },
  "language_info": {
   "codemirror_mode": {
    "name": "ipython",
    "version": 3
   },
   "file_extension": ".py",
   "mimetype": "text/x-python",
   "name": "python",
   "nbconvert_exporter": "python",
   "pygments_lexer": "ipython3",
   "version": "3.10.16"
  }
 },
 "nbformat": 4,
 "nbformat_minor": 2
}
