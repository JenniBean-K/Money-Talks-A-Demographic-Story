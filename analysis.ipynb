{
 "cells": [
  {
   "cell_type": "code",
   "execution_count": 2,
   "metadata": {},
   "outputs": [
    {
     "name": "stdout",
     "output_type": "stream",
     "text": [
      "['Transportation and material moving occupations'\n",
      " 'Office and administrative support occupations'\n",
      " 'Community and social service occupations'\n",
      " 'Building and grounds cleaning and maintenance occupations'\n",
      " 'Sales and related occupations' 'Construction and extraction occupations'\n",
      " 'Protective service occupations' 'Management occupations'\n",
      " 'Education instruction and library occupations'\n",
      " 'Healthcare practitioner and technical occupations'\n",
      " 'Production occupations' 'Personal care and service occupations'\n",
      " 'Business and financial operations occupations'\n",
      " 'Food preparation and serving related occupations'\n",
      " 'Healthcare support occupations'\n",
      " 'Installation, maintenance, and repair occupations'\n",
      " 'Arts, design, entertainment, sports, and media occupations'\n",
      " 'Legal occupations' 'Architecture and engineering occupations'\n",
      " 'Computer and mathematical occupations'\n",
      " 'Farming, fishing, and forestry occupations'\n",
      " 'Life, physical, and social science occupations']\n"
     ]
    }
   ],
   "source": [
    "import pandas as pd\n",
    "\n",
    "# Load your CSV file\n",
    "df = pd.read_csv('/Users/joeportnoy/Desktop/repos/Money-Talks-A-Demographic-Story/outputs/bls_data.csv')  # replace with your actual file path\n",
    "\n",
    "# Display unique occupation names\n",
    "unique_occupations = df['Occupation'].dropna().unique()\n",
    "\n",
    "print(unique_occupations)"
   ]
  }
 ],
 "metadata": {
  "kernelspec": {
   "display_name": "dev",
   "language": "python",
   "name": "python3"
  },
  "language_info": {
   "codemirror_mode": {
    "name": "ipython",
    "version": 3
   },
   "file_extension": ".py",
   "mimetype": "text/x-python",
   "name": "python",
   "nbconvert_exporter": "python",
   "pygments_lexer": "ipython3",
   "version": "3.10.16"
  }
 },
 "nbformat": 4,
 "nbformat_minor": 2
}
