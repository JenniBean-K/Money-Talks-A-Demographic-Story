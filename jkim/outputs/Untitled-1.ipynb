{
 "cells": [
  {
   "cell_type": "code",
   "execution_count": 45,
   "metadata": {},
   "outputs": [
    {
     "ename": "SyntaxError",
     "evalue": "invalid syntax (3782342756.py, line 3)",
     "output_type": "error",
     "traceback": [
      "\u001b[0;36m  Cell \u001b[0;32mIn[45], line 3\u001b[0;36m\u001b[0m\n\u001b[0;31m    pip install bokeh\u001b[0m\n\u001b[0m        ^\u001b[0m\n\u001b[0;31mSyntaxError\u001b[0m\u001b[0;31m:\u001b[0m invalid syntax\n"
     ]
    }
   ],
   "source": [
    "import pandas as pd\n",
    "import plotly.express as px\n",
    "pip install bokeh\n"
   ]
  },
  {
   "cell_type": "code",
   "execution_count": null,
   "metadata": {},
   "outputs": [],
   "source": [
    "from bokeh.io import output_notebook, show\n",
    "from bokeh.models import ColumnDataSource, HoverTool\n",
    "from bokeh.plotting import figure\n",
    "from bokeh.transform import dodge, linear_cmap\n",
    "from bokeh.palettes import RdBu\n",
    "output_notebook()\n"
   ]
  },
  {
   "cell_type": "code",
   "execution_count": null,
   "metadata": {},
   "outputs": [
    {
     "data": {
      "text/html": [
       "<div>\n",
       "<style scoped>\n",
       "    .dataframe tbody tr th:only-of-type {\n",
       "        vertical-align: middle;\n",
       "    }\n",
       "\n",
       "    .dataframe tbody tr th {\n",
       "        vertical-align: top;\n",
       "    }\n",
       "\n",
       "    .dataframe thead th {\n",
       "        text-align: right;\n",
       "    }\n",
       "</style>\n",
       "<table border=\"1\" class=\"dataframe\">\n",
       "  <thead>\n",
       "    <tr style=\"text-align: right;\">\n",
       "      <th></th>\n",
       "      <th>Sex</th>\n",
       "      <th>Marital Status</th>\n",
       "      <th>Race</th>\n",
       "      <th>Native Country</th>\n",
       "      <th>Industry</th>\n",
       "      <th>Occupation</th>\n",
       "      <th>Education Enrollment</th>\n",
       "      <th>FT/PT Enrollment</th>\n",
       "      <th>Education Level Attained</th>\n",
       "      <th>Household Member Status</th>\n",
       "      <th>Weekly Earnings</th>\n",
       "      <th>Weekly Earnings Categories</th>\n",
       "      <th>PWSSWGT</th>\n",
       "    </tr>\n",
       "  </thead>\n",
       "  <tbody>\n",
       "    <tr>\n",
       "      <th>0</th>\n",
       "      <td>Male</td>\n",
       "      <td>Married - spouse present</td>\n",
       "      <td>White only</td>\n",
       "      <td>United States</td>\n",
       "      <td>State government</td>\n",
       "      <td>Construction and extraction occupations</td>\n",
       "      <td>Not enrolled</td>\n",
       "      <td>NaN</td>\n",
       "      <td>Some college, no degree</td>\n",
       "      <td>Adult civilian household member</td>\n",
       "      <td>1500.0</td>\n",
       "      <td>1500-1999</td>\n",
       "      <td>3131.1945</td>\n",
       "    </tr>\n",
       "    <tr>\n",
       "      <th>1</th>\n",
       "      <td>Female</td>\n",
       "      <td>Never married</td>\n",
       "      <td>White only</td>\n",
       "      <td>United States</td>\n",
       "      <td>State government</td>\n",
       "      <td>Management occupations</td>\n",
       "      <td>NaN</td>\n",
       "      <td>NaN</td>\n",
       "      <td>Bachelor's degree</td>\n",
       "      <td>Adult civilian household member</td>\n",
       "      <td>866.0</td>\n",
       "      <td>750-999</td>\n",
       "      <td>3414.4259</td>\n",
       "    </tr>\n",
       "    <tr>\n",
       "      <th>2</th>\n",
       "      <td>Female</td>\n",
       "      <td>Married - spouse present</td>\n",
       "      <td>Asian only</td>\n",
       "      <td>NaN</td>\n",
       "      <td>State government</td>\n",
       "      <td>Production occupations</td>\n",
       "      <td>NaN</td>\n",
       "      <td>NaN</td>\n",
       "      <td>High school graduate</td>\n",
       "      <td>Adult civilian household member</td>\n",
       "      <td>800.0</td>\n",
       "      <td>750-999</td>\n",
       "      <td>3356.7695</td>\n",
       "    </tr>\n",
       "    <tr>\n",
       "      <th>3</th>\n",
       "      <td>Female</td>\n",
       "      <td>Married - spouse present</td>\n",
       "      <td>White only</td>\n",
       "      <td>United States</td>\n",
       "      <td>Local government</td>\n",
       "      <td>Education instruction and library occupations</td>\n",
       "      <td>Not enrolled</td>\n",
       "      <td>NaN</td>\n",
       "      <td>Master's degree</td>\n",
       "      <td>Adult civilian household member</td>\n",
       "      <td>866.0</td>\n",
       "      <td>750-999</td>\n",
       "      <td>4638.1003</td>\n",
       "    </tr>\n",
       "    <tr>\n",
       "      <th>4</th>\n",
       "      <td>Male</td>\n",
       "      <td>Married - spouse present</td>\n",
       "      <td>White only</td>\n",
       "      <td>United States</td>\n",
       "      <td>State government</td>\n",
       "      <td>Sales and related occupations</td>\n",
       "      <td>Not enrolled</td>\n",
       "      <td>NaN</td>\n",
       "      <td>High school graduate</td>\n",
       "      <td>Adult civilian household member</td>\n",
       "      <td>1480.0</td>\n",
       "      <td>1250-1499</td>\n",
       "      <td>2885.3200</td>\n",
       "    </tr>\n",
       "  </tbody>\n",
       "</table>\n",
       "</div>"
      ],
      "text/plain": [
       "      Sex            Marital Status        Race Native Country  \\\n",
       "0    Male  Married - spouse present  White only  United States   \n",
       "1  Female             Never married  White only  United States   \n",
       "2  Female  Married - spouse present  Asian only            NaN   \n",
       "3  Female  Married - spouse present  White only  United States   \n",
       "4    Male  Married - spouse present  White only  United States   \n",
       "\n",
       "           Industry                                     Occupation  \\\n",
       "0  State government        Construction and extraction occupations   \n",
       "1  State government                         Management occupations   \n",
       "2  State government                         Production occupations   \n",
       "3  Local government  Education instruction and library occupations   \n",
       "4  State government                  Sales and related occupations   \n",
       "\n",
       "  Education Enrollment FT/PT Enrollment Education Level Attained  \\\n",
       "0         Not enrolled              NaN  Some college, no degree   \n",
       "1                  NaN              NaN        Bachelor's degree   \n",
       "2                  NaN              NaN     High school graduate   \n",
       "3         Not enrolled              NaN          Master's degree   \n",
       "4         Not enrolled              NaN     High school graduate   \n",
       "\n",
       "           Household Member Status  Weekly Earnings  \\\n",
       "0  Adult civilian household member           1500.0   \n",
       "1  Adult civilian household member            866.0   \n",
       "2  Adult civilian household member            800.0   \n",
       "3  Adult civilian household member            866.0   \n",
       "4  Adult civilian household member           1480.0   \n",
       "\n",
       "  Weekly Earnings Categories    PWSSWGT  \n",
       "0                  1500-1999  3131.1945  \n",
       "1                    750-999  3414.4259  \n",
       "2                    750-999  3356.7695  \n",
       "3                    750-999  4638.1003  \n",
       "4                  1250-1499  2885.3200  "
      ]
     },
     "execution_count": 25,
     "metadata": {},
     "output_type": "execute_result"
    }
   ],
   "source": [
    "df = pd.read_csv(\"bls_data.csv\")\n",
    "\n",
    "df.head()"
   ]
  },
  {
   "cell_type": "code",
   "execution_count": null,
   "metadata": {},
   "outputs": [
    {
     "data": {
      "text/html": [
       "<div>\n",
       "<style scoped>\n",
       "    .dataframe tbody tr th:only-of-type {\n",
       "        vertical-align: middle;\n",
       "    }\n",
       "\n",
       "    .dataframe tbody tr th {\n",
       "        vertical-align: top;\n",
       "    }\n",
       "\n",
       "    .dataframe thead th {\n",
       "        text-align: right;\n",
       "    }\n",
       "</style>\n",
       "<table border=\"1\" class=\"dataframe\">\n",
       "  <thead>\n",
       "    <tr style=\"text-align: right;\">\n",
       "      <th></th>\n",
       "      <th>Sex</th>\n",
       "      <th>Marital Status</th>\n",
       "      <th>Race</th>\n",
       "      <th>Native Country</th>\n",
       "      <th>Industry</th>\n",
       "      <th>Occupation</th>\n",
       "      <th>Education Enrollment</th>\n",
       "      <th>FT/PT Enrollment</th>\n",
       "      <th>Education Level Attained</th>\n",
       "      <th>Household Member Status</th>\n",
       "      <th>Weekly Earnings</th>\n",
       "      <th>Weekly Earnings Categories</th>\n",
       "      <th>PWSSWGT</th>\n",
       "    </tr>\n",
       "  </thead>\n",
       "  <tbody>\n",
       "    <tr>\n",
       "      <th>0</th>\n",
       "      <td>Male</td>\n",
       "      <td>Married - spouse present</td>\n",
       "      <td>White only</td>\n",
       "      <td>United States</td>\n",
       "      <td>State government</td>\n",
       "      <td>Construction and extraction occupations</td>\n",
       "      <td>Not enrolled</td>\n",
       "      <td>NaN</td>\n",
       "      <td>Some college, no degree</td>\n",
       "      <td>Adult civilian household member</td>\n",
       "      <td>1500.0</td>\n",
       "      <td>1500-1999</td>\n",
       "      <td>3131.1945</td>\n",
       "    </tr>\n",
       "    <tr>\n",
       "      <th>1</th>\n",
       "      <td>Female</td>\n",
       "      <td>Never married</td>\n",
       "      <td>White only</td>\n",
       "      <td>United States</td>\n",
       "      <td>State government</td>\n",
       "      <td>Management occupations</td>\n",
       "      <td>NaN</td>\n",
       "      <td>NaN</td>\n",
       "      <td>Bachelor's degree</td>\n",
       "      <td>Adult civilian household member</td>\n",
       "      <td>866.0</td>\n",
       "      <td>750-999</td>\n",
       "      <td>3414.4259</td>\n",
       "    </tr>\n",
       "    <tr>\n",
       "      <th>2</th>\n",
       "      <td>Female</td>\n",
       "      <td>Married - spouse present</td>\n",
       "      <td>Asian only</td>\n",
       "      <td>NaN</td>\n",
       "      <td>State government</td>\n",
       "      <td>Production occupations</td>\n",
       "      <td>NaN</td>\n",
       "      <td>NaN</td>\n",
       "      <td>High school graduate</td>\n",
       "      <td>Adult civilian household member</td>\n",
       "      <td>800.0</td>\n",
       "      <td>750-999</td>\n",
       "      <td>3356.7695</td>\n",
       "    </tr>\n",
       "    <tr>\n",
       "      <th>3</th>\n",
       "      <td>Female</td>\n",
       "      <td>Married - spouse present</td>\n",
       "      <td>White only</td>\n",
       "      <td>United States</td>\n",
       "      <td>Local government</td>\n",
       "      <td>Education instruction and library occupations</td>\n",
       "      <td>Not enrolled</td>\n",
       "      <td>NaN</td>\n",
       "      <td>Master's degree</td>\n",
       "      <td>Adult civilian household member</td>\n",
       "      <td>866.0</td>\n",
       "      <td>750-999</td>\n",
       "      <td>4638.1003</td>\n",
       "    </tr>\n",
       "    <tr>\n",
       "      <th>4</th>\n",
       "      <td>Male</td>\n",
       "      <td>Married - spouse present</td>\n",
       "      <td>White only</td>\n",
       "      <td>United States</td>\n",
       "      <td>State government</td>\n",
       "      <td>Sales and related occupations</td>\n",
       "      <td>Not enrolled</td>\n",
       "      <td>NaN</td>\n",
       "      <td>High school graduate</td>\n",
       "      <td>Adult civilian household member</td>\n",
       "      <td>1480.0</td>\n",
       "      <td>1250-1499</td>\n",
       "      <td>2885.3200</td>\n",
       "    </tr>\n",
       "  </tbody>\n",
       "</table>\n",
       "</div>"
      ],
      "text/plain": [
       "      Sex            Marital Status        Race Native Country  \\\n",
       "0    Male  Married - spouse present  White only  United States   \n",
       "1  Female             Never married  White only  United States   \n",
       "2  Female  Married - spouse present  Asian only            NaN   \n",
       "3  Female  Married - spouse present  White only  United States   \n",
       "4    Male  Married - spouse present  White only  United States   \n",
       "\n",
       "           Industry                                     Occupation  \\\n",
       "0  State government        Construction and extraction occupations   \n",
       "1  State government                         Management occupations   \n",
       "2  State government                         Production occupations   \n",
       "3  Local government  Education instruction and library occupations   \n",
       "4  State government                  Sales and related occupations   \n",
       "\n",
       "  Education Enrollment FT/PT Enrollment Education Level Attained  \\\n",
       "0         Not enrolled              NaN  Some college, no degree   \n",
       "1                  NaN              NaN        Bachelor's degree   \n",
       "2                  NaN              NaN     High school graduate   \n",
       "3         Not enrolled              NaN          Master's degree   \n",
       "4         Not enrolled              NaN     High school graduate   \n",
       "\n",
       "           Household Member Status  Weekly Earnings  \\\n",
       "0  Adult civilian household member           1500.0   \n",
       "1  Adult civilian household member            866.0   \n",
       "2  Adult civilian household member            800.0   \n",
       "3  Adult civilian household member            866.0   \n",
       "4  Adult civilian household member           1480.0   \n",
       "\n",
       "  Weekly Earnings Categories    PWSSWGT  \n",
       "0                  1500-1999  3131.1945  \n",
       "1                    750-999  3414.4259  \n",
       "2                    750-999  3356.7695  \n",
       "3                    750-999  4638.1003  \n",
       "4                  1250-1499  2885.3200  "
      ]
     },
     "execution_count": 26,
     "metadata": {},
     "output_type": "execute_result"
    }
   ],
   "source": [
    "# Strip whiteapace from column names\n",
    "df.columns = df.columns.str.strip()\n",
    "\n",
    "# Replace empty strings with NaNs uniformly\n",
    "df.replace('', pd.NA, inplace=True)\n",
    "\n",
    "# Check for missing data\n",
    "df.isnull().sum()\n",
    "\n",
    "# Check for duplicates rows\n",
    "df.duplicated().sum()\n",
    "\n",
    "\n",
    "df.head()"
   ]
  },
  {
   "cell_type": "code",
   "execution_count": null,
   "metadata": {},
   "outputs": [
    {
     "data": {
      "text/html": [
       "<div>\n",
       "<style scoped>\n",
       "    .dataframe tbody tr th:only-of-type {\n",
       "        vertical-align: middle;\n",
       "    }\n",
       "\n",
       "    .dataframe tbody tr th {\n",
       "        vertical-align: top;\n",
       "    }\n",
       "\n",
       "    .dataframe thead th {\n",
       "        text-align: right;\n",
       "    }\n",
       "</style>\n",
       "<table border=\"1\" class=\"dataframe\">\n",
       "  <thead>\n",
       "    <tr style=\"text-align: right;\">\n",
       "      <th></th>\n",
       "      <th>Sex</th>\n",
       "      <th>Marital Status</th>\n",
       "      <th>Race</th>\n",
       "      <th>Native Country</th>\n",
       "      <th>Industry</th>\n",
       "      <th>Occupation</th>\n",
       "      <th>Education Enrollment</th>\n",
       "      <th>FT/PT Enrollment</th>\n",
       "      <th>Education Level Attained</th>\n",
       "      <th>Household Member Status</th>\n",
       "      <th>Weekly Earnings</th>\n",
       "      <th>Weekly Earnings Categories</th>\n",
       "      <th>PWSSWGT</th>\n",
       "    </tr>\n",
       "  </thead>\n",
       "  <tbody>\n",
       "    <tr>\n",
       "      <th>0</th>\n",
       "      <td>Male</td>\n",
       "      <td>Married - spouse present</td>\n",
       "      <td>White only</td>\n",
       "      <td>United States</td>\n",
       "      <td>State government</td>\n",
       "      <td>Construction and extraction occupations</td>\n",
       "      <td>Not enrolled</td>\n",
       "      <td>NaN</td>\n",
       "      <td>Some college, no degree</td>\n",
       "      <td>Adult civilian household member</td>\n",
       "      <td>1500.0</td>\n",
       "      <td>1500-1999</td>\n",
       "      <td>3131.1945</td>\n",
       "    </tr>\n",
       "    <tr>\n",
       "      <th>1</th>\n",
       "      <td>Female</td>\n",
       "      <td>Never married</td>\n",
       "      <td>White only</td>\n",
       "      <td>United States</td>\n",
       "      <td>State government</td>\n",
       "      <td>Management occupations</td>\n",
       "      <td>NaN</td>\n",
       "      <td>NaN</td>\n",
       "      <td>Bachelor's degree</td>\n",
       "      <td>Adult civilian household member</td>\n",
       "      <td>866.0</td>\n",
       "      <td>750-999</td>\n",
       "      <td>3414.4259</td>\n",
       "    </tr>\n",
       "    <tr>\n",
       "      <th>2</th>\n",
       "      <td>Female</td>\n",
       "      <td>Married - spouse present</td>\n",
       "      <td>Asian only</td>\n",
       "      <td>NaN</td>\n",
       "      <td>State government</td>\n",
       "      <td>Production occupations</td>\n",
       "      <td>NaN</td>\n",
       "      <td>NaN</td>\n",
       "      <td>High school graduate</td>\n",
       "      <td>Adult civilian household member</td>\n",
       "      <td>800.0</td>\n",
       "      <td>750-999</td>\n",
       "      <td>3356.7695</td>\n",
       "    </tr>\n",
       "    <tr>\n",
       "      <th>3</th>\n",
       "      <td>Female</td>\n",
       "      <td>Married - spouse present</td>\n",
       "      <td>White only</td>\n",
       "      <td>United States</td>\n",
       "      <td>Local government</td>\n",
       "      <td>Education instruction and library occupations</td>\n",
       "      <td>Not enrolled</td>\n",
       "      <td>NaN</td>\n",
       "      <td>Master's degree</td>\n",
       "      <td>Adult civilian household member</td>\n",
       "      <td>866.0</td>\n",
       "      <td>750-999</td>\n",
       "      <td>4638.1003</td>\n",
       "    </tr>\n",
       "    <tr>\n",
       "      <th>4</th>\n",
       "      <td>Male</td>\n",
       "      <td>Married - spouse present</td>\n",
       "      <td>White only</td>\n",
       "      <td>United States</td>\n",
       "      <td>State government</td>\n",
       "      <td>Sales and related occupations</td>\n",
       "      <td>Not enrolled</td>\n",
       "      <td>NaN</td>\n",
       "      <td>High school graduate</td>\n",
       "      <td>Adult civilian household member</td>\n",
       "      <td>1480.0</td>\n",
       "      <td>1250-1499</td>\n",
       "      <td>2885.3200</td>\n",
       "    </tr>\n",
       "  </tbody>\n",
       "</table>\n",
       "</div>"
      ],
      "text/plain": [
       "      Sex            Marital Status        Race Native Country  \\\n",
       "0    Male  Married - spouse present  White only  United States   \n",
       "1  Female             Never married  White only  United States   \n",
       "2  Female  Married - spouse present  Asian only            NaN   \n",
       "3  Female  Married - spouse present  White only  United States   \n",
       "4    Male  Married - spouse present  White only  United States   \n",
       "\n",
       "           Industry                                     Occupation  \\\n",
       "0  State government        Construction and extraction occupations   \n",
       "1  State government                         Management occupations   \n",
       "2  State government                         Production occupations   \n",
       "3  Local government  Education instruction and library occupations   \n",
       "4  State government                  Sales and related occupations   \n",
       "\n",
       "  Education Enrollment FT/PT Enrollment Education Level Attained  \\\n",
       "0         Not enrolled              NaN  Some college, no degree   \n",
       "1                  NaN              NaN        Bachelor's degree   \n",
       "2                  NaN              NaN     High school graduate   \n",
       "3         Not enrolled              NaN          Master's degree   \n",
       "4         Not enrolled              NaN     High school graduate   \n",
       "\n",
       "           Household Member Status  Weekly Earnings  \\\n",
       "0  Adult civilian household member           1500.0   \n",
       "1  Adult civilian household member            866.0   \n",
       "2  Adult civilian household member            800.0   \n",
       "3  Adult civilian household member            866.0   \n",
       "4  Adult civilian household member           1480.0   \n",
       "\n",
       "  Weekly Earnings Categories    PWSSWGT  \n",
       "0                  1500-1999  3131.1945  \n",
       "1                    750-999  3414.4259  \n",
       "2                    750-999  3356.7695  \n",
       "3                    750-999  4638.1003  \n",
       "4                  1250-1499  2885.3200  "
      ]
     },
     "execution_count": 27,
     "metadata": {},
     "output_type": "execute_result"
    }
   ],
   "source": [
    "\n",
    "# Convert earnings to numeric\n",
    "df['Weekly Earnings'] = pd.to_numeric(df['Weekly Earnings'], errors='coerce')\n",
    "\n",
    "# Display the first few rows\n",
    "df.head()\n"
   ]
  },
  {
   "cell_type": "code",
   "execution_count": null,
   "metadata": {},
   "outputs": [
    {
     "name": "stdout",
     "output_type": "stream",
     "text": [
      "Weighted Avg Weekly Salary (Women): $1212.62\n",
      "Weighted Avg Weekly Salary (Men): $1611.89\n",
      "Weighted Avg Weekly Salary (All): $1417.54\n"
     ]
    }
   ],
   "source": [
    "# # Average Weekly Earnings by Gender\n",
    "# # df.groupby('Sex')['Weekly Earnings'].mean().sort_values(ascending=False)\n",
    "\n",
    "# # df.head()\n",
    "\n",
    "# weighted_salary = (df['Weekly Earnings'] * df['PWSSWGT']).sum() / df['PWSSWGT'].sum()\n",
    "# # Calculate \n",
    "# #Loop through every row\n",
    "\n",
    "# weighted_salary\n",
    "\n",
    "# Filter for women\n",
    "women_df = df[df['Sex'].str.lower() == 'female']\n",
    "\n",
    "# Weighted average for women\n",
    "weighted_salary_women = (women_df['Weekly Earnings'] * women_df['PWSSWGT']).sum() / women_df['PWSSWGT'].sum()\n",
    "\n",
    "# Filter for men\n",
    "men_df = df[df['Sex'].str.lower() == 'male']\n",
    "\n",
    "# Weighted average for men\n",
    "weighted_salary_men = (men_df['Weekly Earnings'] * men_df['PWSSWGT']).sum() / men_df['PWSSWGT'].sum()\n",
    "\n",
    "# Overall weighted salary\n",
    "weighted_salary_all = (df['Weekly Earnings'] * df['PWSSWGT']).sum() / df['PWSSWGT'].sum()\n",
    "\n",
    "# Display\n",
    "print(f\"Weighted Avg Weekly Salary (Women): ${weighted_salary_women:.2f}\")\n",
    "print(f\"Weighted Avg Weekly Salary (Men): ${weighted_salary_men:.2f}\")\n",
    "print(f\"Weighted Avg Weekly Salary (All): ${weighted_salary_all:.2f}\")\n",
    "\n",
    "\n"
   ]
  },
  {
   "cell_type": "code",
   "execution_count": null,
   "metadata": {},
   "outputs": [
    {
     "name": "stdout",
     "output_type": "stream",
     "text": [
      "Men earn $399.28 more than women per week on average (weighted).\n"
     ]
    }
   ],
   "source": [
    "# Difference: men - women\n",
    "gender_pay_gap = weighted_salary_men - weighted_salary_women\n",
    "\n",
    "# Display it nicely\n",
    "print(f\"Men earn ${gender_pay_gap:.2f} more than women per week on average (weighted).\")\n"
   ]
  },
  {
   "cell_type": "code",
   "execution_count": null,
   "metadata": {},
   "outputs": [
    {
     "name": "stdout",
     "output_type": "stream",
     "text": [
      "That's a 32.93% pay gap in favor of men.\n"
     ]
    }
   ],
   "source": [
    "percent_gap = (gender_pay_gap / weighted_salary_women) * 100\n",
    "\n",
    "print(f\"That's a {percent_gap:.2f}% pay gap in favor of men.\")\n"
   ]
  },
  {
   "cell_type": "code",
   "execution_count": null,
   "metadata": {},
   "outputs": [
    {
     "data": {
      "text/html": [
       "<div>\n",
       "<style scoped>\n",
       "    .dataframe tbody tr th:only-of-type {\n",
       "        vertical-align: middle;\n",
       "    }\n",
       "\n",
       "    .dataframe tbody tr th {\n",
       "        vertical-align: top;\n",
       "    }\n",
       "\n",
       "    .dataframe thead th {\n",
       "        text-align: right;\n",
       "    }\n",
       "</style>\n",
       "<table border=\"1\" class=\"dataframe\">\n",
       "  <thead>\n",
       "    <tr style=\"text-align: right;\">\n",
       "      <th></th>\n",
       "      <th>Mean</th>\n",
       "      <th>Median</th>\n",
       "      <th>Mode</th>\n",
       "    </tr>\n",
       "    <tr>\n",
       "      <th>Sex</th>\n",
       "      <th></th>\n",
       "      <th></th>\n",
       "      <th></th>\n",
       "    </tr>\n",
       "  </thead>\n",
       "  <tbody>\n",
       "    <tr>\n",
       "      <th>Female</th>\n",
       "      <td>1224.401202</td>\n",
       "      <td>924.0</td>\n",
       "      <td>1000.00</td>\n",
       "    </tr>\n",
       "    <tr>\n",
       "      <th>Male</th>\n",
       "      <td>1653.080718</td>\n",
       "      <td>1192.0</td>\n",
       "      <td>8115.06</td>\n",
       "    </tr>\n",
       "  </tbody>\n",
       "</table>\n",
       "</div>"
      ],
      "text/plain": [
       "               Mean  Median     Mode\n",
       "Sex                                 \n",
       "Female  1224.401202   924.0  1000.00\n",
       "Male    1653.080718  1192.0  8115.06"
      ]
     },
     "execution_count": 31,
     "metadata": {},
     "output_type": "execute_result"
    }
   ],
   "source": [
    "# Group by gender\n",
    "gender_stats = df.groupby('Sex')['Weekly Earnings'].agg(['mean', 'median', lambda x: x.mode().iloc[0]])\n",
    "gender_stats.columns = ['Mean', 'Median', 'Mode']\n",
    "gender_stats\n"
   ]
  },
  {
   "cell_type": "code",
   "execution_count": null,
   "metadata": {},
   "outputs": [
    {
     "data": {
      "text/html": [
       "<div>\n",
       "<style scoped>\n",
       "    .dataframe tbody tr th:only-of-type {\n",
       "        vertical-align: middle;\n",
       "    }\n",
       "\n",
       "    .dataframe tbody tr th {\n",
       "        vertical-align: top;\n",
       "    }\n",
       "\n",
       "    .dataframe thead th {\n",
       "        text-align: right;\n",
       "    }\n",
       "</style>\n",
       "<table border=\"1\" class=\"dataframe\">\n",
       "  <thead>\n",
       "    <tr style=\"text-align: right;\">\n",
       "      <th></th>\n",
       "      <th>Sex</th>\n",
       "      <th>Marital Status</th>\n",
       "      <th>Race</th>\n",
       "      <th>Native Country</th>\n",
       "      <th>Industry</th>\n",
       "      <th>Occupation</th>\n",
       "      <th>Education Enrollment</th>\n",
       "      <th>FT/PT Enrollment</th>\n",
       "      <th>Education Level Attained</th>\n",
       "      <th>Household Member Status</th>\n",
       "      <th>Weekly Earnings</th>\n",
       "      <th>Weekly Earnings Categories</th>\n",
       "      <th>PWSSWGT</th>\n",
       "    </tr>\n",
       "  </thead>\n",
       "  <tbody>\n",
       "    <tr>\n",
       "      <th>0</th>\n",
       "      <td>Male</td>\n",
       "      <td>Married - spouse present</td>\n",
       "      <td>White only</td>\n",
       "      <td>United States</td>\n",
       "      <td>State government</td>\n",
       "      <td>Construction and extraction occupations</td>\n",
       "      <td>Not enrolled</td>\n",
       "      <td>NaN</td>\n",
       "      <td>Some college, no degree</td>\n",
       "      <td>Adult civilian household member</td>\n",
       "      <td>1500.0</td>\n",
       "      <td>1500-1999</td>\n",
       "      <td>3131.1945</td>\n",
       "    </tr>\n",
       "    <tr>\n",
       "      <th>1</th>\n",
       "      <td>Female</td>\n",
       "      <td>Never married</td>\n",
       "      <td>White only</td>\n",
       "      <td>United States</td>\n",
       "      <td>State government</td>\n",
       "      <td>Management occupations</td>\n",
       "      <td>NaN</td>\n",
       "      <td>NaN</td>\n",
       "      <td>Bachelor's degree</td>\n",
       "      <td>Adult civilian household member</td>\n",
       "      <td>866.0</td>\n",
       "      <td>750-999</td>\n",
       "      <td>3414.4259</td>\n",
       "    </tr>\n",
       "    <tr>\n",
       "      <th>2</th>\n",
       "      <td>Female</td>\n",
       "      <td>Married - spouse present</td>\n",
       "      <td>Asian only</td>\n",
       "      <td>NaN</td>\n",
       "      <td>State government</td>\n",
       "      <td>Production occupations</td>\n",
       "      <td>NaN</td>\n",
       "      <td>NaN</td>\n",
       "      <td>High school graduate</td>\n",
       "      <td>Adult civilian household member</td>\n",
       "      <td>800.0</td>\n",
       "      <td>750-999</td>\n",
       "      <td>3356.7695</td>\n",
       "    </tr>\n",
       "    <tr>\n",
       "      <th>3</th>\n",
       "      <td>Female</td>\n",
       "      <td>Married - spouse present</td>\n",
       "      <td>White only</td>\n",
       "      <td>United States</td>\n",
       "      <td>Local government</td>\n",
       "      <td>Education instruction and library occupations</td>\n",
       "      <td>Not enrolled</td>\n",
       "      <td>NaN</td>\n",
       "      <td>Master's degree</td>\n",
       "      <td>Adult civilian household member</td>\n",
       "      <td>866.0</td>\n",
       "      <td>750-999</td>\n",
       "      <td>4638.1003</td>\n",
       "    </tr>\n",
       "    <tr>\n",
       "      <th>4</th>\n",
       "      <td>Male</td>\n",
       "      <td>Married - spouse present</td>\n",
       "      <td>White only</td>\n",
       "      <td>United States</td>\n",
       "      <td>State government</td>\n",
       "      <td>Sales and related occupations</td>\n",
       "      <td>Not enrolled</td>\n",
       "      <td>NaN</td>\n",
       "      <td>High school graduate</td>\n",
       "      <td>Adult civilian household member</td>\n",
       "      <td>1480.0</td>\n",
       "      <td>1250-1499</td>\n",
       "      <td>2885.3200</td>\n",
       "    </tr>\n",
       "    <tr>\n",
       "      <th>...</th>\n",
       "      <td>...</td>\n",
       "      <td>...</td>\n",
       "      <td>...</td>\n",
       "      <td>...</td>\n",
       "      <td>...</td>\n",
       "      <td>...</td>\n",
       "      <td>...</td>\n",
       "      <td>...</td>\n",
       "      <td>...</td>\n",
       "      <td>...</td>\n",
       "      <td>...</td>\n",
       "      <td>...</td>\n",
       "      <td>...</td>\n",
       "    </tr>\n",
       "    <tr>\n",
       "      <th>10278</th>\n",
       "      <td>Female</td>\n",
       "      <td>Married - spouse present</td>\n",
       "      <td>White only</td>\n",
       "      <td>United States</td>\n",
       "      <td>State government</td>\n",
       "      <td>Office and administrative support occupations</td>\n",
       "      <td>NaN</td>\n",
       "      <td>NaN</td>\n",
       "      <td>Associate degree - academic</td>\n",
       "      <td>Adult civilian household member</td>\n",
       "      <td>1630.0</td>\n",
       "      <td>1500-1999</td>\n",
       "      <td>1550.0935</td>\n",
       "    </tr>\n",
       "    <tr>\n",
       "      <th>10279</th>\n",
       "      <td>Male</td>\n",
       "      <td>Married - spouse present</td>\n",
       "      <td>White only</td>\n",
       "      <td>United States</td>\n",
       "      <td>State government</td>\n",
       "      <td>Production occupations</td>\n",
       "      <td>Not enrolled</td>\n",
       "      <td>NaN</td>\n",
       "      <td>High school graduate</td>\n",
       "      <td>Adult civilian household member</td>\n",
       "      <td>720.0</td>\n",
       "      <td>500-749</td>\n",
       "      <td>3738.4843</td>\n",
       "    </tr>\n",
       "    <tr>\n",
       "      <th>10280</th>\n",
       "      <td>Female</td>\n",
       "      <td>Never married</td>\n",
       "      <td>White only</td>\n",
       "      <td>NaN</td>\n",
       "      <td>State government</td>\n",
       "      <td>Sales and related occupations</td>\n",
       "      <td>NaN</td>\n",
       "      <td>NaN</td>\n",
       "      <td>Some college, no degree</td>\n",
       "      <td>Adult civilian household member</td>\n",
       "      <td>462.0</td>\n",
       "      <td>250-499</td>\n",
       "      <td>2265.9486</td>\n",
       "    </tr>\n",
       "    <tr>\n",
       "      <th>10281</th>\n",
       "      <td>Female</td>\n",
       "      <td>Divorced</td>\n",
       "      <td>White only</td>\n",
       "      <td>United States</td>\n",
       "      <td>Private nonprofit</td>\n",
       "      <td>Production occupations</td>\n",
       "      <td>Not enrolled</td>\n",
       "      <td>NaN</td>\n",
       "      <td>Associate degree - academic</td>\n",
       "      <td>Adult civilian household member</td>\n",
       "      <td>950.0</td>\n",
       "      <td>750-999</td>\n",
       "      <td>3958.7897</td>\n",
       "    </tr>\n",
       "    <tr>\n",
       "      <th>10282</th>\n",
       "      <td>Male</td>\n",
       "      <td>Married - spouse present</td>\n",
       "      <td>White only</td>\n",
       "      <td>United States</td>\n",
       "      <td>State government</td>\n",
       "      <td>Construction and extraction occupations</td>\n",
       "      <td>Not enrolled</td>\n",
       "      <td>NaN</td>\n",
       "      <td>High school graduate</td>\n",
       "      <td>Adult civilian household member</td>\n",
       "      <td>1760.0</td>\n",
       "      <td>1500-1999</td>\n",
       "      <td>7135.6063</td>\n",
       "    </tr>\n",
       "  </tbody>\n",
       "</table>\n",
       "<p>10283 rows × 13 columns</p>\n",
       "</div>"
      ],
      "text/plain": [
       "          Sex            Marital Status        Race Native Country  \\\n",
       "0        Male  Married - spouse present  White only  United States   \n",
       "1      Female             Never married  White only  United States   \n",
       "2      Female  Married - spouse present  Asian only            NaN   \n",
       "3      Female  Married - spouse present  White only  United States   \n",
       "4        Male  Married - spouse present  White only  United States   \n",
       "...       ...                       ...         ...            ...   \n",
       "10278  Female  Married - spouse present  White only  United States   \n",
       "10279    Male  Married - spouse present  White only  United States   \n",
       "10280  Female             Never married  White only            NaN   \n",
       "10281  Female                  Divorced  White only  United States   \n",
       "10282    Male  Married - spouse present  White only  United States   \n",
       "\n",
       "                Industry                                     Occupation  \\\n",
       "0       State government        Construction and extraction occupations   \n",
       "1       State government                         Management occupations   \n",
       "2       State government                         Production occupations   \n",
       "3       Local government  Education instruction and library occupations   \n",
       "4       State government                  Sales and related occupations   \n",
       "...                  ...                                            ...   \n",
       "10278   State government  Office and administrative support occupations   \n",
       "10279   State government                         Production occupations   \n",
       "10280   State government                  Sales and related occupations   \n",
       "10281  Private nonprofit                         Production occupations   \n",
       "10282   State government        Construction and extraction occupations   \n",
       "\n",
       "      Education Enrollment FT/PT Enrollment     Education Level Attained  \\\n",
       "0             Not enrolled              NaN      Some college, no degree   \n",
       "1                      NaN              NaN            Bachelor's degree   \n",
       "2                      NaN              NaN         High school graduate   \n",
       "3             Not enrolled              NaN              Master's degree   \n",
       "4             Not enrolled              NaN         High school graduate   \n",
       "...                    ...              ...                          ...   \n",
       "10278                  NaN              NaN  Associate degree - academic   \n",
       "10279         Not enrolled              NaN         High school graduate   \n",
       "10280                  NaN              NaN      Some college, no degree   \n",
       "10281         Not enrolled              NaN  Associate degree - academic   \n",
       "10282         Not enrolled              NaN         High school graduate   \n",
       "\n",
       "               Household Member Status  Weekly Earnings  \\\n",
       "0      Adult civilian household member           1500.0   \n",
       "1      Adult civilian household member            866.0   \n",
       "2      Adult civilian household member            800.0   \n",
       "3      Adult civilian household member            866.0   \n",
       "4      Adult civilian household member           1480.0   \n",
       "...                                ...              ...   \n",
       "10278  Adult civilian household member           1630.0   \n",
       "10279  Adult civilian household member            720.0   \n",
       "10280  Adult civilian household member            462.0   \n",
       "10281  Adult civilian household member            950.0   \n",
       "10282  Adult civilian household member           1760.0   \n",
       "\n",
       "      Weekly Earnings Categories    PWSSWGT  \n",
       "0                      1500-1999  3131.1945  \n",
       "1                        750-999  3414.4259  \n",
       "2                        750-999  3356.7695  \n",
       "3                        750-999  4638.1003  \n",
       "4                      1250-1499  2885.3200  \n",
       "...                          ...        ...  \n",
       "10278                  1500-1999  1550.0935  \n",
       "10279                    500-749  3738.4843  \n",
       "10280                    250-499  2265.9486  \n",
       "10281                    750-999  3958.7897  \n",
       "10282                  1500-1999  7135.6063  \n",
       "\n",
       "[10283 rows x 13 columns]"
      ]
     },
     "execution_count": 32,
     "metadata": {},
     "output_type": "execute_result"
    }
   ],
   "source": [
    "# Average weekly earnings by education level\n",
    "df.groupby('Education Enrollment')['Weekly Earnings'].mean().sort_values(ascending=False)\n",
    "\n",
    "df"
   ]
  },
  {
   "cell_type": "code",
   "execution_count": null,
   "metadata": {},
   "outputs": [
    {
     "data": {
      "text/html": [
       "<div>\n",
       "<style scoped>\n",
       "    .dataframe tbody tr th:only-of-type {\n",
       "        vertical-align: middle;\n",
       "    }\n",
       "\n",
       "    .dataframe tbody tr th {\n",
       "        vertical-align: top;\n",
       "    }\n",
       "\n",
       "    .dataframe thead th {\n",
       "        text-align: right;\n",
       "    }\n",
       "</style>\n",
       "<table border=\"1\" class=\"dataframe\">\n",
       "  <thead>\n",
       "    <tr style=\"text-align: right;\">\n",
       "      <th></th>\n",
       "      <th></th>\n",
       "      <th>Mean</th>\n",
       "      <th>Median</th>\n",
       "      <th>Mode</th>\n",
       "    </tr>\n",
       "    <tr>\n",
       "      <th>Sex</th>\n",
       "      <th>Education Enrollment</th>\n",
       "      <th></th>\n",
       "      <th></th>\n",
       "      <th></th>\n",
       "    </tr>\n",
       "  </thead>\n",
       "  <tbody>\n",
       "    <tr>\n",
       "      <th rowspan=\"2\" valign=\"top\">Female</th>\n",
       "      <th>Enrolled</th>\n",
       "      <td>572.863443</td>\n",
       "      <td>350.0</td>\n",
       "      <td>240.00</td>\n",
       "    </tr>\n",
       "    <tr>\n",
       "      <th>Not enrolled</th>\n",
       "      <td>1303.208168</td>\n",
       "      <td>1000.0</td>\n",
       "      <td>1000.00</td>\n",
       "    </tr>\n",
       "    <tr>\n",
       "      <th rowspan=\"2\" valign=\"top\">Male</th>\n",
       "      <th>Enrolled</th>\n",
       "      <td>589.996713</td>\n",
       "      <td>305.0</td>\n",
       "      <td>300.00</td>\n",
       "    </tr>\n",
       "    <tr>\n",
       "      <th>Not enrolled</th>\n",
       "      <td>1682.836059</td>\n",
       "      <td>1200.0</td>\n",
       "      <td>8115.06</td>\n",
       "    </tr>\n",
       "  </tbody>\n",
       "</table>\n",
       "</div>"
      ],
      "text/plain": [
       "                                    Mean  Median     Mode\n",
       "Sex    Education Enrollment                              \n",
       "Female Enrolled               572.863443   350.0   240.00\n",
       "       Not enrolled          1303.208168  1000.0  1000.00\n",
       "Male   Enrolled               589.996713   305.0   300.00\n",
       "       Not enrolled          1682.836059  1200.0  8115.06"
      ]
     },
     "execution_count": 33,
     "metadata": {},
     "output_type": "execute_result"
    }
   ],
   "source": [
    "education_enroll_stats = df.groupby(['Sex', 'Education Enrollment'])['Weekly Earnings'].agg(['mean', 'median', lambda x: x.mode().iloc[0]])\n",
    "education_enroll_stats.columns = ['Mean', 'Median', 'Mode']\n",
    "education_enroll_stats\n"
   ]
  },
  {
   "cell_type": "code",
   "execution_count": null,
   "metadata": {},
   "outputs": [
    {
     "data": {
      "text/plain": [
       "Occupation\n",
       "Legal occupations                                             2725.540968\n",
       "Computer and mathematical occupations                         2437.439493\n",
       "Management occupations                                        2271.107722\n",
       "Architecture and engineering occupations                      2254.300440\n",
       "Life, physical, and social science occupations                2239.421342\n",
       "Business and financial operations occupations                 1937.683128\n",
       "Healthcare practitioner and technical occupations             1828.686996\n",
       "Arts, design, entertainment, sports, and media occupations    1588.193179\n",
       "Protective service occupations                                1556.398621\n",
       "Community and social service occupations                      1448.900532\n",
       "Name: Weekly Earnings, dtype: float64"
      ]
     },
     "execution_count": 34,
     "metadata": {},
     "output_type": "execute_result"
    }
   ],
   "source": [
    "# Average weekly earnings by occupation\n",
    "df.groupby('Occupation')['Weekly Earnings'].mean().sort_values(ascending=False).head(10)\n",
    "\n",
    "# avg wages by occupation for men and women and all with weights "
   ]
  },
  {
   "cell_type": "code",
   "execution_count": null,
   "metadata": {},
   "outputs": [
    {
     "data": {
      "text/html": [
       "<div>\n",
       "<style scoped>\n",
       "    .dataframe tbody tr th:only-of-type {\n",
       "        vertical-align: middle;\n",
       "    }\n",
       "\n",
       "    .dataframe tbody tr th {\n",
       "        vertical-align: top;\n",
       "    }\n",
       "\n",
       "    .dataframe thead th {\n",
       "        text-align: right;\n",
       "    }\n",
       "</style>\n",
       "<table border=\"1\" class=\"dataframe\">\n",
       "  <thead>\n",
       "    <tr style=\"text-align: right;\">\n",
       "      <th></th>\n",
       "      <th></th>\n",
       "      <th>Mean</th>\n",
       "      <th>Median</th>\n",
       "      <th>Mode</th>\n",
       "    </tr>\n",
       "    <tr>\n",
       "      <th>Sex</th>\n",
       "      <th>Occupation</th>\n",
       "      <th></th>\n",
       "      <th></th>\n",
       "      <th></th>\n",
       "    </tr>\n",
       "  </thead>\n",
       "  <tbody>\n",
       "    <tr>\n",
       "      <th rowspan=\"22\" valign=\"top\">Female</th>\n",
       "      <th>Architecture and engineering occupations</th>\n",
       "      <td>1901.575185</td>\n",
       "      <td>1840.0</td>\n",
       "      <td>2880.00</td>\n",
       "    </tr>\n",
       "    <tr>\n",
       "      <th>Arts, design, entertainment, sports, and media occupations</th>\n",
       "      <td>1148.425000</td>\n",
       "      <td>1079.0</td>\n",
       "      <td>1250.00</td>\n",
       "    </tr>\n",
       "    <tr>\n",
       "      <th>Building and grounds cleaning and maintenance occupations</th>\n",
       "      <td>569.773050</td>\n",
       "      <td>510.0</td>\n",
       "      <td>600.00</td>\n",
       "    </tr>\n",
       "    <tr>\n",
       "      <th>Business and financial operations occupations</th>\n",
       "      <td>1737.636000</td>\n",
       "      <td>1380.0</td>\n",
       "      <td>1154.00</td>\n",
       "    </tr>\n",
       "    <tr>\n",
       "      <th>Community and social service occupations</th>\n",
       "      <td>1290.804094</td>\n",
       "      <td>1154.0</td>\n",
       "      <td>1250.00</td>\n",
       "    </tr>\n",
       "    <tr>\n",
       "      <th>Computer and mathematical occupations</th>\n",
       "      <td>2170.077895</td>\n",
       "      <td>1880.0</td>\n",
       "      <td>2880.00</td>\n",
       "    </tr>\n",
       "    <tr>\n",
       "      <th>Construction and extraction occupations</th>\n",
       "      <td>1216.444444</td>\n",
       "      <td>775.0</td>\n",
       "      <td>2540.00</td>\n",
       "    </tr>\n",
       "    <tr>\n",
       "      <th>Education instruction and library occupations</th>\n",
       "      <td>1209.098531</td>\n",
       "      <td>1000.0</td>\n",
       "      <td>1154.00</td>\n",
       "    </tr>\n",
       "    <tr>\n",
       "      <th>Farming, fishing, and forestry occupations</th>\n",
       "      <td>593.066667</td>\n",
       "      <td>640.0</td>\n",
       "      <td>660.00</td>\n",
       "    </tr>\n",
       "    <tr>\n",
       "      <th>Food preparation and serving related occupations</th>\n",
       "      <td>519.993548</td>\n",
       "      <td>480.0</td>\n",
       "      <td>600.00</td>\n",
       "    </tr>\n",
       "    <tr>\n",
       "      <th>Healthcare practitioner and technical occupations</th>\n",
       "      <td>1632.280636</td>\n",
       "      <td>1330.0</td>\n",
       "      <td>8115.06</td>\n",
       "    </tr>\n",
       "    <tr>\n",
       "      <th>Healthcare support occupations</th>\n",
       "      <td>797.438619</td>\n",
       "      <td>692.0</td>\n",
       "      <td>600.00</td>\n",
       "    </tr>\n",
       "    <tr>\n",
       "      <th>Installation, maintenance, and repair occupations</th>\n",
       "      <td>870.000000</td>\n",
       "      <td>708.0</td>\n",
       "      <td>14.00</td>\n",
       "    </tr>\n",
       "    <tr>\n",
       "      <th>Legal occupations</th>\n",
       "      <td>2009.772308</td>\n",
       "      <td>1440.0</td>\n",
       "      <td>1440.00</td>\n",
       "    </tr>\n",
       "    <tr>\n",
       "      <th>Life, physical, and social science occupations</th>\n",
       "      <td>1936.950667</td>\n",
       "      <td>1350.0</td>\n",
       "      <td>8115.06</td>\n",
       "    </tr>\n",
       "    <tr>\n",
       "      <th>Management occupations</th>\n",
       "      <td>1945.385839</td>\n",
       "      <td>1500.0</td>\n",
       "      <td>8115.06</td>\n",
       "    </tr>\n",
       "    <tr>\n",
       "      <th>Office and administrative support occupations</th>\n",
       "      <td>1003.008281</td>\n",
       "      <td>873.0</td>\n",
       "      <td>1000.00</td>\n",
       "    </tr>\n",
       "    <tr>\n",
       "      <th>Personal care and service occupations</th>\n",
       "      <td>587.492063</td>\n",
       "      <td>557.0</td>\n",
       "      <td>576.00</td>\n",
       "    </tr>\n",
       "    <tr>\n",
       "      <th>Production occupations</th>\n",
       "      <td>781.128205</td>\n",
       "      <td>750.0</td>\n",
       "      <td>1000.00</td>\n",
       "    </tr>\n",
       "    <tr>\n",
       "      <th>Protective service occupations</th>\n",
       "      <td>1223.321429</td>\n",
       "      <td>948.0</td>\n",
       "      <td>2500.00</td>\n",
       "    </tr>\n",
       "    <tr>\n",
       "      <th>Sales and related occupations</th>\n",
       "      <td>775.221278</td>\n",
       "      <td>620.0</td>\n",
       "      <td>600.00</td>\n",
       "    </tr>\n",
       "    <tr>\n",
       "      <th>Transportation and material moving occupations</th>\n",
       "      <td>705.545946</td>\n",
       "      <td>664.0</td>\n",
       "      <td>1000.00</td>\n",
       "    </tr>\n",
       "    <tr>\n",
       "      <th rowspan=\"22\" valign=\"top\">Male</th>\n",
       "      <th>Architecture and engineering occupations</th>\n",
       "      <td>2341.273790</td>\n",
       "      <td>1850.0</td>\n",
       "      <td>8115.06</td>\n",
       "    </tr>\n",
       "    <tr>\n",
       "      <th>Arts, design, entertainment, sports, and media occupations</th>\n",
       "      <td>1966.488387</td>\n",
       "      <td>1250.0</td>\n",
       "      <td>8115.06</td>\n",
       "    </tr>\n",
       "    <tr>\n",
       "      <th>Building and grounds cleaning and maintenance occupations</th>\n",
       "      <td>806.450262</td>\n",
       "      <td>760.0</td>\n",
       "      <td>600.00</td>\n",
       "    </tr>\n",
       "    <tr>\n",
       "      <th>Business and financial operations occupations</th>\n",
       "      <td>2216.633307</td>\n",
       "      <td>1730.0</td>\n",
       "      <td>8115.06</td>\n",
       "    </tr>\n",
       "    <tr>\n",
       "      <th>Community and social service occupations</th>\n",
       "      <td>1778.052131</td>\n",
       "      <td>1310.0</td>\n",
       "      <td>1154.00</td>\n",
       "    </tr>\n",
       "    <tr>\n",
       "      <th>Computer and mathematical occupations</th>\n",
       "      <td>2555.576013</td>\n",
       "      <td>2140.0</td>\n",
       "      <td>8115.06</td>\n",
       "    </tr>\n",
       "    <tr>\n",
       "      <th>Construction and extraction occupations</th>\n",
       "      <td>1396.110427</td>\n",
       "      <td>1135.0</td>\n",
       "      <td>1000.00</td>\n",
       "    </tr>\n",
       "    <tr>\n",
       "      <th>Education instruction and library occupations</th>\n",
       "      <td>1714.251744</td>\n",
       "      <td>1440.0</td>\n",
       "      <td>1154.00</td>\n",
       "    </tr>\n",
       "    <tr>\n",
       "      <th>Farming, fishing, and forestry occupations</th>\n",
       "      <td>737.956522</td>\n",
       "      <td>720.0</td>\n",
       "      <td>300.00</td>\n",
       "    </tr>\n",
       "    <tr>\n",
       "      <th>Food preparation and serving related occupations</th>\n",
       "      <td>615.425000</td>\n",
       "      <td>555.0</td>\n",
       "      <td>760.00</td>\n",
       "    </tr>\n",
       "    <tr>\n",
       "      <th>Healthcare practitioner and technical occupations</th>\n",
       "      <td>2511.007792</td>\n",
       "      <td>1825.0</td>\n",
       "      <td>8115.06</td>\n",
       "    </tr>\n",
       "    <tr>\n",
       "      <th>Healthcare support occupations</th>\n",
       "      <td>994.246415</td>\n",
       "      <td>750.0</td>\n",
       "      <td>1040.00</td>\n",
       "    </tr>\n",
       "    <tr>\n",
       "      <th>Installation, maintenance, and repair occupations</th>\n",
       "      <td>1304.111462</td>\n",
       "      <td>1146.0</td>\n",
       "      <td>1000.00</td>\n",
       "    </tr>\n",
       "    <tr>\n",
       "      <th>Legal occupations</th>\n",
       "      <td>3939.235652</td>\n",
       "      <td>2790.0</td>\n",
       "      <td>8115.06</td>\n",
       "    </tr>\n",
       "    <tr>\n",
       "      <th>Life, physical, and social science occupations</th>\n",
       "      <td>2545.979459</td>\n",
       "      <td>1885.0</td>\n",
       "      <td>8115.06</td>\n",
       "    </tr>\n",
       "    <tr>\n",
       "      <th>Management occupations</th>\n",
       "      <td>2553.091280</td>\n",
       "      <td>1920.0</td>\n",
       "      <td>8115.06</td>\n",
       "    </tr>\n",
       "    <tr>\n",
       "      <th>Office and administrative support occupations</th>\n",
       "      <td>1125.101368</td>\n",
       "      <td>962.0</td>\n",
       "      <td>800.00</td>\n",
       "    </tr>\n",
       "    <tr>\n",
       "      <th>Personal care and service occupations</th>\n",
       "      <td>1004.862778</td>\n",
       "      <td>770.0</td>\n",
       "      <td>800.00</td>\n",
       "    </tr>\n",
       "    <tr>\n",
       "      <th>Production occupations</th>\n",
       "      <td>1211.385278</td>\n",
       "      <td>1060.0</td>\n",
       "      <td>800.00</td>\n",
       "    </tr>\n",
       "    <tr>\n",
       "      <th>Protective service occupations</th>\n",
       "      <td>1662.377727</td>\n",
       "      <td>1250.0</td>\n",
       "      <td>8115.06</td>\n",
       "    </tr>\n",
       "    <tr>\n",
       "      <th>Sales and related occupations</th>\n",
       "      <td>1595.997783</td>\n",
       "      <td>1154.0</td>\n",
       "      <td>8115.06</td>\n",
       "    </tr>\n",
       "    <tr>\n",
       "      <th>Transportation and material moving occupations</th>\n",
       "      <td>980.384085</td>\n",
       "      <td>840.0</td>\n",
       "      <td>800.00</td>\n",
       "    </tr>\n",
       "  </tbody>\n",
       "</table>\n",
       "</div>"
      ],
      "text/plain": [
       "                                                                  Mean  \\\n",
       "Sex    Occupation                                                        \n",
       "Female Architecture and engineering occupations            1901.575185   \n",
       "       Arts, design, entertainment, sports, and media ...  1148.425000   \n",
       "       Building and grounds cleaning and maintenance o...   569.773050   \n",
       "       Business and financial operations occupations       1737.636000   \n",
       "       Community and social service occupations            1290.804094   \n",
       "       Computer and mathematical occupations               2170.077895   \n",
       "       Construction and extraction occupations             1216.444444   \n",
       "       Education instruction and library occupations       1209.098531   \n",
       "       Farming, fishing, and forestry occupations           593.066667   \n",
       "       Food preparation and serving related occupations     519.993548   \n",
       "       Healthcare practitioner and technical occupations   1632.280636   \n",
       "       Healthcare support occupations                       797.438619   \n",
       "       Installation, maintenance, and repair occupations    870.000000   \n",
       "       Legal occupations                                   2009.772308   \n",
       "       Life, physical, and social science occupations      1936.950667   \n",
       "       Management occupations                              1945.385839   \n",
       "       Office and administrative support occupations       1003.008281   \n",
       "       Personal care and service occupations                587.492063   \n",
       "       Production occupations                               781.128205   \n",
       "       Protective service occupations                      1223.321429   \n",
       "       Sales and related occupations                        775.221278   \n",
       "       Transportation and material moving occupations       705.545946   \n",
       "Male   Architecture and engineering occupations            2341.273790   \n",
       "       Arts, design, entertainment, sports, and media ...  1966.488387   \n",
       "       Building and grounds cleaning and maintenance o...   806.450262   \n",
       "       Business and financial operations occupations       2216.633307   \n",
       "       Community and social service occupations            1778.052131   \n",
       "       Computer and mathematical occupations               2555.576013   \n",
       "       Construction and extraction occupations             1396.110427   \n",
       "       Education instruction and library occupations       1714.251744   \n",
       "       Farming, fishing, and forestry occupations           737.956522   \n",
       "       Food preparation and serving related occupations     615.425000   \n",
       "       Healthcare practitioner and technical occupations   2511.007792   \n",
       "       Healthcare support occupations                       994.246415   \n",
       "       Installation, maintenance, and repair occupations   1304.111462   \n",
       "       Legal occupations                                   3939.235652   \n",
       "       Life, physical, and social science occupations      2545.979459   \n",
       "       Management occupations                              2553.091280   \n",
       "       Office and administrative support occupations       1125.101368   \n",
       "       Personal care and service occupations               1004.862778   \n",
       "       Production occupations                              1211.385278   \n",
       "       Protective service occupations                      1662.377727   \n",
       "       Sales and related occupations                       1595.997783   \n",
       "       Transportation and material moving occupations       980.384085   \n",
       "\n",
       "                                                           Median     Mode  \n",
       "Sex    Occupation                                                           \n",
       "Female Architecture and engineering occupations            1840.0  2880.00  \n",
       "       Arts, design, entertainment, sports, and media ...  1079.0  1250.00  \n",
       "       Building and grounds cleaning and maintenance o...   510.0   600.00  \n",
       "       Business and financial operations occupations       1380.0  1154.00  \n",
       "       Community and social service occupations            1154.0  1250.00  \n",
       "       Computer and mathematical occupations               1880.0  2880.00  \n",
       "       Construction and extraction occupations              775.0  2540.00  \n",
       "       Education instruction and library occupations       1000.0  1154.00  \n",
       "       Farming, fishing, and forestry occupations           640.0   660.00  \n",
       "       Food preparation and serving related occupations     480.0   600.00  \n",
       "       Healthcare practitioner and technical occupations   1330.0  8115.06  \n",
       "       Healthcare support occupations                       692.0   600.00  \n",
       "       Installation, maintenance, and repair occupations    708.0    14.00  \n",
       "       Legal occupations                                   1440.0  1440.00  \n",
       "       Life, physical, and social science occupations      1350.0  8115.06  \n",
       "       Management occupations                              1500.0  8115.06  \n",
       "       Office and administrative support occupations        873.0  1000.00  \n",
       "       Personal care and service occupations                557.0   576.00  \n",
       "       Production occupations                               750.0  1000.00  \n",
       "       Protective service occupations                       948.0  2500.00  \n",
       "       Sales and related occupations                        620.0   600.00  \n",
       "       Transportation and material moving occupations       664.0  1000.00  \n",
       "Male   Architecture and engineering occupations            1850.0  8115.06  \n",
       "       Arts, design, entertainment, sports, and media ...  1250.0  8115.06  \n",
       "       Building and grounds cleaning and maintenance o...   760.0   600.00  \n",
       "       Business and financial operations occupations       1730.0  8115.06  \n",
       "       Community and social service occupations            1310.0  1154.00  \n",
       "       Computer and mathematical occupations               2140.0  8115.06  \n",
       "       Construction and extraction occupations             1135.0  1000.00  \n",
       "       Education instruction and library occupations       1440.0  1154.00  \n",
       "       Farming, fishing, and forestry occupations           720.0   300.00  \n",
       "       Food preparation and serving related occupations     555.0   760.00  \n",
       "       Healthcare practitioner and technical occupations   1825.0  8115.06  \n",
       "       Healthcare support occupations                       750.0  1040.00  \n",
       "       Installation, maintenance, and repair occupations   1146.0  1000.00  \n",
       "       Legal occupations                                   2790.0  8115.06  \n",
       "       Life, physical, and social science occupations      1885.0  8115.06  \n",
       "       Management occupations                              1920.0  8115.06  \n",
       "       Office and administrative support occupations        962.0   800.00  \n",
       "       Personal care and service occupations                770.0   800.00  \n",
       "       Production occupations                              1060.0   800.00  \n",
       "       Protective service occupations                      1250.0  8115.06  \n",
       "       Sales and related occupations                       1154.0  8115.06  \n",
       "       Transportation and material moving occupations       840.0   800.00  "
      ]
     },
     "execution_count": 35,
     "metadata": {},
     "output_type": "execute_result"
    }
   ],
   "source": [
    "occupation_stats = df.groupby(['Sex', 'Occupation'])['Weekly Earnings'].agg(['mean', 'median', lambda x: x.mode().iloc[0]])\n",
    "occupation_stats.columns = ['Mean', 'Median', 'Mode']\n",
    "occupation_stats\n"
   ]
  },
  {
   "cell_type": "code",
   "execution_count": null,
   "metadata": {},
   "outputs": [
    {
     "name": "stderr",
     "output_type": "stream",
     "text": [
      "/var/folders/fk/b6qsr5kn60l42qzvvj2hdyjm0000gn/T/ipykernel_20956/885272739.py:30: DeprecationWarning: DataFrameGroupBy.apply operated on the grouping columns. This behavior is deprecated, and in a future version of pandas the grouping columns will be excluded from the operation. Either pass `include_groups=False` to exclude the groupings or explicitly select the grouping columns after groupby to silence this warning.\n",
      "  weighted_stats = df.groupby(group).apply(\n"
     ]
    },
    {
     "data": {
      "text/html": [
       "<div>\n",
       "<style scoped>\n",
       "    .dataframe tbody tr th:only-of-type {\n",
       "        vertical-align: middle;\n",
       "    }\n",
       "\n",
       "    .dataframe tbody tr th {\n",
       "        vertical-align: top;\n",
       "    }\n",
       "\n",
       "    .dataframe thead th {\n",
       "        text-align: right;\n",
       "    }\n",
       "</style>\n",
       "<table border=\"1\" class=\"dataframe\">\n",
       "  <thead>\n",
       "    <tr style=\"text-align: right;\">\n",
       "      <th></th>\n",
       "      <th>Sex</th>\n",
       "      <th>Occupation</th>\n",
       "      <th>Education Enrollment</th>\n",
       "      <th>Weighted Mean</th>\n",
       "      <th>Weighted Median</th>\n",
       "      <th>Weighted Mode</th>\n",
       "    </tr>\n",
       "  </thead>\n",
       "  <tbody>\n",
       "    <tr>\n",
       "      <th>0</th>\n",
       "      <td>Female</td>\n",
       "      <td>Architecture and engineering occupations</td>\n",
       "      <td>Enrolled</td>\n",
       "      <td>1888.035158</td>\n",
       "      <td>2420.0</td>\n",
       "      <td>2420.00</td>\n",
       "    </tr>\n",
       "    <tr>\n",
       "      <th>1</th>\n",
       "      <td>Female</td>\n",
       "      <td>Architecture and engineering occupations</td>\n",
       "      <td>Not enrolled</td>\n",
       "      <td>1920.180443</td>\n",
       "      <td>1730.0</td>\n",
       "      <td>1880.00</td>\n",
       "    </tr>\n",
       "    <tr>\n",
       "      <th>2</th>\n",
       "      <td>Female</td>\n",
       "      <td>Arts, design, entertainment, sports, and media...</td>\n",
       "      <td>Enrolled</td>\n",
       "      <td>454.753594</td>\n",
       "      <td>340.0</td>\n",
       "      <td>420.00</td>\n",
       "    </tr>\n",
       "    <tr>\n",
       "      <th>3</th>\n",
       "      <td>Female</td>\n",
       "      <td>Arts, design, entertainment, sports, and media...</td>\n",
       "      <td>Not enrolled</td>\n",
       "      <td>1293.364996</td>\n",
       "      <td>1250.0</td>\n",
       "      <td>1250.00</td>\n",
       "    </tr>\n",
       "    <tr>\n",
       "      <th>4</th>\n",
       "      <td>Female</td>\n",
       "      <td>Building and grounds cleaning and maintenance ...</td>\n",
       "      <td>Enrolled</td>\n",
       "      <td>139.442122</td>\n",
       "      <td>150.0</td>\n",
       "      <td>150.00</td>\n",
       "    </tr>\n",
       "    <tr>\n",
       "      <th>...</th>\n",
       "      <td>...</td>\n",
       "      <td>...</td>\n",
       "      <td>...</td>\n",
       "      <td>...</td>\n",
       "      <td>...</td>\n",
       "      <td>...</td>\n",
       "    </tr>\n",
       "    <tr>\n",
       "      <th>83</th>\n",
       "      <td>Male</td>\n",
       "      <td>Protective service occupations</td>\n",
       "      <td>Not enrolled</td>\n",
       "      <td>1851.739557</td>\n",
       "      <td>1300.0</td>\n",
       "      <td>8115.06</td>\n",
       "    </tr>\n",
       "    <tr>\n",
       "      <th>84</th>\n",
       "      <td>Male</td>\n",
       "      <td>Sales and related occupations</td>\n",
       "      <td>Enrolled</td>\n",
       "      <td>644.007590</td>\n",
       "      <td>278.0</td>\n",
       "      <td>140.00</td>\n",
       "    </tr>\n",
       "    <tr>\n",
       "      <th>85</th>\n",
       "      <td>Male</td>\n",
       "      <td>Sales and related occupations</td>\n",
       "      <td>Not enrolled</td>\n",
       "      <td>1655.924588</td>\n",
       "      <td>1154.0</td>\n",
       "      <td>8115.06</td>\n",
       "    </tr>\n",
       "    <tr>\n",
       "      <th>86</th>\n",
       "      <td>Male</td>\n",
       "      <td>Transportation and material moving occupations</td>\n",
       "      <td>Enrolled</td>\n",
       "      <td>334.259729</td>\n",
       "      <td>210.0</td>\n",
       "      <td>156.00</td>\n",
       "    </tr>\n",
       "    <tr>\n",
       "      <th>87</th>\n",
       "      <td>Male</td>\n",
       "      <td>Transportation and material moving occupations</td>\n",
       "      <td>Not enrolled</td>\n",
       "      <td>950.270538</td>\n",
       "      <td>840.0</td>\n",
       "      <td>800.00</td>\n",
       "    </tr>\n",
       "  </tbody>\n",
       "</table>\n",
       "<p>88 rows × 6 columns</p>\n",
       "</div>"
      ],
      "text/plain": [
       "       Sex                                         Occupation  \\\n",
       "0   Female           Architecture and engineering occupations   \n",
       "1   Female           Architecture and engineering occupations   \n",
       "2   Female  Arts, design, entertainment, sports, and media...   \n",
       "3   Female  Arts, design, entertainment, sports, and media...   \n",
       "4   Female  Building and grounds cleaning and maintenance ...   \n",
       "..     ...                                                ...   \n",
       "83    Male                     Protective service occupations   \n",
       "84    Male                      Sales and related occupations   \n",
       "85    Male                      Sales and related occupations   \n",
       "86    Male     Transportation and material moving occupations   \n",
       "87    Male     Transportation and material moving occupations   \n",
       "\n",
       "   Education Enrollment  Weighted Mean  Weighted Median  Weighted Mode  \n",
       "0              Enrolled    1888.035158           2420.0        2420.00  \n",
       "1          Not enrolled    1920.180443           1730.0        1880.00  \n",
       "2              Enrolled     454.753594            340.0         420.00  \n",
       "3          Not enrolled    1293.364996           1250.0        1250.00  \n",
       "4              Enrolled     139.442122            150.0         150.00  \n",
       "..                  ...            ...              ...            ...  \n",
       "83         Not enrolled    1851.739557           1300.0        8115.06  \n",
       "84             Enrolled     644.007590            278.0         140.00  \n",
       "85         Not enrolled    1655.924588           1154.0        8115.06  \n",
       "86             Enrolled     334.259729            210.0         156.00  \n",
       "87         Not enrolled     950.270538            840.0         800.00  \n",
       "\n",
       "[88 rows x 6 columns]"
      ]
     },
     "execution_count": 36,
     "metadata": {},
     "output_type": "execute_result"
    }
   ],
   "source": [
    "import pandas as pd\n",
    "import numpy as np\n",
    "\n",
    "# Load your CSV file (adjust filename if needed)\n",
    "# df = pd.read_csv(\"your_file.csv\")\n",
    "\n",
    "# If you're using pasted data as a string, use this instead:\n",
    "# from io import StringIO\n",
    "# df = pd.read_csv(StringIO(your_data_string))\n",
    "\n",
    "# Clean column names\n",
    "df.columns = df.columns.str.strip()\n",
    "\n",
    "# Helper functions\n",
    "def weighted_mean(x):\n",
    "    return (x['Weekly Earnings'] * x['PWSSWGT']).sum() / x['PWSSWGT'].sum()\n",
    "\n",
    "def weighted_median(data, weights):\n",
    "    sorted_data, sorted_weights = zip(*sorted(zip(data, weights)))\n",
    "    cum_weights = np.cumsum(sorted_weights)\n",
    "    cutoff = sum(sorted_weights) / 2\n",
    "    return sorted_data[np.searchsorted(cum_weights, cutoff)]\n",
    "\n",
    "def weighted_mode(x, weights):\n",
    "    df_temp = pd.DataFrame({'value': x, 'weight': weights})\n",
    "    return df_temp.groupby('value')['weight'].sum().idxmax()\n",
    "\n",
    "# Group by Sex, Occupation, and Education Enrollment\n",
    "group = ['Sex', 'Occupation', 'Education Enrollment']\n",
    "weighted_stats = df.groupby(group).apply(\n",
    "    lambda g: pd.Series({\n",
    "        'Weighted Mean': weighted_mean(g),\n",
    "        'Weighted Median': weighted_median(g['Weekly Earnings'], g['PWSSWGT']),\n",
    "        'Weighted Mode': weighted_mode(g['Weekly Earnings'], g['PWSSWGT'])\n",
    "    })\n",
    ").reset_index()\n",
    "\n",
    "# Display results\n",
    "weighted_stats\n"
   ]
  },
  {
   "cell_type": "code",
   "execution_count": null,
   "metadata": {},
   "outputs": [
    {
     "name": "stderr",
     "output_type": "stream",
     "text": [
      "/var/folders/fk/b6qsr5kn60l42qzvvj2hdyjm0000gn/T/ipykernel_20956/2010112593.py:4: DeprecationWarning: DataFrameGroupBy.apply operated on the grouping columns. This behavior is deprecated, and in a future version of pandas the grouping columns will be excluded from the operation. Either pass `include_groups=False` to exclude the groupings or explicitly select the grouping columns after groupby to silence this warning.\n",
      "  occupation_stats = df.groupby(group).apply(\n"
     ]
    },
    {
     "data": {
      "text/html": [
       "<div>\n",
       "<style scoped>\n",
       "    .dataframe tbody tr th:only-of-type {\n",
       "        vertical-align: middle;\n",
       "    }\n",
       "\n",
       "    .dataframe tbody tr th {\n",
       "        vertical-align: top;\n",
       "    }\n",
       "\n",
       "    .dataframe thead th {\n",
       "        text-align: right;\n",
       "    }\n",
       "</style>\n",
       "<table border=\"1\" class=\"dataframe\">\n",
       "  <thead>\n",
       "    <tr style=\"text-align: right;\">\n",
       "      <th></th>\n",
       "      <th>Occupation</th>\n",
       "      <th>Weighted Mean</th>\n",
       "      <th>Weighted Median</th>\n",
       "      <th>Weighted Mode</th>\n",
       "    </tr>\n",
       "  </thead>\n",
       "  <tbody>\n",
       "    <tr>\n",
       "      <th>0</th>\n",
       "      <td>Architecture and engineering occupations</td>\n",
       "      <td>2176.421425</td>\n",
       "      <td>1850.0</td>\n",
       "      <td>8115.06</td>\n",
       "    </tr>\n",
       "    <tr>\n",
       "      <th>1</th>\n",
       "      <td>Arts, design, entertainment, sports, and media...</td>\n",
       "      <td>1483.192721</td>\n",
       "      <td>1154.0</td>\n",
       "      <td>1250.00</td>\n",
       "    </tr>\n",
       "    <tr>\n",
       "      <th>2</th>\n",
       "      <td>Building and grounds cleaning and maintenance ...</td>\n",
       "      <td>718.882576</td>\n",
       "      <td>684.0</td>\n",
       "      <td>600.00</td>\n",
       "    </tr>\n",
       "    <tr>\n",
       "      <th>3</th>\n",
       "      <td>Business and financial operations occupations</td>\n",
       "      <td>1973.689652</td>\n",
       "      <td>1540.0</td>\n",
       "      <td>8115.06</td>\n",
       "    </tr>\n",
       "    <tr>\n",
       "      <th>4</th>\n",
       "      <td>Community and social service occupations</td>\n",
       "      <td>1452.366848</td>\n",
       "      <td>1200.0</td>\n",
       "      <td>1250.00</td>\n",
       "    </tr>\n",
       "    <tr>\n",
       "      <th>5</th>\n",
       "      <td>Computer and mathematical occupations</td>\n",
       "      <td>2453.759994</td>\n",
       "      <td>2100.0</td>\n",
       "      <td>8115.06</td>\n",
       "    </tr>\n",
       "    <tr>\n",
       "      <th>6</th>\n",
       "      <td>Construction and extraction occupations</td>\n",
       "      <td>1301.812302</td>\n",
       "      <td>1008.0</td>\n",
       "      <td>1000.00</td>\n",
       "    </tr>\n",
       "    <tr>\n",
       "      <th>7</th>\n",
       "      <td>Education instruction and library occupations</td>\n",
       "      <td>1300.602448</td>\n",
       "      <td>1102.0</td>\n",
       "      <td>1154.00</td>\n",
       "    </tr>\n",
       "    <tr>\n",
       "      <th>8</th>\n",
       "      <td>Farming, fishing, and forestry occupations</td>\n",
       "      <td>641.678237</td>\n",
       "      <td>674.0</td>\n",
       "      <td>300.00</td>\n",
       "    </tr>\n",
       "    <tr>\n",
       "      <th>9</th>\n",
       "      <td>Food preparation and serving related occupations</td>\n",
       "      <td>569.971363</td>\n",
       "      <td>500.0</td>\n",
       "      <td>600.00</td>\n",
       "    </tr>\n",
       "    <tr>\n",
       "      <th>10</th>\n",
       "      <td>Healthcare practitioner and technical occupations</td>\n",
       "      <td>1797.198409</td>\n",
       "      <td>1390.0</td>\n",
       "      <td>8115.06</td>\n",
       "    </tr>\n",
       "    <tr>\n",
       "      <th>11</th>\n",
       "      <td>Healthcare support occupations</td>\n",
       "      <td>818.545756</td>\n",
       "      <td>680.0</td>\n",
       "      <td>600.00</td>\n",
       "    </tr>\n",
       "    <tr>\n",
       "      <th>12</th>\n",
       "      <td>Installation, maintenance, and repair occupations</td>\n",
       "      <td>1275.985636</td>\n",
       "      <td>1134.0</td>\n",
       "      <td>1000.00</td>\n",
       "    </tr>\n",
       "    <tr>\n",
       "      <th>13</th>\n",
       "      <td>Legal occupations</td>\n",
       "      <td>2620.676689</td>\n",
       "      <td>1810.0</td>\n",
       "      <td>8115.06</td>\n",
       "    </tr>\n",
       "    <tr>\n",
       "      <th>14</th>\n",
       "      <td>Life, physical, and social science occupations</td>\n",
       "      <td>2234.354969</td>\n",
       "      <td>1630.0</td>\n",
       "      <td>8115.06</td>\n",
       "    </tr>\n",
       "    <tr>\n",
       "      <th>15</th>\n",
       "      <td>Management occupations</td>\n",
       "      <td>2267.552849</td>\n",
       "      <td>1730.0</td>\n",
       "      <td>8115.06</td>\n",
       "    </tr>\n",
       "    <tr>\n",
       "      <th>16</th>\n",
       "      <td>Office and administrative support occupations</td>\n",
       "      <td>1052.842861</td>\n",
       "      <td>884.0</td>\n",
       "      <td>1000.00</td>\n",
       "    </tr>\n",
       "    <tr>\n",
       "      <th>17</th>\n",
       "      <td>Personal care and service occupations</td>\n",
       "      <td>657.716167</td>\n",
       "      <td>576.0</td>\n",
       "      <td>800.00</td>\n",
       "    </tr>\n",
       "    <tr>\n",
       "      <th>18</th>\n",
       "      <td>Production occupations</td>\n",
       "      <td>1066.158507</td>\n",
       "      <td>960.0</td>\n",
       "      <td>1000.00</td>\n",
       "    </tr>\n",
       "    <tr>\n",
       "      <th>19</th>\n",
       "      <td>Protective service occupations</td>\n",
       "      <td>1599.490443</td>\n",
       "      <td>1154.0</td>\n",
       "      <td>8115.06</td>\n",
       "    </tr>\n",
       "    <tr>\n",
       "      <th>20</th>\n",
       "      <td>Sales and related occupations</td>\n",
       "      <td>1188.597228</td>\n",
       "      <td>800.0</td>\n",
       "      <td>1154.00</td>\n",
       "    </tr>\n",
       "    <tr>\n",
       "      <th>21</th>\n",
       "      <td>Transportation and material moving occupations</td>\n",
       "      <td>900.367014</td>\n",
       "      <td>800.0</td>\n",
       "      <td>800.00</td>\n",
       "    </tr>\n",
       "  </tbody>\n",
       "</table>\n",
       "</div>"
      ],
      "text/plain": [
       "                                           Occupation  Weighted Mean  \\\n",
       "0            Architecture and engineering occupations    2176.421425   \n",
       "1   Arts, design, entertainment, sports, and media...    1483.192721   \n",
       "2   Building and grounds cleaning and maintenance ...     718.882576   \n",
       "3       Business and financial operations occupations    1973.689652   \n",
       "4            Community and social service occupations    1452.366848   \n",
       "5               Computer and mathematical occupations    2453.759994   \n",
       "6             Construction and extraction occupations    1301.812302   \n",
       "7       Education instruction and library occupations    1300.602448   \n",
       "8          Farming, fishing, and forestry occupations     641.678237   \n",
       "9    Food preparation and serving related occupations     569.971363   \n",
       "10  Healthcare practitioner and technical occupations    1797.198409   \n",
       "11                     Healthcare support occupations     818.545756   \n",
       "12  Installation, maintenance, and repair occupations    1275.985636   \n",
       "13                                  Legal occupations    2620.676689   \n",
       "14     Life, physical, and social science occupations    2234.354969   \n",
       "15                             Management occupations    2267.552849   \n",
       "16      Office and administrative support occupations    1052.842861   \n",
       "17              Personal care and service occupations     657.716167   \n",
       "18                             Production occupations    1066.158507   \n",
       "19                     Protective service occupations    1599.490443   \n",
       "20                      Sales and related occupations    1188.597228   \n",
       "21     Transportation and material moving occupations     900.367014   \n",
       "\n",
       "    Weighted Median  Weighted Mode  \n",
       "0            1850.0        8115.06  \n",
       "1            1154.0        1250.00  \n",
       "2             684.0         600.00  \n",
       "3            1540.0        8115.06  \n",
       "4            1200.0        1250.00  \n",
       "5            2100.0        8115.06  \n",
       "6            1008.0        1000.00  \n",
       "7            1102.0        1154.00  \n",
       "8             674.0         300.00  \n",
       "9             500.0         600.00  \n",
       "10           1390.0        8115.06  \n",
       "11            680.0         600.00  \n",
       "12           1134.0        1000.00  \n",
       "13           1810.0        8115.06  \n",
       "14           1630.0        8115.06  \n",
       "15           1730.0        8115.06  \n",
       "16            884.0        1000.00  \n",
       "17            576.0         800.00  \n",
       "18            960.0        1000.00  \n",
       "19           1154.0        8115.06  \n",
       "20            800.0        1154.00  \n",
       "21            800.0         800.00  "
      ]
     },
     "execution_count": 37,
     "metadata": {},
     "output_type": "execute_result"
    }
   ],
   "source": [
    "# Group by Occupation only\n",
    "group = ['Occupation']\n",
    "\n",
    "occupation_stats = df.groupby(group).apply(\n",
    "    lambda g: pd.Series({\n",
    "        'Weighted Mean': weighted_mean(g),\n",
    "        'Weighted Median': weighted_median(g['Weekly Earnings'], g['PWSSWGT']),\n",
    "        'Weighted Mode': weighted_mode(g['Weekly Earnings'], g['PWSSWGT'])\n",
    "    })\n",
    ").reset_index()\n",
    "\n",
    "# Show result\n",
    "occupation_stats\n"
   ]
  },
  {
   "cell_type": "code",
   "execution_count": null,
   "metadata": {},
   "outputs": [
    {
     "name": "stdout",
     "output_type": "stream",
     "text": [
      "['Male' 'Female']\n"
     ]
    }
   ],
   "source": [
    "print(df['Sex'].unique())\n"
   ]
  },
  {
   "cell_type": "code",
   "execution_count": null,
   "metadata": {},
   "outputs": [],
   "source": [
    "# Comparison between male vs. femoal earnings within same job title\n",
    "# gender_pay_gap = df.pivot_table(\n",
    "#     values='Weekly Earnings',\n",
    "#     index='Occupation',\n",
    "#     columns='Sex',\n",
    "#     aggfunc='mean'\n",
    "# ).dropna()\n",
    "\n",
    "# # Calculate difference\n",
    "# gender_pay_gap['Gap'] = gender_pay_gap['Male'] - gender_pay_gap['Female']\n",
    "# gender_pay_gap.sort_values('Gap')\n"
   ]
  },
  {
   "cell_type": "code",
   "execution_count": null,
   "metadata": {},
   "outputs": [
    {
     "name": "stderr",
     "output_type": "stream",
     "text": [
      "/var/folders/fk/b6qsr5kn60l42qzvvj2hdyjm0000gn/T/ipykernel_20956/1166386276.py:6: DeprecationWarning: DataFrameGroupBy.apply operated on the grouping columns. This behavior is deprecated, and in a future version of pandas the grouping columns will be excluded from the operation. Either pass `include_groups=False` to exclude the groupings or explicitly select the grouping columns after groupby to silence this warning.\n",
      "  weighted_means = df.groupby(['Occupation', 'Sex']).apply(weighted_mean).unstack()\n"
     ]
    },
    {
     "data": {
      "text/html": [
       "<div>\n",
       "<style scoped>\n",
       "    .dataframe tbody tr th:only-of-type {\n",
       "        vertical-align: middle;\n",
       "    }\n",
       "\n",
       "    .dataframe tbody tr th {\n",
       "        vertical-align: top;\n",
       "    }\n",
       "\n",
       "    .dataframe thead th {\n",
       "        text-align: right;\n",
       "    }\n",
       "</style>\n",
       "<table border=\"1\" class=\"dataframe\">\n",
       "  <thead>\n",
       "    <tr style=\"text-align: right;\">\n",
       "      <th></th>\n",
       "      <th>Female</th>\n",
       "      <th>Male</th>\n",
       "      <th>Gap</th>\n",
       "    </tr>\n",
       "    <tr>\n",
       "      <th>Occupation</th>\n",
       "      <th></th>\n",
       "      <th></th>\n",
       "      <th></th>\n",
       "    </tr>\n",
       "  </thead>\n",
       "  <tbody>\n",
       "    <tr>\n",
       "      <th>Legal occupations</th>\n",
       "      <td>1978.964720</td>\n",
       "      <td>3798.519983</td>\n",
       "      <td>-1819.555263</td>\n",
       "    </tr>\n",
       "    <tr>\n",
       "      <th>Sales and related occupations</th>\n",
       "      <td>791.548588</td>\n",
       "      <td>1566.323318</td>\n",
       "      <td>-774.774731</td>\n",
       "    </tr>\n",
       "    <tr>\n",
       "      <th>Healthcare practitioner and technical occupations</th>\n",
       "      <td>1617.086324</td>\n",
       "      <td>2389.459848</td>\n",
       "      <td>-772.373524</td>\n",
       "    </tr>\n",
       "    <tr>\n",
       "      <th>Management occupations</th>\n",
       "      <td>1943.588043</td>\n",
       "      <td>2537.601019</td>\n",
       "      <td>-594.012976</td>\n",
       "    </tr>\n",
       "    <tr>\n",
       "      <th>Arts, design, entertainment, sports, and media occupations</th>\n",
       "      <td>1188.696418</td>\n",
       "      <td>1698.157227</td>\n",
       "      <td>-509.460808</td>\n",
       "    </tr>\n",
       "    <tr>\n",
       "      <th>Business and financial operations occupations</th>\n",
       "      <td>1775.311471</td>\n",
       "      <td>2254.909834</td>\n",
       "      <td>-479.598363</td>\n",
       "    </tr>\n",
       "    <tr>\n",
       "      <th>Computer and mathematical occupations</th>\n",
       "      <td>2131.319163</td>\n",
       "      <td>2593.296482</td>\n",
       "      <td>-461.977320</td>\n",
       "    </tr>\n",
       "    <tr>\n",
       "      <th>Education instruction and library occupations</th>\n",
       "      <td>1195.763741</td>\n",
       "      <td>1641.447332</td>\n",
       "      <td>-445.683591</td>\n",
       "    </tr>\n",
       "    <tr>\n",
       "      <th>Community and social service occupations</th>\n",
       "      <td>1316.590233</td>\n",
       "      <td>1753.282368</td>\n",
       "      <td>-436.692134</td>\n",
       "    </tr>\n",
       "    <tr>\n",
       "      <th>Protective service occupations</th>\n",
       "      <td>1280.689335</td>\n",
       "      <td>1715.844699</td>\n",
       "      <td>-435.155364</td>\n",
       "    </tr>\n",
       "    <tr>\n",
       "      <th>Installation, maintenance, and repair occupations</th>\n",
       "      <td>885.875885</td>\n",
       "      <td>1287.109089</td>\n",
       "      <td>-401.233204</td>\n",
       "    </tr>\n",
       "    <tr>\n",
       "      <th>Life, physical, and social science occupations</th>\n",
       "      <td>2026.882278</td>\n",
       "      <td>2426.240644</td>\n",
       "      <td>-399.358366</td>\n",
       "    </tr>\n",
       "    <tr>\n",
       "      <th>Production occupations</th>\n",
       "      <td>790.968029</td>\n",
       "      <td>1159.837300</td>\n",
       "      <td>-368.869271</td>\n",
       "    </tr>\n",
       "    <tr>\n",
       "      <th>Personal care and service occupations</th>\n",
       "      <td>574.869290</td>\n",
       "      <td>942.923585</td>\n",
       "      <td>-368.054295</td>\n",
       "    </tr>\n",
       "    <tr>\n",
       "      <th>Construction and extraction occupations</th>\n",
       "      <td>961.003754</td>\n",
       "      <td>1313.996762</td>\n",
       "      <td>-352.993007</td>\n",
       "    </tr>\n",
       "    <tr>\n",
       "      <th>Architecture and engineering occupations</th>\n",
       "      <td>1911.018477</td>\n",
       "      <td>2248.923563</td>\n",
       "      <td>-337.905085</td>\n",
       "    </tr>\n",
       "    <tr>\n",
       "      <th>Healthcare support occupations</th>\n",
       "      <td>778.618431</td>\n",
       "      <td>1047.804484</td>\n",
       "      <td>-269.186054</td>\n",
       "    </tr>\n",
       "    <tr>\n",
       "      <th>Transportation and material moving occupations</th>\n",
       "      <td>700.255959</td>\n",
       "      <td>964.632325</td>\n",
       "      <td>-264.376365</td>\n",
       "    </tr>\n",
       "    <tr>\n",
       "      <th>Building and grounds cleaning and maintenance occupations</th>\n",
       "      <td>563.876948</td>\n",
       "      <td>827.267855</td>\n",
       "      <td>-263.390908</td>\n",
       "    </tr>\n",
       "    <tr>\n",
       "      <th>Office and administrative support occupations</th>\n",
       "      <td>1013.357401</td>\n",
       "      <td>1149.614603</td>\n",
       "      <td>-136.257202</td>\n",
       "    </tr>\n",
       "    <tr>\n",
       "      <th>Food preparation and serving related occupations</th>\n",
       "      <td>515.047525</td>\n",
       "      <td>637.944369</td>\n",
       "      <td>-122.896844</td>\n",
       "    </tr>\n",
       "    <tr>\n",
       "      <th>Farming, fishing, and forestry occupations</th>\n",
       "      <td>565.121978</td>\n",
       "      <td>665.007388</td>\n",
       "      <td>-99.885410</td>\n",
       "    </tr>\n",
       "  </tbody>\n",
       "</table>\n",
       "</div>"
      ],
      "text/plain": [
       "                                                         Female         Male  \\\n",
       "Occupation                                                                     \n",
       "Legal occupations                                   1978.964720  3798.519983   \n",
       "Sales and related occupations                        791.548588  1566.323318   \n",
       "Healthcare practitioner and technical occupations   1617.086324  2389.459848   \n",
       "Management occupations                              1943.588043  2537.601019   \n",
       "Arts, design, entertainment, sports, and media ...  1188.696418  1698.157227   \n",
       "Business and financial operations occupations       1775.311471  2254.909834   \n",
       "Computer and mathematical occupations               2131.319163  2593.296482   \n",
       "Education instruction and library occupations       1195.763741  1641.447332   \n",
       "Community and social service occupations            1316.590233  1753.282368   \n",
       "Protective service occupations                      1280.689335  1715.844699   \n",
       "Installation, maintenance, and repair occupations    885.875885  1287.109089   \n",
       "Life, physical, and social science occupations      2026.882278  2426.240644   \n",
       "Production occupations                               790.968029  1159.837300   \n",
       "Personal care and service occupations                574.869290   942.923585   \n",
       "Construction and extraction occupations              961.003754  1313.996762   \n",
       "Architecture and engineering occupations            1911.018477  2248.923563   \n",
       "Healthcare support occupations                       778.618431  1047.804484   \n",
       "Transportation and material moving occupations       700.255959   964.632325   \n",
       "Building and grounds cleaning and maintenance o...   563.876948   827.267855   \n",
       "Office and administrative support occupations       1013.357401  1149.614603   \n",
       "Food preparation and serving related occupations     515.047525   637.944369   \n",
       "Farming, fishing, and forestry occupations           565.121978   665.007388   \n",
       "\n",
       "                                                            Gap  \n",
       "Occupation                                                       \n",
       "Legal occupations                                  -1819.555263  \n",
       "Sales and related occupations                       -774.774731  \n",
       "Healthcare practitioner and technical occupations   -772.373524  \n",
       "Management occupations                              -594.012976  \n",
       "Arts, design, entertainment, sports, and media ...  -509.460808  \n",
       "Business and financial operations occupations       -479.598363  \n",
       "Computer and mathematical occupations               -461.977320  \n",
       "Education instruction and library occupations       -445.683591  \n",
       "Community and social service occupations            -436.692134  \n",
       "Protective service occupations                      -435.155364  \n",
       "Installation, maintenance, and repair occupations   -401.233204  \n",
       "Life, physical, and social science occupations      -399.358366  \n",
       "Production occupations                              -368.869271  \n",
       "Personal care and service occupations               -368.054295  \n",
       "Construction and extraction occupations             -352.993007  \n",
       "Architecture and engineering occupations            -337.905085  \n",
       "Healthcare support occupations                      -269.186054  \n",
       "Transportation and material moving occupations      -264.376365  \n",
       "Building and grounds cleaning and maintenance o...  -263.390908  \n",
       "Office and administrative support occupations       -136.257202  \n",
       "Food preparation and serving related occupations    -122.896844  \n",
       "Farming, fishing, and forestry occupations           -99.885410  "
      ]
     },
     "execution_count": 40,
     "metadata": {},
     "output_type": "execute_result"
    }
   ],
   "source": [
    "# Helper for weighted mean\n",
    "def weighted_mean(x):\n",
    "    return (x['Weekly Earnings'] * x['PWSSWGT']).sum() / x['PWSSWGT'].sum()\n",
    "\n",
    "# Step 1: Group by Occupation and Sex, compute weighted means\n",
    "weighted_means = df.groupby(['Occupation', 'Sex']).apply(weighted_mean).unstack()\n",
    "\n",
    "# Step 2: Rename columns just in case they are lowercase\n",
    "weighted_means.columns.name = None\n",
    "weighted_means = weighted_means.rename(columns=lambda x: x.capitalize())\n",
    "\n",
    "# Step 3: Calculate the gender pay gap (Male - Female)\n",
    "weighted_means['Gap'] = weighted_means['Female'] - weighted_means['Male']\n",
    "\n",
    "# Step 4: Sort by gap\n",
    "gender_pay_gap = weighted_means.sort_values('Gap')\n",
    "\n",
    "# Show result\n",
    "gender_pay_gap\n"
   ]
  },
  {
   "cell_type": "code",
   "execution_count": null,
   "metadata": {},
   "outputs": [
    {
     "name": "stderr",
     "output_type": "stream",
     "text": [
      "/var/folders/fk/b6qsr5kn60l42qzvvj2hdyjm0000gn/T/ipykernel_20956/3323134889.py:12: FutureWarning: The default of observed=False is deprecated and will be changed to True in a future version of pandas. Pass observed=False to retain current behavior or observed=True to adopt the future default and silence this warning.\n",
      "  df.groupby('Education Level Attained')['Weekly Earnings'].mean().plot(kind='bar', figsize=(12, 6), title='Weekly Earnings by Education Level')\n"
     ]
    },
    {
     "data": {
      "text/plain": [
       "<Axes: title={'center': 'Weekly Earnings by Education Level'}, xlabel='Education Level Attained'>"
      ]
     },
     "execution_count": 41,
     "metadata": {},
     "output_type": "execute_result"
    },
    {
     "data": {
      "image/png": "[encoded data removed]",
      "text/plain": [
       "<Figure size 1200x600 with 1 Axes>"
      ]
     },
     "metadata": {},
     "output_type": "display_data"
    }
   ],
   "source": [
    "# Optional: Create an ordered category for education levels\n",
    "education_order = [\n",
    "    \"less than 1st grade\", \"1st, 2nd, 3rd, or 4th grade\", \"5th or 6th grade\",\n",
    "    \"7th and 8th grade\", \"9th grade\", \"10th grade\", \"11th grade\", \"12th grade no diploma\",\n",
    "    \"high school graduate\", \"some college, no degree\", \"associate degree\",\n",
    "    \"bachelor's degree\", \"master's degree\", \"professional degree\", \"doctorate degree\"\n",
    "]\n",
    "\n",
    "df['Education Level Attained'] = pd.Categorical(df['Education Level Attained'], categories=education_order, ordered=True)\n",
    "\n",
    "# Plot average earnings by education level\n",
    "df.groupby('Education Level Attained')['Weekly Earnings'].mean().plot(kind='bar', figsize=(12, 6), title='Weekly Earnings by Education Level')\n"
   ]
  },
  {
   "cell_type": "code",
   "execution_count": null,
   "metadata": {},
   "outputs": [
    {
     "data": {
      "application/vnd.plotly.v1+json": {
       "config": {
        "plotlyServerURL": "https://plot.ly"
       },
       "data": [
        {
         "alignmentgroup": "True",
         "hovertemplate": "Pay Gap ($)=%{marker.color}<br>Occupation=%{y}<extra></extra>",
         "legendgroup": "",
         "marker": {
          "color": [
           -1819.5552630223244,
           -774.7747308343387,
           -772.3735243484721,
           -594.012975651659,
           -509.4608084316628,
           -479.59836296960543,
           -461.9773196479223,
           -445.68359084295435,
           -436.69213408857536,
           -435.1553640573027,
           -401.2332036721489,
           -399.3583662816777,
           -368.8692713966059,
           -368.0542953718699,
           -352.9930074402805,
           -337.9050852553887,
           -269.1860536445487,
           -264.3763651592418,
           -263.39090766631784,
           -136.2572020984445,
           -122.89684388382261,
           -99.8854097456524
          ],
          "coloraxis": "coloraxis",
          "pattern": {
           "shape": ""
          }
         },
         "name": "",
         "offsetgroup": "",
         "orientation": "h",
         "showlegend": false,
         "textposition": "auto",
         "type": "bar",
         "x": [
          -1819.5552630223244,
          -774.7747308343387,
          -772.3735243484721,
          -594.012975651659,
          -509.4608084316628,
          -479.59836296960543,
          -461.9773196479223,
          -445.68359084295435,
          -436.69213408857536,
          -435.1553640573027,
          -401.2332036721489,
          -399.3583662816777,
          -368.8692713966059,
          -368.0542953718699,
          -352.9930074402805,
          -337.9050852553887,
          -269.1860536445487,
          -264.3763651592418,
          -263.39090766631784,
          -136.2572020984445,
          -122.89684388382261,
          -99.8854097456524
         ],
         "xaxis": "x",
         "y": [
          "Legal occupations",
          "Sales and related occupations",
          "Healthcare practitioner and technical occupations",
          "Management occupations",
          "Arts, design, entertainment, sports, and media occupations",
          "Business and financial operations occupations",
          "Computer and mathematical occupations",
          "Education instruction and library occupations",
          "Community and social service occupations",
          "Protective service occupations",
          "Installation, maintenance, and repair occupations",
          "Life, physical, and social science occupations",
          "Production occupations",
          "Personal care and service occupations",
          "Construction and extraction occupations",
          "Architecture and engineering occupations",
          "Healthcare support occupations",
          "Transportation and material moving occupations",
          "Building and grounds cleaning and maintenance occupations",
          "Office and administrative support occupations",
          "Food preparation and serving related occupations",
          "Farming, fishing, and forestry occupations"
         ],
         "yaxis": "y"
        }
       ],
       "layout": {
        "barmode": "relative",
        "coloraxis": {
         "colorbar": {
          "title": {
           "text": "Pay Gap ($)"
          }
         },
         "colorscale": [
          [
           0,
           "rgb(103,0,31)"
          ],
          [
           0.1,
           "rgb(178,24,43)"
          ],
          [
           0.2,
           "rgb(214,96,77)"
          ],
          [
           0.3,
           "rgb(244,165,130)"
          ],
          [
           0.4,
           "rgb(253,219,199)"
          ],
          [
           0.5,
           "rgb(247,247,247)"
          ],
          [
           0.6,
           "rgb(209,229,240)"
          ],
          [
           0.7,
           "rgb(146,197,222)"
          ],
          [
           0.8,
           "rgb(67,147,195)"
          ],
          [
           0.9,
           "rgb(33,102,172)"
          ],
          [
           1,
           "rgb(5,48,97)"
          ]
         ]
        },
        "legend": {
         "tracegroupgap": 0
        },
        "template": {
         "data": {
          "bar": [
           {
            "error_x": {
             "color": "#2a3f5f"
            },
            "error_y": {
             "color": "#2a3f5f"
            },
            "marker": {
             "line": {
              "color": "#E5ECF6",
              "width": 0.5
             },
             "pattern": {
              "fillmode": "overlay",
              "size": 10,
              "solidity": 0.2
             }
            },
            "type": "bar"
           }
          ],
          "barpolar": [
           {
            "marker": {
             "line": {
              "color": "#E5ECF6",
              "width": 0.5
             },
             "pattern": {
              "fillmode": "overlay",
              "size": 10,
              "solidity": 0.2
             }
            },
            "type": "barpolar"
           }
          ],
          "carpet": [
           {
            "aaxis": {
             "endlinecolor": "#2a3f5f",
             "gridcolor": "white",
             "linecolor": "white",
             "minorgridcolor": "white",
             "startlinecolor": "#2a3f5f"
            },
            "baxis": {
             "endlinecolor": "#2a3f5f",
             "gridcolor": "white",
             "linecolor": "white",
             "minorgridcolor": "white",
             "startlinecolor": "#2a3f5f"
            },
            "type": "carpet"
           }
          ],
          "choropleth": [
           {
            "colorbar": {
             "outlinewidth": 0,
             "ticks": ""
            },
            "type": "choropleth"
           }
          ],
          "contour": [
           {
            "colorbar": {
             "outlinewidth": 0,
             "ticks": ""
            },
            "colorscale": [
             [
              0,
              "#0d0887"
             ],
             [
              0.1111111111111111,
              "#46039f"
             ],
             [
              0.2222222222222222,
              "#7201a8"
             ],
             [
              0.3333333333333333,
              "#9c179e"
             ],
             [
              0.4444444444444444,
              "#bd3786"
             ],
             [
              0.5555555555555556,
              "#d8576b"
             ],
             [
              0.6666666666666666,
              "#ed7953"
             ],
             [
              0.7777777777777778,
              "#fb9f3a"
             ],
             [
              0.8888888888888888,
              "#fdca26"
             ],
             [
              1,
              "#f0f921"
             ]
            ],
            "type": "contour"
           }
          ],
          "contourcarpet": [
           {
            "colorbar": {
             "outlinewidth": 0,
             "ticks": ""
            },
            "type": "contourcarpet"
           }
          ],
          "heatmap": [
           {
            "colorbar": {
             "outlinewidth": 0,
             "ticks": ""
            },
            "colorscale": [
             [
              0,
              "#0d0887"
             ],
             [
              0.1111111111111111,
              "#46039f"
             ],
             [
              0.2222222222222222,
              "#7201a8"
             ],
             [
              0.3333333333333333,
              "#9c179e"
             ],
             [
              0.4444444444444444,
              "#bd3786"
             ],
             [
              0.5555555555555556,
              "#d8576b"
             ],
             [
              0.6666666666666666,
              "#ed7953"
             ],
             [
              0.7777777777777778,
              "#fb9f3a"
             ],
             [
              0.8888888888888888,
              "#fdca26"
             ],
             [
              1,
              "#f0f921"
             ]
            ],
            "type": "heatmap"
           }
          ],
          "heatmapgl": [
           {
            "colorbar": {
             "outlinewidth": 0,
             "ticks": ""
            },
            "colorscale": [
             [
              0,
              "#0d0887"
             ],
             [
              0.1111111111111111,
              "#46039f"
             ],
             [
              0.2222222222222222,
              "#7201a8"
             ],
             [
              0.3333333333333333,
              "#9c179e"
             ],
             [
              0.4444444444444444,
              "#bd3786"
             ],
             [
              0.5555555555555556,
              "#d8576b"
             ],
             [
              0.6666666666666666,
              "#ed7953"
             ],
             [
              0.7777777777777778,
              "#fb9f3a"
             ],
             [
              0.8888888888888888,
              "#fdca26"
             ],
             [
              1,
              "#f0f921"
             ]
            ],
            "type": "heatmapgl"
           }
          ],
          "histogram": [
           {
            "marker": {
             "pattern": {
              "fillmode": "overlay",
              "size": 10,
              "solidity": 0.2
             }
            },
            "type": "histogram"
           }
          ],
          "histogram2d": [
           {
            "colorbar": {
             "outlinewidth": 0,
             "ticks": ""
            },
            "colorscale": [
             [
              0,
              "#0d0887"
             ],
             [
              0.1111111111111111,
              "#46039f"
             ],
             [
              0.2222222222222222,
              "#7201a8"
             ],
             [
              0.3333333333333333,
              "#9c179e"
             ],
             [
              0.4444444444444444,
              "#bd3786"
             ],
             [
              0.5555555555555556,
              "#d8576b"
             ],
             [
              0.6666666666666666,
              "#ed7953"
             ],
             [
              0.7777777777777778,
              "#fb9f3a"
             ],
             [
              0.8888888888888888,
              "#fdca26"
             ],
             [
              1,
              "#f0f921"
             ]
            ],
            "type": "histogram2d"
           }
          ],
          "histogram2dcontour": [
           {
            "colorbar": {
             "outlinewidth": 0,
             "ticks": ""
            },
            "colorscale": [
             [
              0,
              "#0d0887"
             ],
             [
              0.1111111111111111,
              "#46039f"
             ],
             [
              0.2222222222222222,
              "#7201a8"
             ],
             [
              0.3333333333333333,
              "#9c179e"
             ],
             [
              0.4444444444444444,
              "#bd3786"
             ],
             [
              0.5555555555555556,
              "#d8576b"
             ],
             [
              0.6666666666666666,
              "#ed7953"
             ],
             [
              0.7777777777777778,
              "#fb9f3a"
             ],
             [
              0.8888888888888888,
              "#fdca26"
             ],
             [
              1,
              "#f0f921"
             ]
            ],
            "type": "histogram2dcontour"
           }
          ],
          "mesh3d": [
           {
            "colorbar": {
             "outlinewidth": 0,
             "ticks": ""
            },
            "type": "mesh3d"
           }
          ],
          "parcoords": [
           {
            "line": {
             "colorbar": {
              "outlinewidth": 0,
              "ticks": ""
             }
            },
            "type": "parcoords"
           }
          ],
          "pie": [
           {
            "automargin": true,
            "type": "pie"
           }
          ],
          "scatter": [
           {
            "fillpattern": {
             "fillmode": "overlay",
             "size": 10,
             "solidity": 0.2
            },
            "type": "scatter"
           }
          ],
          "scatter3d": [
           {
            "line": {
             "colorbar": {
              "outlinewidth": 0,
              "ticks": ""
             }
            },
            "marker": {
             "colorbar": {
              "outlinewidth": 0,
              "ticks": ""
             }
            },
            "type": "scatter3d"
           }
          ],
          "scattercarpet": [
           {
            "marker": {
             "colorbar": {
              "outlinewidth": 0,
              "ticks": ""
             }
            },
            "type": "scattercarpet"
           }
          ],
          "scattergeo": [
           {
            "marker": {
             "colorbar": {
              "outlinewidth": 0,
              "ticks": ""
             }
            },
            "type": "scattergeo"
           }
          ],
          "scattergl": [
           {
            "marker": {
             "colorbar": {
              "outlinewidth": 0,
              "ticks": ""
             }
            },
            "type": "scattergl"
           }
          ],
          "scattermapbox": [
           {
            "marker": {
             "colorbar": {
              "outlinewidth": 0,
              "ticks": ""
             }
            },
            "type": "scattermapbox"
           }
          ],
          "scatterpolar": [
           {
            "marker": {
             "colorbar": {
              "outlinewidth": 0,
              "ticks": ""
             }
            },
            "type": "scatterpolar"
           }
          ],
          "scatterpolargl": [
           {
            "marker": {
             "colorbar": {
              "outlinewidth": 0,
              "ticks": ""
             }
            },
            "type": "scatterpolargl"
           }
          ],
          "scatterternary": [
           {
            "marker": {
             "colorbar": {
              "outlinewidth": 0,
              "ticks": ""
             }
            },
            "type": "scatterternary"
           }
          ],
          "surface": [
           {
            "colorbar": {
             "outlinewidth": 0,
             "ticks": ""
            },
            "colorscale": [
             [
              0,
              "#0d0887"
             ],
             [
              0.1111111111111111,
              "#46039f"
             ],
             [
              0.2222222222222222,
              "#7201a8"
             ],
             [
              0.3333333333333333,
              "#9c179e"
             ],
             [
              0.4444444444444444,
              "#bd3786"
             ],
             [
              0.5555555555555556,
              "#d8576b"
             ],
             [
              0.6666666666666666,
              "#ed7953"
             ],
             [
              0.7777777777777778,
              "#fb9f3a"
             ],
             [
              0.8888888888888888,
              "#fdca26"
             ],
             [
              1,
              "#f0f921"
             ]
            ],
            "type": "surface"
           }
          ],
          "table": [
           {
            "cells": {
             "fill": {
              "color": "#EBF0F8"
             },
             "line": {
              "color": "white"
             }
            },
            "header": {
             "fill": {
              "color": "#C8D4E3"
             },
             "line": {
              "color": "white"
             }
            },
            "type": "table"
           }
          ]
         },
         "layout": {
          "annotationdefaults": {
           "arrowcolor": "#2a3f5f",
           "arrowhead": 0,
           "arrowwidth": 1
          },
          "autotypenumbers": "strict",
          "coloraxis": {
           "colorbar": {
            "outlinewidth": 0,
            "ticks": ""
           }
          },
          "colorscale": {
           "diverging": [
            [
             0,
             "#8e0152"
            ],
            [
             0.1,
             "#c51b7d"
            ],
            [
             0.2,
             "#de77ae"
            ],
            [
             0.3,
             "#f1b6da"
            ],
            [
             0.4,
             "#fde0ef"
            ],
            [
             0.5,
             "#f7f7f7"
            ],
            [
             0.6,
             "#e6f5d0"
            ],
            [
             0.7,
             "#b8e186"
            ],
            [
             0.8,
             "#7fbc41"
            ],
            [
             0.9,
             "#4d9221"
            ],
            [
             1,
             "#276419"
            ]
           ],
           "sequential": [
            [
             0,
             "#0d0887"
            ],
            [
             0.1111111111111111,
             "#46039f"
            ],
            [
             0.2222222222222222,
             "#7201a8"
            ],
            [
             0.3333333333333333,
             "#9c179e"
            ],
            [
             0.4444444444444444,
             "#bd3786"
            ],
            [
             0.5555555555555556,
             "#d8576b"
            ],
            [
             0.6666666666666666,
             "#ed7953"
            ],
            [
             0.7777777777777778,
             "#fb9f3a"
            ],
            [
             0.8888888888888888,
             "#fdca26"
            ],
            [
             1,
             "#f0f921"
            ]
           ],
           "sequentialminus": [
            [
             0,
             "#0d0887"
            ],
            [
             0.1111111111111111,
             "#46039f"
            ],
            [
             0.2222222222222222,
             "#7201a8"
            ],
            [
             0.3333333333333333,
             "#9c179e"
            ],
            [
             0.4444444444444444,
             "#bd3786"
            ],
            [
             0.5555555555555556,
             "#d8576b"
            ],
            [
             0.6666666666666666,
             "#ed7953"
            ],
            [
             0.7777777777777778,
             "#fb9f3a"
            ],
            [
             0.8888888888888888,
             "#fdca26"
            ],
            [
             1,
             "#f0f921"
            ]
           ]
          },
          "colorway": [
           "#636efa",
           "#EF553B",
           "#00cc96",
           "#ab63fa",
           "#FFA15A",
           "#19d3f3",
           "#FF6692",
           "#B6E880",
           "#FF97FF",
           "#FECB52"
          ],
          "font": {
           "color": "#2a3f5f"
          },
          "geo": {
           "bgcolor": "white",
           "lakecolor": "white",
           "landcolor": "#E5ECF6",
           "showlakes": true,
           "showland": true,
           "subunitcolor": "white"
          },
          "hoverlabel": {
           "align": "left"
          },
          "hovermode": "closest",
          "mapbox": {
           "style": "light"
          },
          "paper_bgcolor": "white",
          "plot_bgcolor": "#E5ECF6",
          "polar": {
           "angularaxis": {
            "gridcolor": "white",
            "linecolor": "white",
            "ticks": ""
           },
           "bgcolor": "#E5ECF6",
           "radialaxis": {
            "gridcolor": "white",
            "linecolor": "white",
            "ticks": ""
           }
          },
          "scene": {
           "xaxis": {
            "backgroundcolor": "#E5ECF6",
            "gridcolor": "white",
            "gridwidth": 2,
            "linecolor": "white",
            "showbackground": true,
            "ticks": "",
            "zerolinecolor": "white"
           },
           "yaxis": {
            "backgroundcolor": "#E5ECF6",
            "gridcolor": "white",
            "gridwidth": 2,
            "linecolor": "white",
            "showbackground": true,
            "ticks": "",
            "zerolinecolor": "white"
           },
           "zaxis": {
            "backgroundcolor": "#E5ECF6",
            "gridcolor": "white",
            "gridwidth": 2,
            "linecolor": "white",
            "showbackground": true,
            "ticks": "",
            "zerolinecolor": "white"
           }
          },
          "shapedefaults": {
           "line": {
            "color": "#2a3f5f"
           }
          },
          "ternary": {
           "aaxis": {
            "gridcolor": "white",
            "linecolor": "white",
            "ticks": ""
           },
           "baxis": {
            "gridcolor": "white",
            "linecolor": "white",
            "ticks": ""
           },
           "bgcolor": "#E5ECF6",
           "caxis": {
            "gridcolor": "white",
            "linecolor": "white",
            "ticks": ""
           }
          },
          "title": {
           "x": 0.05
          },
          "xaxis": {
           "automargin": true,
           "gridcolor": "white",
           "linecolor": "white",
           "ticks": "",
           "title": {
            "standoff": 15
           },
           "zerolinecolor": "white",
           "zerolinewidth": 2
          },
          "yaxis": {
           "automargin": true,
           "gridcolor": "white",
           "linecolor": "white",
           "ticks": "",
           "title": {
            "standoff": 15
           },
           "zerolinecolor": "white",
           "zerolinewidth": 2
          }
         }
        },
        "title": {
         "text": "Gender Pay Gap by Occupation (Male - Female)"
        },
        "xaxis": {
         "anchor": "y",
         "domain": [
          0,
          1
         ],
         "title": {
          "text": "Pay Gap ($)"
         }
        },
        "yaxis": {
         "anchor": "x",
         "categoryorder": "total ascending",
         "domain": [
          0,
          1
         ],
         "title": {
          "text": "Occupation"
         }
        }
       }
      }
     },
     "metadata": {},
     "output_type": "display_data"
    }
   ],
   "source": [
    "\n",
    "fig1 = px.bar(\n",
    "    gender_pay_gap.reset_index(),\n",
    "    x='Gap',\n",
    "    y='Occupation',\n",
    "    orientation='h',\n",
    "    color='Gap',\n",
    "    color_continuous_scale='RdBu',\n",
    "    title='Gender Pay Gap by Occupation (Male - Female)',\n",
    "    labels={'Gap': 'Pay Gap ($)'}\n",
    ")\n",
    "\n",
    "fig1.update_layout(yaxis={'categoryorder': 'total ascending'})\n",
    "fig1.show()\n"
   ]
  },
  {
   "cell_type": "code",
   "execution_count": null,
   "metadata": {},
   "outputs": [
    {
     "data": {
      "application/vnd.plotly.v1+json": {
       "config": {
        "plotlyServerURL": "https://plot.ly"
       },
       "data": [
        {
         "alignmentgroup": "True",
         "hovertemplate": "Gender=Male<br>Earnings=%{x}<br>Occupation=%{y}<extra></extra>",
         "legendgroup": "Male",
         "marker": {
          "color": "#636efa",
          "pattern": {
           "shape": ""
          }
         },
         "name": "Male",
         "offsetgroup": "Male",
         "orientation": "h",
         "showlegend": true,
         "textposition": "auto",
         "type": "bar",
         "x": [
          2248.9235627314506,
          1698.1572265543157,
          827.2678552560172,
          2254.9098344555327,
          1753.28236755485,
          2593.296482180835,
          1313.9967617165391,
          1641.4473316180247,
          665.0073879029491,
          637.944368507092,
          2389.459848255552,
          1047.8044844929736,
          1287.1090891530937,
          3798.519983078173,
          2426.2406439692804,
          2537.601018798615,
          1149.6146029163888,
          942.9235854473221,
          1159.8373002568399,
          1715.8446986239892,
          1566.3233184706316,
          964.6323245718236
         ],
         "xaxis": "x",
         "y": [
          "Architecture and engineering occupations",
          "Arts, design, entertainment, sports, and media occupations",
          "Building and grounds cleaning and maintenance occupations",
          "Business and financial operations occupations",
          "Community and social service occupations",
          "Computer and mathematical occupations",
          "Construction and extraction occupations",
          "Education instruction and library occupations",
          "Farming, fishing, and forestry occupations",
          "Food preparation and serving related occupations",
          "Healthcare practitioner and technical occupations",
          "Healthcare support occupations",
          "Installation, maintenance, and repair occupations",
          "Legal occupations",
          "Life, physical, and social science occupations",
          "Management occupations",
          "Office and administrative support occupations",
          "Personal care and service occupations",
          "Production occupations",
          "Protective service occupations",
          "Sales and related occupations",
          "Transportation and material moving occupations"
         ],
         "yaxis": "y"
        },
        {
         "alignmentgroup": "True",
         "hovertemplate": "Gender=Female<br>Earnings=%{x}<br>Occupation=%{y}<extra></extra>",
         "legendgroup": "Female",
         "marker": {
          "color": "#EF553B",
          "pattern": {
           "shape": ""
          }
         },
         "name": "Female",
         "offsetgroup": "Female",
         "orientation": "h",
         "showlegend": true,
         "textposition": "auto",
         "type": "bar",
         "x": [
          1911.018477476062,
          1188.6964181226529,
          563.8769475896994,
          1775.3114714859273,
          1316.5902334662746,
          2131.3191625329127,
          961.0037542762586,
          1195.7637407750703,
          565.1219781572967,
          515.0475246232694,
          1617.08632390708,
          778.618430848425,
          885.8758854809448,
          1978.9647200558486,
          2026.8822776876027,
          1943.588043146956,
          1013.3574008179443,
          574.8692900754522,
          790.968028860234,
          1280.6893345666865,
          791.548587636293,
          700.2559594125818
         ],
         "xaxis": "x",
         "y": [
          "Architecture and engineering occupations",
          "Arts, design, entertainment, sports, and media occupations",
          "Building and grounds cleaning and maintenance occupations",
          "Business and financial operations occupations",
          "Community and social service occupations",
          "Computer and mathematical occupations",
          "Construction and extraction occupations",
          "Education instruction and library occupations",
          "Farming, fishing, and forestry occupations",
          "Food preparation and serving related occupations",
          "Healthcare practitioner and technical occupations",
          "Healthcare support occupations",
          "Installation, maintenance, and repair occupations",
          "Legal occupations",
          "Life, physical, and social science occupations",
          "Management occupations",
          "Office and administrative support occupations",
          "Personal care and service occupations",
          "Production occupations",
          "Protective service occupations",
          "Sales and related occupations",
          "Transportation and material moving occupations"
         ],
         "yaxis": "y"
        }
       ],
       "layout": {
        "barmode": "group",
        "legend": {
         "title": {
          "text": "Gender"
         },
         "tracegroupgap": 0
        },
        "template": {
         "data": {
          "bar": [
           {
            "error_x": {
             "color": "#2a3f5f"
            },
            "error_y": {
             "color": "#2a3f5f"
            },
            "marker": {
             "line": {
              "color": "#E5ECF6",
              "width": 0.5
             },
             "pattern": {
              "fillmode": "overlay",
              "size": 10,
              "solidity": 0.2
             }
            },
            "type": "bar"
           }
          ],
          "barpolar": [
           {
            "marker": {
             "line": {
              "color": "#E5ECF6",
              "width": 0.5
             },
             "pattern": {
              "fillmode": "overlay",
              "size": 10,
              "solidity": 0.2
             }
            },
            "type": "barpolar"
           }
          ],
          "carpet": [
           {
            "aaxis": {
             "endlinecolor": "#2a3f5f",
             "gridcolor": "white",
             "linecolor": "white",
             "minorgridcolor": "white",
             "startlinecolor": "#2a3f5f"
            },
            "baxis": {
             "endlinecolor": "#2a3f5f",
             "gridcolor": "white",
             "linecolor": "white",
             "minorgridcolor": "white",
             "startlinecolor": "#2a3f5f"
            },
            "type": "carpet"
           }
          ],
          "choropleth": [
           {
            "colorbar": {
             "outlinewidth": 0,
             "ticks": ""
            },
            "type": "choropleth"
           }
          ],
          "contour": [
           {
            "colorbar": {
             "outlinewidth": 0,
             "ticks": ""
            },
            "colorscale": [
             [
              0,
              "#0d0887"
             ],
             [
              0.1111111111111111,
              "#46039f"
             ],
             [
              0.2222222222222222,
              "#7201a8"
             ],
             [
              0.3333333333333333,
              "#9c179e"
             ],
             [
              0.4444444444444444,
              "#bd3786"
             ],
             [
              0.5555555555555556,
              "#d8576b"
             ],
             [
              0.6666666666666666,
              "#ed7953"
             ],
             [
              0.7777777777777778,
              "#fb9f3a"
             ],
             [
              0.8888888888888888,
              "#fdca26"
             ],
             [
              1,
              "#f0f921"
             ]
            ],
            "type": "contour"
           }
          ],
          "contourcarpet": [
           {
            "colorbar": {
             "outlinewidth": 0,
             "ticks": ""
            },
            "type": "contourcarpet"
           }
          ],
          "heatmap": [
           {
            "colorbar": {
             "outlinewidth": 0,
             "ticks": ""
            },
            "colorscale": [
             [
              0,
              "#0d0887"
             ],
             [
              0.1111111111111111,
              "#46039f"
             ],
             [
              0.2222222222222222,
              "#7201a8"
             ],
             [
              0.3333333333333333,
              "#9c179e"
             ],
             [
              0.4444444444444444,
              "#bd3786"
             ],
             [
              0.5555555555555556,
              "#d8576b"
             ],
             [
              0.6666666666666666,
              "#ed7953"
             ],
             [
              0.7777777777777778,
              "#fb9f3a"
             ],
             [
              0.8888888888888888,
              "#fdca26"
             ],
             [
              1,
              "#f0f921"
             ]
            ],
            "type": "heatmap"
           }
          ],
          "heatmapgl": [
           {
            "colorbar": {
             "outlinewidth": 0,
             "ticks": ""
            },
            "colorscale": [
             [
              0,
              "#0d0887"
             ],
             [
              0.1111111111111111,
              "#46039f"
             ],
             [
              0.2222222222222222,
              "#7201a8"
             ],
             [
              0.3333333333333333,
              "#9c179e"
             ],
             [
              0.4444444444444444,
              "#bd3786"
             ],
             [
              0.5555555555555556,
              "#d8576b"
             ],
             [
              0.6666666666666666,
              "#ed7953"
             ],
             [
              0.7777777777777778,
              "#fb9f3a"
             ],
             [
              0.8888888888888888,
              "#fdca26"
             ],
             [
              1,
              "#f0f921"
             ]
            ],
            "type": "heatmapgl"
           }
          ],
          "histogram": [
           {
            "marker": {
             "pattern": {
              "fillmode": "overlay",
              "size": 10,
              "solidity": 0.2
             }
            },
            "type": "histogram"
           }
          ],
          "histogram2d": [
           {
            "colorbar": {
             "outlinewidth": 0,
             "ticks": ""
            },
            "colorscale": [
             [
              0,
              "#0d0887"
             ],
             [
              0.1111111111111111,
              "#46039f"
             ],
             [
              0.2222222222222222,
              "#7201a8"
             ],
             [
              0.3333333333333333,
              "#9c179e"
             ],
             [
              0.4444444444444444,
              "#bd3786"
             ],
             [
              0.5555555555555556,
              "#d8576b"
             ],
             [
              0.6666666666666666,
              "#ed7953"
             ],
             [
              0.7777777777777778,
              "#fb9f3a"
             ],
             [
              0.8888888888888888,
              "#fdca26"
             ],
             [
              1,
              "#f0f921"
             ]
            ],
            "type": "histogram2d"
           }
          ],
          "histogram2dcontour": [
           {
            "colorbar": {
             "outlinewidth": 0,
             "ticks": ""
            },
            "colorscale": [
             [
              0,
              "#0d0887"
             ],
             [
              0.1111111111111111,
              "#46039f"
             ],
             [
              0.2222222222222222,
              "#7201a8"
             ],
             [
              0.3333333333333333,
              "#9c179e"
             ],
             [
              0.4444444444444444,
              "#bd3786"
             ],
             [
              0.5555555555555556,
              "#d8576b"
             ],
             [
              0.6666666666666666,
              "#ed7953"
             ],
             [
              0.7777777777777778,
              "#fb9f3a"
             ],
             [
              0.8888888888888888,
              "#fdca26"
             ],
             [
              1,
              "#f0f921"
             ]
            ],
            "type": "histogram2dcontour"
           }
          ],
          "mesh3d": [
           {
            "colorbar": {
             "outlinewidth": 0,
             "ticks": ""
            },
            "type": "mesh3d"
           }
          ],
          "parcoords": [
           {
            "line": {
             "colorbar": {
              "outlinewidth": 0,
              "ticks": ""
             }
            },
            "type": "parcoords"
           }
          ],
          "pie": [
           {
            "automargin": true,
            "type": "pie"
           }
          ],
          "scatter": [
           {
            "fillpattern": {
             "fillmode": "overlay",
             "size": 10,
             "solidity": 0.2
            },
            "type": "scatter"
           }
          ],
          "scatter3d": [
           {
            "line": {
             "colorbar": {
              "outlinewidth": 0,
              "ticks": ""
             }
            },
            "marker": {
             "colorbar": {
              "outlinewidth": 0,
              "ticks": ""
             }
            },
            "type": "scatter3d"
           }
          ],
          "scattercarpet": [
           {
            "marker": {
             "colorbar": {
              "outlinewidth": 0,
              "ticks": ""
             }
            },
            "type": "scattercarpet"
           }
          ],
          "scattergeo": [
           {
            "marker": {
             "colorbar": {
              "outlinewidth": 0,
              "ticks": ""
             }
            },
            "type": "scattergeo"
           }
          ],
          "scattergl": [
           {
            "marker": {
             "colorbar": {
              "outlinewidth": 0,
              "ticks": ""
             }
            },
            "type": "scattergl"
           }
          ],
          "scattermapbox": [
           {
            "marker": {
             "colorbar": {
              "outlinewidth": 0,
              "ticks": ""
             }
            },
            "type": "scattermapbox"
           }
          ],
          "scatterpolar": [
           {
            "marker": {
             "colorbar": {
              "outlinewidth": 0,
              "ticks": ""
             }
            },
            "type": "scatterpolar"
           }
          ],
          "scatterpolargl": [
           {
            "marker": {
             "colorbar": {
              "outlinewidth": 0,
              "ticks": ""
             }
            },
            "type": "scatterpolargl"
           }
          ],
          "scatterternary": [
           {
            "marker": {
             "colorbar": {
              "outlinewidth": 0,
              "ticks": ""
             }
            },
            "type": "scatterternary"
           }
          ],
          "surface": [
           {
            "colorbar": {
             "outlinewidth": 0,
             "ticks": ""
            },
            "colorscale": [
             [
              0,
              "#0d0887"
             ],
             [
              0.1111111111111111,
              "#46039f"
             ],
             [
              0.2222222222222222,
              "#7201a8"
             ],
             [
              0.3333333333333333,
              "#9c179e"
             ],
             [
              0.4444444444444444,
              "#bd3786"
             ],
             [
              0.5555555555555556,
              "#d8576b"
             ],
             [
              0.6666666666666666,
              "#ed7953"
             ],
             [
              0.7777777777777778,
              "#fb9f3a"
             ],
             [
              0.8888888888888888,
              "#fdca26"
             ],
             [
              1,
              "#f0f921"
             ]
            ],
            "type": "surface"
           }
          ],
          "table": [
           {
            "cells": {
             "fill": {
              "color": "#EBF0F8"
             },
             "line": {
              "color": "white"
             }
            },
            "header": {
             "fill": {
              "color": "#C8D4E3"
             },
             "line": {
              "color": "white"
             }
            },
            "type": "table"
           }
          ]
         },
         "layout": {
          "annotationdefaults": {
           "arrowcolor": "#2a3f5f",
           "arrowhead": 0,
           "arrowwidth": 1
          },
          "autotypenumbers": "strict",
          "coloraxis": {
           "colorbar": {
            "outlinewidth": 0,
            "ticks": ""
           }
          },
          "colorscale": {
           "diverging": [
            [
             0,
             "#8e0152"
            ],
            [
             0.1,
             "#c51b7d"
            ],
            [
             0.2,
             "#de77ae"
            ],
            [
             0.3,
             "#f1b6da"
            ],
            [
             0.4,
             "#fde0ef"
            ],
            [
             0.5,
             "#f7f7f7"
            ],
            [
             0.6,
             "#e6f5d0"
            ],
            [
             0.7,
             "#b8e186"
            ],
            [
             0.8,
             "#7fbc41"
            ],
            [
             0.9,
             "#4d9221"
            ],
            [
             1,
             "#276419"
            ]
           ],
           "sequential": [
            [
             0,
             "#0d0887"
            ],
            [
             0.1111111111111111,
             "#46039f"
            ],
            [
             0.2222222222222222,
             "#7201a8"
            ],
            [
             0.3333333333333333,
             "#9c179e"
            ],
            [
             0.4444444444444444,
             "#bd3786"
            ],
            [
             0.5555555555555556,
             "#d8576b"
            ],
            [
             0.6666666666666666,
             "#ed7953"
            ],
            [
             0.7777777777777778,
             "#fb9f3a"
            ],
            [
             0.8888888888888888,
             "#fdca26"
            ],
            [
             1,
             "#f0f921"
            ]
           ],
           "sequentialminus": [
            [
             0,
             "#0d0887"
            ],
            [
             0.1111111111111111,
             "#46039f"
            ],
            [
             0.2222222222222222,
             "#7201a8"
            ],
            [
             0.3333333333333333,
             "#9c179e"
            ],
            [
             0.4444444444444444,
             "#bd3786"
            ],
            [
             0.5555555555555556,
             "#d8576b"
            ],
            [
             0.6666666666666666,
             "#ed7953"
            ],
            [
             0.7777777777777778,
             "#fb9f3a"
            ],
            [
             0.8888888888888888,
             "#fdca26"
            ],
            [
             1,
             "#f0f921"
            ]
           ]
          },
          "colorway": [
           "#636efa",
           "#EF553B",
           "#00cc96",
           "#ab63fa",
           "#FFA15A",
           "#19d3f3",
           "#FF6692",
           "#B6E880",
           "#FF97FF",
           "#FECB52"
          ],
          "font": {
           "color": "#2a3f5f"
          },
          "geo": {
           "bgcolor": "white",
           "lakecolor": "white",
           "landcolor": "#E5ECF6",
           "showlakes": true,
           "showland": true,
           "subunitcolor": "white"
          },
          "hoverlabel": {
           "align": "left"
          },
          "hovermode": "closest",
          "mapbox": {
           "style": "light"
          },
          "paper_bgcolor": "white",
          "plot_bgcolor": "#E5ECF6",
          "polar": {
           "angularaxis": {
            "gridcolor": "white",
            "linecolor": "white",
            "ticks": ""
           },
           "bgcolor": "#E5ECF6",
           "radialaxis": {
            "gridcolor": "white",
            "linecolor": "white",
            "ticks": ""
           }
          },
          "scene": {
           "xaxis": {
            "backgroundcolor": "#E5ECF6",
            "gridcolor": "white",
            "gridwidth": 2,
            "linecolor": "white",
            "showbackground": true,
            "ticks": "",
            "zerolinecolor": "white"
           },
           "yaxis": {
            "backgroundcolor": "#E5ECF6",
            "gridcolor": "white",
            "gridwidth": 2,
            "linecolor": "white",
            "showbackground": true,
            "ticks": "",
            "zerolinecolor": "white"
           },
           "zaxis": {
            "backgroundcolor": "#E5ECF6",
            "gridcolor": "white",
            "gridwidth": 2,
            "linecolor": "white",
            "showbackground": true,
            "ticks": "",
            "zerolinecolor": "white"
           }
          },
          "shapedefaults": {
           "line": {
            "color": "#2a3f5f"
           }
          },
          "ternary": {
           "aaxis": {
            "gridcolor": "white",
            "linecolor": "white",
            "ticks": ""
           },
           "baxis": {
            "gridcolor": "white",
            "linecolor": "white",
            "ticks": ""
           },
           "bgcolor": "#E5ECF6",
           "caxis": {
            "gridcolor": "white",
            "linecolor": "white",
            "ticks": ""
           }
          },
          "title": {
           "x": 0.05
          },
          "xaxis": {
           "automargin": true,
           "gridcolor": "white",
           "linecolor": "white",
           "ticks": "",
           "title": {
            "standoff": 15
           },
           "zerolinecolor": "white",
           "zerolinewidth": 2
          },
          "yaxis": {
           "automargin": true,
           "gridcolor": "white",
           "linecolor": "white",
           "ticks": "",
           "title": {
            "standoff": 15
           },
           "zerolinecolor": "white",
           "zerolinewidth": 2
          }
         }
        },
        "title": {
         "text": "Male vs. Female Weekly Earnings by Occupation (Weighted)"
        },
        "xaxis": {
         "anchor": "y",
         "domain": [
          0,
          1
         ],
         "title": {
          "text": "Earnings"
         }
        },
        "yaxis": {
         "anchor": "x",
         "categoryorder": "total ascending",
         "domain": [
          0,
          1
         ],
         "title": {
          "text": "Occupation"
         }
        }
       }
      }
     },
     "metadata": {},
     "output_type": "display_data"
    }
   ],
   "source": [
    "df_compare = weighted_means[['Male', 'Female']].reset_index()\n",
    "\n",
    "fig2 = px.bar(\n",
    "    df_compare.melt(id_vars='Occupation', value_vars=['Male', 'Female'], var_name='Gender', value_name='Earnings'),\n",
    "    x='Earnings',\n",
    "    y='Occupation',\n",
    "    color='Gender',\n",
    "    barmode='group',\n",
    "    title='Male vs. Female Weekly Earnings by Occupation (Weighted)'\n",
    ")\n",
    "\n",
    "fig2.update_layout(yaxis={'categoryorder': 'total ascending'})\n",
    "fig2.show()\n"
   ]
  },
  {
   "cell_type": "code",
   "execution_count": 47,
   "metadata": {},
   "outputs": [
    {
     "data": {
      "text/html": [
       "    <style>\n",
       "        .bk-notebook-logo {\n",
       "            display: block;\n",
       "            width: 20px;\n",
       "            height: 20px;\n",
       "            background-image: url(data:image/png;base64,iVBORw0KGgoAAAANSUhEUgAAABQAAAAUCAYAAACNiR0NAAAABHNCSVQICAgIfAhkiAAAAAlwSFlzAAALEgAACxIB0t1+/AAAABx0RVh0U29mdHdhcmUAQWRvYmUgRmlyZXdvcmtzIENTNui8sowAAAOkSURBVDiNjZRtaJVlGMd/1/08zzln5zjP1LWcU9N0NkN8m2CYjpgQYQXqSs0I84OLIC0hkEKoPtiH3gmKoiJDU7QpLgoLjLIQCpEsNJ1vqUOdO7ppbuec5+V+rj4ctwzd8IIbbi6u+8f1539dt3A78eXC7QizUF7gyV1fD1Yqg4JWz84yffhm0qkFqBogB9rM8tZdtwVsPUhWhGcFJngGeWrPzHm5oaMmkfEg1usvLFyc8jLRqDOMru7AyC8saQr7GG7f5fvDeH7Ej8CM66nIF+8yngt6HWaKh7k49Soy9nXurCi1o3qUbS3zWfrYeQDTB/Qj6kX6Ybhw4B+bOYoLKCC9H3Nu/leUTZ1JdRWkkn2ldcCamzrcf47KKXdAJllSlxAOkRgyHsGC/zRday5Qld9DyoM4/q/rUoy/CXh3jzOu3bHUVZeU+DEn8FInkPBFlu3+nW3Nw0mk6vCDiWg8CeJaxEwuHS3+z5RgY+YBR6V1Z1nxSOfoaPa4LASWxxdNp+VWTk7+4vzaou8v8PN+xo+KY2xsw6une2frhw05CTYOmQvsEhjhWjn0bmXPjpE1+kplmmkP3suftwTubK9Vq22qKmrBhpY4jvd5afdRA3wGjFAgcnTK2s4hY0/GPNIb0nErGMCRxWOOX64Z8RAC4oCXdklmEvcL8o0BfkNK4lUg9HTl+oPlQxdNo3Mg4Nv175e/1LDGzZen30MEjRUtmXSfiTVu1kK8W4txyV6BMKlbgk3lMwYCiusNy9fVfvvwMxv8Ynl6vxoByANLTWplvuj/nF9m2+PDtt1eiHPBr1oIfhCChQMBw6Aw0UulqTKZdfVvfG7VcfIqLG9bcldL/+pdWTLxLUy8Qq38heUIjh4XlzZxzQm19lLFlr8vdQ97rjZVOLf8nclzckbcD4wxXMidpX30sFd37Fv/GtwwhzhxGVAprjbg0gCAEeIgwCZyTV2Z1REEW8O4py0wsjeloKoMr6iCY6dP92H6Vw/oTyICIthibxjm/DfN9lVz8IqtqKYLUXfoKVMVQVVJOElGjrnnUt9T9wbgp8AyYKaGlqingHZU/uG2NTZSVqwHQTWkx9hxjkpWDaCg6Ckj5qebgBVbT3V3NNXMSiWSDdGV3hrtzla7J+duwPOToIg42ChPQOQjspnSlp1V+Gjdged7+8UN5CRAV7a5EdFNwCjEaBR27b3W890TE7g24NAP/mMDXRWrGoFPQI9ls/MWO2dWFAar/xcOIImbbpA3zgAAAABJRU5ErkJggg==);\n",
       "        }\n",
       "    </style>\n",
       "    <div>\n",
       "        <a href=\"https://bokeh.org\" target=\"_blank\" class=\"bk-notebook-logo\"></a>\n",
       "        <span id=\"be6ef0dd-6eb0-4186-9a70-26d6dbf6a340\">Loading BokehJS ...</span>\n",
       "    </div>\n"
      ]
     },
     "metadata": {},
     "output_type": "display_data"
    },
    {
     "data": {
      "application/javascript": "'use strict';\n(function(root) {\n  function now() {\n    return new Date();\n  }\n\n  const force = true;\n\n  if (typeof root._bokeh_onload_callbacks === \"undefined\" || force === true) {\n    root._bokeh_onload_callbacks = [];\n    root._bokeh_is_loading = undefined;\n  }\n\nconst JS_MIME_TYPE = 'application/javascript';\n  const HTML_MIME_TYPE = 'text/html';\n  const EXEC_MIME_TYPE = 'application/vnd.bokehjs_exec.v0+json';\n  const CLASS_NAME = 'output_bokeh rendered_html';\n\n  /**\n   * Render data to the DOM node\n   */\n  function render(props, node) {\n    const script = document.createElement(\"script\");\n    node.appendChild(script);\n  }\n\n  /**\n   * Handle when an output is cleared or removed\n   */\n  function handleClearOutput(event, handle) {\n    function drop(id) {\n      const view = Bokeh.index.get_by_id(id)\n      if (view != null) {\n        view.model.document.clear()\n        Bokeh.index.delete(view)\n      }\n    }\n\n    const cell = handle.cell;\n\n    const id = cell.output_area._bokeh_element_id;\n    const server_id = cell.output_area._bokeh_server_id;\n\n    // Clean up Bokeh references\n    if (id != null) {\n      drop(id)\n    }\n\n    if (server_id !== undefined) {\n      // Clean up Bokeh references\n      const cmd_clean = \"from bokeh.io.state import curstate; print(curstate().uuid_to_server['\" + server_id + \"'].get_sessions()[0].document.roots[0]._id)\";\n      cell.notebook.kernel.execute(cmd_clean, {\n        iopub: {\n          output: function(msg) {\n            const id = msg.content.text.trim()\n            drop(id)\n          }\n        }\n      });\n      // Destroy server and session\n      const cmd_destroy = \"import bokeh.io.notebook as ion; ion.destroy_server('\" + server_id + \"')\";\n      cell.notebook.kernel.execute(cmd_destroy);\n    }\n  }\n\n  /**\n   * Handle when a new output is added\n   */\n  function handleAddOutput(event, handle) {\n    const output_area = handle.output_area;\n    const output = handle.output;\n\n    // limit handleAddOutput to display_data with EXEC_MIME_TYPE content only\n    if ((output.output_type != \"display_data\") || (!Object.prototype.hasOwnProperty.call(output.data, EXEC_MIME_TYPE))) {\n      return\n    }\n\n    const toinsert = output_area.element.find(\".\" + CLASS_NAME.split(' ')[0]);\n\n    if (output.metadata[EXEC_MIME_TYPE][\"id\"] !== undefined) {\n      toinsert[toinsert.length - 1].firstChild.textContent = output.data[JS_MIME_TYPE];\n      // store reference to embed id on output_area\n      output_area._bokeh_element_id = output.metadata[EXEC_MIME_TYPE][\"id\"];\n    }\n    if (output.metadata[EXEC_MIME_TYPE][\"server_id\"] !== undefined) {\n      const bk_div = document.createElement(\"div\");\n      bk_div.innerHTML = output.data[HTML_MIME_TYPE];\n      const script_attrs = bk_div.children[0].attributes;\n      for (let i = 0; i < script_attrs.length; i++) {\n        toinsert[toinsert.length - 1].firstChild.setAttribute(script_attrs[i].name, script_attrs[i].value);\n        toinsert[toinsert.length - 1].firstChild.textContent = bk_div.children[0].textContent\n      }\n      // store reference to server id on output_area\n      output_area._bokeh_server_id = output.metadata[EXEC_MIME_TYPE][\"server_id\"];\n    }\n  }\n\n  function register_renderer(events, OutputArea) {\n\n    function append_mime(data, metadata, element) {\n      // create a DOM node to render to\n      const toinsert = this.create_output_subarea(\n        metadata,\n        CLASS_NAME,\n        EXEC_MIME_TYPE\n      );\n      this.keyboard_manager.register_events(toinsert);\n      // Render to node\n      const props = {data: data, metadata: metadata[EXEC_MIME_TYPE]};\n      render(props, toinsert[toinsert.length - 1]);\n      element.append(toinsert);\n      return toinsert\n    }\n\n    /* Handle when an output is cleared or removed */\n    events.on('clear_output.CodeCell', handleClearOutput);\n    events.on('delete.Cell', handleClearOutput);\n\n    /* Handle when a new output is added */\n    events.on('output_added.OutputArea', handleAddOutput);\n\n    /**\n     * Register the mime type and append_mime function with output_area\n     */\n    OutputArea.prototype.register_mime_type(EXEC_MIME_TYPE, append_mime, {\n      /* Is output safe? */\n      safe: true,\n      /* Index of renderer in `output_area.display_order` */\n      index: 0\n    });\n  }\n\n  // register the mime type if in Jupyter Notebook environment and previously unregistered\n  if (root.Jupyter !== undefined) {\n    const events = require('base/js/events');\n    const OutputArea = require('notebook/js/outputarea').OutputArea;\n\n    if (OutputArea.prototype.mime_types().indexOf(EXEC_MIME_TYPE) == -1) {\n      register_renderer(events, OutputArea);\n    }\n  }\n  if (typeof (root._bokeh_timeout) === \"undefined\" || force === true) {\n    root._bokeh_timeout = Date.now() + 5000;\n    root._bokeh_failed_load = false;\n  }\n\n  const NB_LOAD_WARNING = {'data': {'text/html':\n     \"<div style='background-color: #fdd'>\\n\"+\n     \"<p>\\n\"+\n     \"BokehJS does not appear to have successfully loaded. If loading BokehJS from CDN, this \\n\"+\n     \"may be due to a slow or bad network connection. Possible fixes:\\n\"+\n     \"</p>\\n\"+\n     \"<ul>\\n\"+\n     \"<li>re-rerun `output_notebook()` to attempt to load from CDN again, or</li>\\n\"+\n     \"<li>use INLINE resources instead, as so:</li>\\n\"+\n     \"</ul>\\n\"+\n     \"<code>\\n\"+\n     \"from bokeh.resources import INLINE\\n\"+\n     \"output_notebook(resources=INLINE)\\n\"+\n     \"</code>\\n\"+\n     \"</div>\"}};\n\n  function display_loaded(error = null) {\n    const el = document.getElementById(\"be6ef0dd-6eb0-4186-9a70-26d6dbf6a340\");\n    if (el != null) {\n      const html = (() => {\n        if (typeof root.Bokeh === \"undefined\") {\n          if (error == null) {\n            return \"BokehJS is loading ...\";\n          } else {\n            return \"BokehJS failed to load.\";\n          }\n        } else {\n          const prefix = `BokehJS ${root.Bokeh.version}`;\n          if (error == null) {\n            return `${prefix} successfully loaded.`;\n          } else {\n            return `${prefix} <b>encountered errors</b> while loading and may not function as expected.`;\n          }\n        }\n      })();\n      el.innerHTML = html;\n\n      if (error != null) {\n        const wrapper = document.createElement(\"div\");\n        wrapper.style.overflow = \"auto\";\n        wrapper.style.height = \"5em\";\n        wrapper.style.resize = \"vertical\";\n        const content = document.createElement(\"div\");\n        content.style.fontFamily = \"monospace\";\n        content.style.whiteSpace = \"pre-wrap\";\n        content.style.backgroundColor = \"rgb(255, 221, 221)\";\n        content.textContent = error.stack ?? error.toString();\n        wrapper.append(content);\n        el.append(wrapper);\n      }\n    } else if (Date.now() < root._bokeh_timeout) {\n      setTimeout(() => display_loaded(error), 100);\n    }\n  }\n\n  function run_callbacks() {\n    try {\n      root._bokeh_onload_callbacks.forEach(function(callback) {\n        if (callback != null)\n          callback();\n      });\n    } finally {\n      delete root._bokeh_onload_callbacks\n    }\n    console.debug(\"Bokeh: all callbacks have finished\");\n  }\n\n  function load_libs(css_urls, js_urls, callback) {\n    if (css_urls == null) css_urls = [];\n    if (js_urls == null) js_urls = [];\n\n    root._bokeh_onload_callbacks.push(callback);\n    if (root._bokeh_is_loading > 0) {\n      console.debug(\"Bokeh: BokehJS is being loaded, scheduling callback at\", now());\n      return null;\n    }\n    if (js_urls == null || js_urls.length === 0) {\n      run_callbacks();\n      return null;\n    }\n    console.debug(\"Bokeh: BokehJS not loaded, scheduling load and callback at\", now());\n    root._bokeh_is_loading = css_urls.length + js_urls.length;\n\n    function on_load() {\n      root._bokeh_is_loading--;\n      if (root._bokeh_is_loading === 0) {\n        console.debug(\"Bokeh: all BokehJS libraries/stylesheets loaded\");\n        run_callbacks()\n      }\n    }\n\n    function on_error(url) {\n      console.error(\"failed to load \" + url);\n    }\n\n    for (let i = 0; i < css_urls.length; i++) {\n      const url = css_urls[i];\n      const element = document.createElement(\"link\");\n      element.onload = on_load;\n      element.onerror = on_error.bind(null, url);\n      element.rel = \"stylesheet\";\n      element.type = \"text/css\";\n      element.href = url;\n      console.debug(\"Bokeh: injecting link tag for BokehJS stylesheet: \", url);\n      document.body.appendChild(element);\n    }\n\n    for (let i = 0; i < js_urls.length; i++) {\n      const url = js_urls[i];\n      const element = document.createElement('script');\n      element.onload = on_load;\n      element.onerror = on_error.bind(null, url);\n      element.async = false;\n      element.src = url;\n      console.debug(\"Bokeh: injecting script tag for BokehJS library: \", url);\n      document.head.appendChild(element);\n    }\n  };\n\n  function inject_raw_css(css) {\n    const element = document.createElement(\"style\");\n    element.appendChild(document.createTextNode(css));\n    document.body.appendChild(element);\n  }\n\n  const js_urls = [\"https://cdn.bokeh.org/bokeh/release/bokeh-3.6.2.min.js\", \"https://cdn.bokeh.org/bokeh/release/bokeh-gl-3.6.2.min.js\", \"https://cdn.bokeh.org/bokeh/release/bokeh-widgets-3.6.2.min.js\", \"https://cdn.bokeh.org/bokeh/release/bokeh-tables-3.6.2.min.js\", \"https://cdn.bokeh.org/bokeh/release/bokeh-mathjax-3.6.2.min.js\"];\n  const css_urls = [];\n\n  const inline_js = [    function(Bokeh) {\n      Bokeh.set_log_level(\"info\");\n    },\nfunction(Bokeh) {\n    }\n  ];\n\n  function run_inline_js() {\n    if (root.Bokeh !== undefined || force === true) {\n      try {\n            for (let i = 0; i < inline_js.length; i++) {\n      inline_js[i].call(root, root.Bokeh);\n    }\n\n      } catch (error) {display_loaded(error);throw error;\n      }if (force === true) {\n        display_loaded();\n      }} else if (Date.now() < root._bokeh_timeout) {\n      setTimeout(run_inline_js, 100);\n    } else if (!root._bokeh_failed_load) {\n      console.log(\"Bokeh: BokehJS failed to load within specified timeout.\");\n      root._bokeh_failed_load = true;\n    } else if (force !== true) {\n      const cell = $(document.getElementById(\"be6ef0dd-6eb0-4186-9a70-26d6dbf6a340\")).parents('.cell').data().cell;\n      cell.output_area.append_execute_result(NB_LOAD_WARNING)\n    }\n  }\n\n  if (root._bokeh_is_loading === 0) {\n    console.debug(\"Bokeh: BokehJS loaded, going straight to plotting\");\n    run_inline_js();\n  } else {\n    load_libs(css_urls, js_urls, function() {\n      console.debug(\"Bokeh: BokehJS plotting callback run at\", now());\n      run_inline_js();\n    });\n  }\n}(window));",
      "application/vnd.bokehjs_load.v0+json": ""
     },
     "metadata": {},
     "output_type": "display_data"
    },
    {
     "data": {
      "text/html": [
       "\n",
       "  <div id=\"e2acbc59-12f5-408a-a60e-ebb671f9f195\" data-root-id=\"p1001\" style=\"display: contents;\"></div>\n"
      ]
     },
     "metadata": {},
     "output_type": "display_data"
    },
    {
     "data": {
      "application/javascript": "(function(root) {\n  function embed_document(root) {\n  const docs_json = {\"a8372af0-47f9-46db-96d1-f0591e71b954\":{\"version\":\"3.6.2\",\"title\":\"Bokeh Application\",\"roots\":[{\"type\":\"object\",\"name\":\"Figure\",\"id\":\"p1001\",\"attributes\":{\"x_range\":{\"type\":\"object\",\"name\":\"DataRange1d\",\"id\":\"p1002\"},\"y_range\":{\"type\":\"object\",\"name\":\"DataRange1d\",\"id\":\"p1003\"},\"x_scale\":{\"type\":\"object\",\"name\":\"LinearScale\",\"id\":\"p1011\"},\"y_scale\":{\"type\":\"object\",\"name\":\"LinearScale\",\"id\":\"p1012\"},\"title\":{\"type\":\"object\",\"name\":\"Title\",\"id\":\"p1004\",\"attributes\":{\"text\":\"Test Bokeh Plot\"}},\"renderers\":[{\"type\":\"object\",\"name\":\"GlyphRenderer\",\"id\":\"p1042\",\"attributes\":{\"data_source\":{\"type\":\"object\",\"name\":\"ColumnDataSource\",\"id\":\"p1036\",\"attributes\":{\"selected\":{\"type\":\"object\",\"name\":\"Selection\",\"id\":\"p1037\",\"attributes\":{\"indices\":[],\"line_indices\":[]}},\"selection_policy\":{\"type\":\"object\",\"name\":\"UnionRenderers\",\"id\":\"p1038\"},\"data\":{\"type\":\"map\",\"entries\":[[\"x\",[1,2,3]],[\"y\",[4,6,2]]]}}},\"view\":{\"type\":\"object\",\"name\":\"CDSView\",\"id\":\"p1043\",\"attributes\":{\"filter\":{\"type\":\"object\",\"name\":\"AllIndices\",\"id\":\"p1044\"}}},\"glyph\":{\"type\":\"object\",\"name\":\"Line\",\"id\":\"p1039\",\"attributes\":{\"x\":{\"type\":\"field\",\"field\":\"x\"},\"y\":{\"type\":\"field\",\"field\":\"y\"},\"line_color\":\"#1f77b4\"}},\"nonselection_glyph\":{\"type\":\"object\",\"name\":\"Line\",\"id\":\"p1040\",\"attributes\":{\"x\":{\"type\":\"field\",\"field\":\"x\"},\"y\":{\"type\":\"field\",\"field\":\"y\"},\"line_color\":\"#1f77b4\",\"line_alpha\":0.1}},\"muted_glyph\":{\"type\":\"object\",\"name\":\"Line\",\"id\":\"p1041\",\"attributes\":{\"x\":{\"type\":\"field\",\"field\":\"x\"},\"y\":{\"type\":\"field\",\"field\":\"y\"},\"line_color\":\"#1f77b4\",\"line_alpha\":0.2}}}}],\"toolbar\":{\"type\":\"object\",\"name\":\"Toolbar\",\"id\":\"p1010\",\"attributes\":{\"tools\":[{\"type\":\"object\",\"name\":\"PanTool\",\"id\":\"p1023\"},{\"type\":\"object\",\"name\":\"WheelZoomTool\",\"id\":\"p1024\",\"attributes\":{\"renderers\":\"auto\"}},{\"type\":\"object\",\"name\":\"BoxZoomTool\",\"id\":\"p1025\",\"attributes\":{\"overlay\":{\"type\":\"object\",\"name\":\"BoxAnnotation\",\"id\":\"p1026\",\"attributes\":{\"syncable\":false,\"line_color\":\"black\",\"line_alpha\":1.0,\"line_width\":2,\"line_dash\":[4,4],\"fill_color\":\"lightgrey\",\"fill_alpha\":0.5,\"level\":\"overlay\",\"visible\":false,\"left\":{\"type\":\"number\",\"value\":\"nan\"},\"right\":{\"type\":\"number\",\"value\":\"nan\"},\"top\":{\"type\":\"number\",\"value\":\"nan\"},\"bottom\":{\"type\":\"number\",\"value\":\"nan\"},\"left_units\":\"canvas\",\"right_units\":\"canvas\",\"top_units\":\"canvas\",\"bottom_units\":\"canvas\",\"handles\":{\"type\":\"object\",\"name\":\"BoxInteractionHandles\",\"id\":\"p1032\",\"attributes\":{\"all\":{\"type\":\"object\",\"name\":\"AreaVisuals\",\"id\":\"p1031\",\"attributes\":{\"fill_color\":\"white\",\"hover_fill_color\":\"lightgray\"}}}}}}}},{\"type\":\"object\",\"name\":\"SaveTool\",\"id\":\"p1033\"},{\"type\":\"object\",\"name\":\"ResetTool\",\"id\":\"p1034\"},{\"type\":\"object\",\"name\":\"HelpTool\",\"id\":\"p1035\"}]}},\"left\":[{\"type\":\"object\",\"name\":\"LinearAxis\",\"id\":\"p1018\",\"attributes\":{\"ticker\":{\"type\":\"object\",\"name\":\"BasicTicker\",\"id\":\"p1019\",\"attributes\":{\"mantissas\":[1,2,5]}},\"formatter\":{\"type\":\"object\",\"name\":\"BasicTickFormatter\",\"id\":\"p1020\"},\"major_label_policy\":{\"type\":\"object\",\"name\":\"AllLabels\",\"id\":\"p1021\"}}}],\"below\":[{\"type\":\"object\",\"name\":\"LinearAxis\",\"id\":\"p1013\",\"attributes\":{\"ticker\":{\"type\":\"object\",\"name\":\"BasicTicker\",\"id\":\"p1014\",\"attributes\":{\"mantissas\":[1,2,5]}},\"formatter\":{\"type\":\"object\",\"name\":\"BasicTickFormatter\",\"id\":\"p1015\"},\"major_label_policy\":{\"type\":\"object\",\"name\":\"AllLabels\",\"id\":\"p1016\"}}}],\"center\":[{\"type\":\"object\",\"name\":\"Grid\",\"id\":\"p1017\",\"attributes\":{\"axis\":{\"id\":\"p1013\"}}},{\"type\":\"object\",\"name\":\"Grid\",\"id\":\"p1022\",\"attributes\":{\"dimension\":1,\"axis\":{\"id\":\"p1018\"}}}]}}]}};\n  const render_items = [{\"docid\":\"a8372af0-47f9-46db-96d1-f0591e71b954\",\"roots\":{\"p1001\":\"e2acbc59-12f5-408a-a60e-ebb671f9f195\"},\"root_ids\":[\"p1001\"]}];\n  void root.Bokeh.embed.embed_items_notebook(docs_json, render_items);\n  }\n  if (root.Bokeh !== undefined) {\n    embed_document(root);\n  } else {\n    let attempts = 0;\n    const timer = setInterval(function(root) {\n      if (root.Bokeh !== undefined) {\n        clearInterval(timer);\n        embed_document(root);\n      } else {\n        attempts++;\n        if (attempts > 100) {\n          clearInterval(timer);\n          console.log(\"Bokeh: ERROR: Unable to run BokehJS code because BokehJS library is missing\");\n        }\n      }\n    }, 10, root)\n  }\n})(window);",
      "application/vnd.bokehjs_exec.v0+json": ""
     },
     "metadata": {
      "application/vnd.bokehjs_exec.v0+json": {
       "id": "p1001"
      }
     },
     "output_type": "display_data"
    }
   ],
   "source": [
    "from bokeh.io import output_notebook, show\n",
    "from bokeh.plotting import figure\n",
    "\n",
    "output_notebook()\n",
    "\n",
    "# Simple test plot\n",
    "p = figure(title=\"Test Bokeh Plot\")\n",
    "p.line(x=[1, 2, 3], y=[4, 6, 2])\n",
    "show(p)\n"
   ]
  },
  {
   "cell_type": "code",
   "execution_count": 51,
   "metadata": {},
   "outputs": [
    {
     "data": {
      "text/html": [
       "    <style>\n",
       "        .bk-notebook-logo {\n",
       "            display: block;\n",
       "            width: 20px;\n",
       "            height: 20px;\n",
       "            background-image: url(data:image/png;base64,iVBORw0KGgoAAAANSUhEUgAAABQAAAAUCAYAAACNiR0NAAAABHNCSVQICAgIfAhkiAAAAAlwSFlzAAALEgAACxIB0t1+/AAAABx0RVh0U29mdHdhcmUAQWRvYmUgRmlyZXdvcmtzIENTNui8sowAAAOkSURBVDiNjZRtaJVlGMd/1/08zzln5zjP1LWcU9N0NkN8m2CYjpgQYQXqSs0I84OLIC0hkEKoPtiH3gmKoiJDU7QpLgoLjLIQCpEsNJ1vqUOdO7ppbuec5+V+rj4ctwzd8IIbbi6u+8f1539dt3A78eXC7QizUF7gyV1fD1Yqg4JWz84yffhm0qkFqBogB9rM8tZdtwVsPUhWhGcFJngGeWrPzHm5oaMmkfEg1usvLFyc8jLRqDOMru7AyC8saQr7GG7f5fvDeH7Ej8CM66nIF+8yngt6HWaKh7k49Soy9nXurCi1o3qUbS3zWfrYeQDTB/Qj6kX6Ybhw4B+bOYoLKCC9H3Nu/leUTZ1JdRWkkn2ldcCamzrcf47KKXdAJllSlxAOkRgyHsGC/zRday5Qld9DyoM4/q/rUoy/CXh3jzOu3bHUVZeU+DEn8FInkPBFlu3+nW3Nw0mk6vCDiWg8CeJaxEwuHS3+z5RgY+YBR6V1Z1nxSOfoaPa4LASWxxdNp+VWTk7+4vzaou8v8PN+xo+KY2xsw6une2frhw05CTYOmQvsEhjhWjn0bmXPjpE1+kplmmkP3suftwTubK9Vq22qKmrBhpY4jvd5afdRA3wGjFAgcnTK2s4hY0/GPNIb0nErGMCRxWOOX64Z8RAC4oCXdklmEvcL8o0BfkNK4lUg9HTl+oPlQxdNo3Mg4Nv175e/1LDGzZen30MEjRUtmXSfiTVu1kK8W4txyV6BMKlbgk3lMwYCiusNy9fVfvvwMxv8Ynl6vxoByANLTWplvuj/nF9m2+PDtt1eiHPBr1oIfhCChQMBw6Aw0UulqTKZdfVvfG7VcfIqLG9bcldL/+pdWTLxLUy8Qq38heUIjh4XlzZxzQm19lLFlr8vdQ97rjZVOLf8nclzckbcD4wxXMidpX30sFd37Fv/GtwwhzhxGVAprjbg0gCAEeIgwCZyTV2Z1REEW8O4py0wsjeloKoMr6iCY6dP92H6Vw/oTyICIthibxjm/DfN9lVz8IqtqKYLUXfoKVMVQVVJOElGjrnnUt9T9wbgp8AyYKaGlqingHZU/uG2NTZSVqwHQTWkx9hxjkpWDaCg6Ckj5qebgBVbT3V3NNXMSiWSDdGV3hrtzla7J+duwPOToIg42ChPQOQjspnSlp1V+Gjdged7+8UN5CRAV7a5EdFNwCjEaBR27b3W890TE7g24NAP/mMDXRWrGoFPQI9ls/MWO2dWFAar/xcOIImbbpA3zgAAAABJRU5ErkJggg==);\n",
       "        }\n",
       "    </style>\n",
       "    <div>\n",
       "        <a href=\"https://bokeh.org\" target=\"_blank\" class=\"bk-notebook-logo\"></a>\n",
       "        <span id=\"ddf9ff72-03e3-48c1-9ee6-bb2b84f8998f\">Loading BokehJS ...</span>\n",
       "    </div>\n"
      ]
     },
     "metadata": {},
     "output_type": "display_data"
    },
    {
     "data": {
      "application/javascript": "'use strict';\n(function(root) {\n  function now() {\n    return new Date();\n  }\n\n  const force = true;\n\n  if (typeof root._bokeh_onload_callbacks === \"undefined\" || force === true) {\n    root._bokeh_onload_callbacks = [];\n    root._bokeh_is_loading = undefined;\n  }\n\nconst JS_MIME_TYPE = 'application/javascript';\n  const HTML_MIME_TYPE = 'text/html';\n  const EXEC_MIME_TYPE = 'application/vnd.bokehjs_exec.v0+json';\n  const CLASS_NAME = 'output_bokeh rendered_html';\n\n  /**\n   * Render data to the DOM node\n   */\n  function render(props, node) {\n    const script = document.createElement(\"script\");\n    node.appendChild(script);\n  }\n\n  /**\n   * Handle when an output is cleared or removed\n   */\n  function handleClearOutput(event, handle) {\n    function drop(id) {\n      const view = Bokeh.index.get_by_id(id)\n      if (view != null) {\n        view.model.document.clear()\n        Bokeh.index.delete(view)\n      }\n    }\n\n    const cell = handle.cell;\n\n    const id = cell.output_area._bokeh_element_id;\n    const server_id = cell.output_area._bokeh_server_id;\n\n    // Clean up Bokeh references\n    if (id != null) {\n      drop(id)\n    }\n\n    if (server_id !== undefined) {\n      // Clean up Bokeh references\n      const cmd_clean = \"from bokeh.io.state import curstate; print(curstate().uuid_to_server['\" + server_id + \"'].get_sessions()[0].document.roots[0]._id)\";\n      cell.notebook.kernel.execute(cmd_clean, {\n        iopub: {\n          output: function(msg) {\n            const id = msg.content.text.trim()\n            drop(id)\n          }\n        }\n      });\n      // Destroy server and session\n      const cmd_destroy = \"import bokeh.io.notebook as ion; ion.destroy_server('\" + server_id + \"')\";\n      cell.notebook.kernel.execute(cmd_destroy);\n    }\n  }\n\n  /**\n   * Handle when a new output is added\n   */\n  function handleAddOutput(event, handle) {\n    const output_area = handle.output_area;\n    const output = handle.output;\n\n    // limit handleAddOutput to display_data with EXEC_MIME_TYPE content only\n    if ((output.output_type != \"display_data\") || (!Object.prototype.hasOwnProperty.call(output.data, EXEC_MIME_TYPE))) {\n      return\n    }\n\n    const toinsert = output_area.element.find(\".\" + CLASS_NAME.split(' ')[0]);\n\n    if (output.metadata[EXEC_MIME_TYPE][\"id\"] !== undefined) {\n      toinsert[toinsert.length - 1].firstChild.textContent = output.data[JS_MIME_TYPE];\n      // store reference to embed id on output_area\n      output_area._bokeh_element_id = output.metadata[EXEC_MIME_TYPE][\"id\"];\n    }\n    if (output.metadata[EXEC_MIME_TYPE][\"server_id\"] !== undefined) {\n      const bk_div = document.createElement(\"div\");\n      bk_div.innerHTML = output.data[HTML_MIME_TYPE];\n      const script_attrs = bk_div.children[0].attributes;\n      for (let i = 0; i < script_attrs.length; i++) {\n        toinsert[toinsert.length - 1].firstChild.setAttribute(script_attrs[i].name, script_attrs[i].value);\n        toinsert[toinsert.length - 1].firstChild.textContent = bk_div.children[0].textContent\n      }\n      // store reference to server id on output_area\n      output_area._bokeh_server_id = output.metadata[EXEC_MIME_TYPE][\"server_id\"];\n    }\n  }\n\n  function register_renderer(events, OutputArea) {\n\n    function append_mime(data, metadata, element) {\n      // create a DOM node to render to\n      const toinsert = this.create_output_subarea(\n        metadata,\n        CLASS_NAME,\n        EXEC_MIME_TYPE\n      );\n      this.keyboard_manager.register_events(toinsert);\n      // Render to node\n      const props = {data: data, metadata: metadata[EXEC_MIME_TYPE]};\n      render(props, toinsert[toinsert.length - 1]);\n      element.append(toinsert);\n      return toinsert\n    }\n\n    /* Handle when an output is cleared or removed */\n    events.on('clear_output.CodeCell', handleClearOutput);\n    events.on('delete.Cell', handleClearOutput);\n\n    /* Handle when a new output is added */\n    events.on('output_added.OutputArea', handleAddOutput);\n\n    /**\n     * Register the mime type and append_mime function with output_area\n     */\n    OutputArea.prototype.register_mime_type(EXEC_MIME_TYPE, append_mime, {\n      /* Is output safe? */\n      safe: true,\n      /* Index of renderer in `output_area.display_order` */\n      index: 0\n    });\n  }\n\n  // register the mime type if in Jupyter Notebook environment and previously unregistered\n  if (root.Jupyter !== undefined) {\n    const events = require('base/js/events');\n    const OutputArea = require('notebook/js/outputarea').OutputArea;\n\n    if (OutputArea.prototype.mime_types().indexOf(EXEC_MIME_TYPE) == -1) {\n      register_renderer(events, OutputArea);\n    }\n  }\n  if (typeof (root._bokeh_timeout) === \"undefined\" || force === true) {\n    root._bokeh_timeout = Date.now() + 5000;\n    root._bokeh_failed_load = false;\n  }\n\n  const NB_LOAD_WARNING = {'data': {'text/html':\n     \"<div style='background-color: #fdd'>\\n\"+\n     \"<p>\\n\"+\n     \"BokehJS does not appear to have successfully loaded. If loading BokehJS from CDN, this \\n\"+\n     \"may be due to a slow or bad network connection. Possible fixes:\\n\"+\n     \"</p>\\n\"+\n     \"<ul>\\n\"+\n     \"<li>re-rerun `output_notebook()` to attempt to load from CDN again, or</li>\\n\"+\n     \"<li>use INLINE resources instead, as so:</li>\\n\"+\n     \"</ul>\\n\"+\n     \"<code>\\n\"+\n     \"from bokeh.resources import INLINE\\n\"+\n     \"output_notebook(resources=INLINE)\\n\"+\n     \"</code>\\n\"+\n     \"</div>\"}};\n\n  function display_loaded(error = null) {\n    const el = document.getElementById(\"ddf9ff72-03e3-48c1-9ee6-bb2b84f8998f\");\n    if (el != null) {\n      const html = (() => {\n        if (typeof root.Bokeh === \"undefined\") {\n          if (error == null) {\n            return \"BokehJS is loading ...\";\n          } else {\n            return \"BokehJS failed to load.\";\n          }\n        } else {\n          const prefix = `BokehJS ${root.Bokeh.version}`;\n          if (error == null) {\n            return `${prefix} successfully loaded.`;\n          } else {\n            return `${prefix} <b>encountered errors</b> while loading and may not function as expected.`;\n          }\n        }\n      })();\n      el.innerHTML = html;\n\n      if (error != null) {\n        const wrapper = document.createElement(\"div\");\n        wrapper.style.overflow = \"auto\";\n        wrapper.style.height = \"5em\";\n        wrapper.style.resize = \"vertical\";\n        const content = document.createElement(\"div\");\n        content.style.fontFamily = \"monospace\";\n        content.style.whiteSpace = \"pre-wrap\";\n        content.style.backgroundColor = \"rgb(255, 221, 221)\";\n        content.textContent = error.stack ?? error.toString();\n        wrapper.append(content);\n        el.append(wrapper);\n      }\n    } else if (Date.now() < root._bokeh_timeout) {\n      setTimeout(() => display_loaded(error), 100);\n    }\n  }\n\n  function run_callbacks() {\n    try {\n      root._bokeh_onload_callbacks.forEach(function(callback) {\n        if (callback != null)\n          callback();\n      });\n    } finally {\n      delete root._bokeh_onload_callbacks\n    }\n    console.debug(\"Bokeh: all callbacks have finished\");\n  }\n\n  function load_libs(css_urls, js_urls, callback) {\n    if (css_urls == null) css_urls = [];\n    if (js_urls == null) js_urls = [];\n\n    root._bokeh_onload_callbacks.push(callback);\n    if (root._bokeh_is_loading > 0) {\n      console.debug(\"Bokeh: BokehJS is being loaded, scheduling callback at\", now());\n      return null;\n    }\n    if (js_urls == null || js_urls.length === 0) {\n      run_callbacks();\n      return null;\n    }\n    console.debug(\"Bokeh: BokehJS not loaded, scheduling load and callback at\", now());\n    root._bokeh_is_loading = css_urls.length + js_urls.length;\n\n    function on_load() {\n      root._bokeh_is_loading--;\n      if (root._bokeh_is_loading === 0) {\n        console.debug(\"Bokeh: all BokehJS libraries/stylesheets loaded\");\n        run_callbacks()\n      }\n    }\n\n    function on_error(url) {\n      console.error(\"failed to load \" + url);\n    }\n\n    for (let i = 0; i < css_urls.length; i++) {\n      const url = css_urls[i];\n      const element = document.createElement(\"link\");\n      element.onload = on_load;\n      element.onerror = on_error.bind(null, url);\n      element.rel = \"stylesheet\";\n      element.type = \"text/css\";\n      element.href = url;\n      console.debug(\"Bokeh: injecting link tag for BokehJS stylesheet: \", url);\n      document.body.appendChild(element);\n    }\n\n    for (let i = 0; i < js_urls.length; i++) {\n      const url = js_urls[i];\n      const element = document.createElement('script');\n      element.onload = on_load;\n      element.onerror = on_error.bind(null, url);\n      element.async = false;\n      element.src = url;\n      console.debug(\"Bokeh: injecting script tag for BokehJS library: \", url);\n      document.head.appendChild(element);\n    }\n  };\n\n  function inject_raw_css(css) {\n    const element = document.createElement(\"style\");\n    element.appendChild(document.createTextNode(css));\n    document.body.appendChild(element);\n  }\n\n  const js_urls = [\"https://cdn.bokeh.org/bokeh/release/bokeh-3.6.2.min.js\", \"https://cdn.bokeh.org/bokeh/release/bokeh-gl-3.6.2.min.js\", \"https://cdn.bokeh.org/bokeh/release/bokeh-widgets-3.6.2.min.js\", \"https://cdn.bokeh.org/bokeh/release/bokeh-tables-3.6.2.min.js\", \"https://cdn.bokeh.org/bokeh/release/bokeh-mathjax-3.6.2.min.js\"];\n  const css_urls = [];\n\n  const inline_js = [    function(Bokeh) {\n      Bokeh.set_log_level(\"info\");\n    },\nfunction(Bokeh) {\n    }\n  ];\n\n  function run_inline_js() {\n    if (root.Bokeh !== undefined || force === true) {\n      try {\n            for (let i = 0; i < inline_js.length; i++) {\n      inline_js[i].call(root, root.Bokeh);\n    }\n\n      } catch (error) {display_loaded(error);throw error;\n      }if (force === true) {\n        display_loaded();\n      }} else if (Date.now() < root._bokeh_timeout) {\n      setTimeout(run_inline_js, 100);\n    } else if (!root._bokeh_failed_load) {\n      console.log(\"Bokeh: BokehJS failed to load within specified timeout.\");\n      root._bokeh_failed_load = true;\n    } else if (force !== true) {\n      const cell = $(document.getElementById(\"ddf9ff72-03e3-48c1-9ee6-bb2b84f8998f\")).parents('.cell').data().cell;\n      cell.output_area.append_execute_result(NB_LOAD_WARNING)\n    }\n  }\n\n  if (root._bokeh_is_loading === 0) {\n    console.debug(\"Bokeh: BokehJS loaded, going straight to plotting\");\n    run_inline_js();\n  } else {\n    load_libs(css_urls, js_urls, function() {\n      console.debug(\"Bokeh: BokehJS plotting callback run at\", now());\n      run_inline_js();\n    });\n  }\n}(window));",
      "application/vnd.bokehjs_load.v0+json": ""
     },
     "metadata": {},
     "output_type": "display_data"
    },
    {
     "data": {
      "text/html": [
       "\n",
       "  <div id=\"a0ecd549-3da4-4a8e-84cd-c77b4e6840d9\" data-root-id=\"p1056\" style=\"display: contents;\"></div>\n"
      ]
     },
     "metadata": {},
     "output_type": "display_data"
    },
    {
     "data": {
      "application/javascript": "(function(root) {\n  function embed_document(root) {\n  const docs_json = {\"a99f504c-b71a-4416-853d-32b03a151ba2\":{\"version\":\"3.6.2\",\"title\":\"Bokeh Application\",\"roots\":[{\"type\":\"object\",\"name\":\"Figure\",\"id\":\"p1056\",\"attributes\":{\"width\":800,\"x_range\":{\"type\":\"object\",\"name\":\"DataRange1d\",\"id\":\"p1058\"},\"y_range\":{\"type\":\"object\",\"name\":\"FactorRange\",\"id\":\"p1066\",\"attributes\":{\"factors\":[\"Legal occupations\",\"Sales and related occupations\",\"Healthcare practitioner and technical occupations\",\"Management occupations\",\"Arts, design, entertainment, sports, and media occupations\",\"Business and financial operations occupations\",\"Computer and mathematical occupations\",\"Education instruction and library occupations\",\"Community and social service occupations\",\"Protective service occupations\",\"Installation, maintenance, and repair occupations\",\"Life, physical, and social science occupations\",\"Production occupations\",\"Personal care and service occupations\",\"Construction and extraction occupations\",\"Architecture and engineering occupations\",\"Healthcare support occupations\",\"Transportation and material moving occupations\",\"Building and grounds cleaning and maintenance occupations\",\"Office and administrative support occupations\",\"Food preparation and serving related occupations\",\"Farming, fishing, and forestry occupations\"],\"range_padding\":0.1}},\"x_scale\":{\"type\":\"object\",\"name\":\"LinearScale\",\"id\":\"p1067\"},\"y_scale\":{\"type\":\"object\",\"name\":\"CategoricalScale\",\"id\":\"p1068\"},\"title\":{\"type\":\"object\",\"name\":\"Title\",\"id\":\"p1059\",\"attributes\":{\"text\":\"Gender Pay Gap by Occupation (Male - Female)\"}},\"renderers\":[{\"type\":\"object\",\"name\":\"GlyphRenderer\",\"id\":\"p1098\",\"attributes\":{\"data_source\":{\"type\":\"object\",\"name\":\"ColumnDataSource\",\"id\":\"p1052\",\"attributes\":{\"selected\":{\"type\":\"object\",\"name\":\"Selection\",\"id\":\"p1053\",\"attributes\":{\"indices\":[],\"line_indices\":[]}},\"selection_policy\":{\"type\":\"object\",\"name\":\"UnionRenderers\",\"id\":\"p1054\"},\"data\":{\"type\":\"map\",\"entries\":[[\"index\",{\"type\":\"ndarray\",\"array\":{\"type\":\"bytes\",\"data\":\"AAAAAAEAAAACAAAAAwAAAAQAAAAFAAAABgAAAAcAAAAIAAAACQAAAAoAAAALAAAADAAAAA0AAAAOAAAADwAAABAAAAARAAAAEgAAABMAAAAUAAAAFQAAAA==\"},\"shape\":[22],\"dtype\":\"int32\",\"order\":\"little\"}],[\"Occupation\",{\"type\":\"ndarray\",\"array\":[\"Legal occupations\",\"Sales and related occupations\",\"Healthcare practitioner and technical occupations\",\"Management occupations\",\"Arts, design, entertainment, sports, and media occupations\",\"Business and financial operations occupations\",\"Computer and mathematical occupations\",\"Education instruction and library occupations\",\"Community and social service occupations\",\"Protective service occupations\",\"Installation, maintenance, and repair occupations\",\"Life, physical, and social science occupations\",\"Production occupations\",\"Personal care and service occupations\",\"Construction and extraction occupations\",\"Architecture and engineering occupations\",\"Healthcare support occupations\",\"Transportation and material moving occupations\",\"Building and grounds cleaning and maintenance occupations\",\"Office and administrative support occupations\",\"Food preparation and serving related occupations\",\"Farming, fishing, and forestry occupations\"],\"shape\":[22],\"dtype\":\"object\",\"order\":\"little\"}],[\"Female\",{\"type\":\"ndarray\",\"array\":{\"type\":\"bytes\",\"data\":\"qQaT39vrnkDyJuqBY7yIQBZXS2VYRJlAQJP7J1penkCLFNUhyZKSQMeWYfI+vZtA8IFFaaOmoEAyzg8SDq+SQJ5qKWZckpRAr6/r4MEClECYPT/QAa+LQPpYzXOHq59AUELqhb63iEBw5lpO9PaBQAJuUrAHCI5AmG3C6xLcnUCVZt+L8lSIQCPRcjQM4oVAhRAZ/QOfgUATxfX026qPQJP1llRhGIBAUyOvz/mogUA=\"},\"shape\":[22],\"dtype\":\"float64\",\"order\":\"little\"}],[\"Male\",{\"type\":\"ndarray\",\"array\":{\"type\":\"bytes\",\"data\":\"dNY4OwqtrUA5Rv8TS3mYQHAFO3HrqqJAqmi8uDPTo0Blc///oIiaQJNe0tXRnaFAES2DzJdCpECIt0wRyqWZQCHW9SQhZZtAChSt+GDPmkCLIxG1bxyUQBS0rzV79KJAPRA9ZVkfkkB7WsSAY3eNQMN5Gq/8h5RAxd423diRoUDYbcjKN1+QQIRjLwAPJY5AP+VLkSTaiUCqh3dadfaRQKlqExGO74NAa4xjIQ/IhEA=\"},\"shape\":[22],\"dtype\":\"float64\",\"order\":\"little\"}],[\"Gap\",{\"type\":\"ndarray\",\"array\":{\"type\":\"bytes\",\"data\":\"P6beljhunMCAZRSmMjaIwJRnVfr8IojAKHz6khqQgsBoe6l4X9d/wHyZDOWS+X3ACFntGaPffMBYpfP879p7wAyuMfsSS3vAbJEFX3wye8D8EsYzuxN5wLg8SN679XjAVLwfiegNd8AW6NJk3gB3wAgLxVvjD3bAyD+tOnsedcA26mIT+tJwwMIkeZcFhnDAdKllKEF2cMAEKeX/OghhwLCo4+NluV7AwEijjar4WMA=\"},\"shape\":[22],\"dtype\":\"float64\",\"order\":\"little\"}]]}}},\"view\":{\"type\":\"object\",\"name\":\"CDSView\",\"id\":\"p1099\",\"attributes\":{\"filter\":{\"type\":\"object\",\"name\":\"AllIndices\",\"id\":\"p1100\"}}},\"glyph\":{\"type\":\"object\",\"name\":\"HBar\",\"id\":\"p1095\",\"attributes\":{\"y\":{\"type\":\"field\",\"field\":\"Occupation\"},\"height\":{\"type\":\"value\",\"value\":0.6},\"right\":{\"type\":\"field\",\"field\":\"Gap\"},\"line_color\":{\"type\":\"field\",\"field\":\"Gap\",\"transform\":{\"type\":\"object\",\"name\":\"LinearColorMapper\",\"id\":\"p1055\",\"attributes\":{\"palette\":[\"#053061\",\"#2166ac\",\"#4393c3\",\"#92c5de\",\"#d1e5f0\",\"#f7f7f7\",\"#fddbc7\",\"#f4a582\",\"#d6604d\",\"#b2182b\",\"#67001f\"],\"low\":-1819.5552630223244,\"high\":-99.8854097456524}}},\"fill_color\":{\"type\":\"field\",\"field\":\"Gap\",\"transform\":{\"id\":\"p1055\"}},\"hatch_color\":{\"type\":\"field\",\"field\":\"Gap\",\"transform\":{\"id\":\"p1055\"}}}},\"nonselection_glyph\":{\"type\":\"object\",\"name\":\"HBar\",\"id\":\"p1096\",\"attributes\":{\"y\":{\"type\":\"field\",\"field\":\"Occupation\"},\"height\":{\"type\":\"value\",\"value\":0.6},\"right\":{\"type\":\"field\",\"field\":\"Gap\"},\"line_color\":{\"type\":\"field\",\"field\":\"Gap\",\"transform\":{\"id\":\"p1055\"}},\"line_alpha\":{\"type\":\"value\",\"value\":0.1},\"fill_color\":{\"type\":\"field\",\"field\":\"Gap\",\"transform\":{\"id\":\"p1055\"}},\"fill_alpha\":{\"type\":\"value\",\"value\":0.1},\"hatch_color\":{\"type\":\"field\",\"field\":\"Gap\",\"transform\":{\"id\":\"p1055\"}},\"hatch_alpha\":{\"type\":\"value\",\"value\":0.1}}},\"muted_glyph\":{\"type\":\"object\",\"name\":\"HBar\",\"id\":\"p1097\",\"attributes\":{\"y\":{\"type\":\"field\",\"field\":\"Occupation\"},\"height\":{\"type\":\"value\",\"value\":0.6},\"right\":{\"type\":\"field\",\"field\":\"Gap\"},\"line_color\":{\"type\":\"field\",\"field\":\"Gap\",\"transform\":{\"id\":\"p1055\"}},\"line_alpha\":{\"type\":\"value\",\"value\":0.2},\"fill_color\":{\"type\":\"field\",\"field\":\"Gap\",\"transform\":{\"id\":\"p1055\"}},\"fill_alpha\":{\"type\":\"value\",\"value\":0.2},\"hatch_color\":{\"type\":\"field\",\"field\":\"Gap\",\"transform\":{\"id\":\"p1055\"}},\"hatch_alpha\":{\"type\":\"value\",\"value\":0.2}}}}}],\"toolbar\":{\"type\":\"object\",\"name\":\"Toolbar\",\"id\":\"p1065\",\"attributes\":{\"tools\":[{\"type\":\"object\",\"name\":\"PanTool\",\"id\":\"p1079\"},{\"type\":\"object\",\"name\":\"WheelZoomTool\",\"id\":\"p1080\",\"attributes\":{\"renderers\":\"auto\"}},{\"type\":\"object\",\"name\":\"BoxZoomTool\",\"id\":\"p1081\",\"attributes\":{\"overlay\":{\"type\":\"object\",\"name\":\"BoxAnnotation\",\"id\":\"p1082\",\"attributes\":{\"syncable\":false,\"line_color\":\"black\",\"line_alpha\":1.0,\"line_width\":2,\"line_dash\":[4,4],\"fill_color\":\"lightgrey\",\"fill_alpha\":0.5,\"level\":\"overlay\",\"visible\":false,\"left\":{\"type\":\"number\",\"value\":\"nan\"},\"right\":{\"type\":\"number\",\"value\":\"nan\"},\"top\":{\"type\":\"number\",\"value\":\"nan\"},\"bottom\":{\"type\":\"number\",\"value\":\"nan\"},\"left_units\":\"canvas\",\"right_units\":\"canvas\",\"top_units\":\"canvas\",\"bottom_units\":\"canvas\",\"handles\":{\"type\":\"object\",\"name\":\"BoxInteractionHandles\",\"id\":\"p1088\",\"attributes\":{\"all\":{\"type\":\"object\",\"name\":\"AreaVisuals\",\"id\":\"p1087\",\"attributes\":{\"fill_color\":\"white\",\"hover_fill_color\":\"lightgray\"}}}}}}}},{\"type\":\"object\",\"name\":\"SaveTool\",\"id\":\"p1089\"},{\"type\":\"object\",\"name\":\"ResetTool\",\"id\":\"p1090\"},{\"type\":\"object\",\"name\":\"HelpTool\",\"id\":\"p1091\"},{\"type\":\"object\",\"name\":\"HoverTool\",\"id\":\"p1101\",\"attributes\":{\"renderers\":\"auto\",\"tooltips\":[[\"Occupation\",\"@Occupation\"],[\"Pay Gap\",\"@Gap{$0.00}\"]]}}]}},\"toolbar_location\":null,\"left\":[{\"type\":\"object\",\"name\":\"CategoricalAxis\",\"id\":\"p1074\",\"attributes\":{\"ticker\":{\"type\":\"object\",\"name\":\"CategoricalTicker\",\"id\":\"p1075\"},\"formatter\":{\"type\":\"object\",\"name\":\"CategoricalTickFormatter\",\"id\":\"p1076\"},\"major_label_policy\":{\"type\":\"object\",\"name\":\"AllLabels\",\"id\":\"p1077\"}}}],\"below\":[{\"type\":\"object\",\"name\":\"LinearAxis\",\"id\":\"p1069\",\"attributes\":{\"ticker\":{\"type\":\"object\",\"name\":\"BasicTicker\",\"id\":\"p1070\",\"attributes\":{\"mantissas\":[1,2,5]}},\"formatter\":{\"type\":\"object\",\"name\":\"BasicTickFormatter\",\"id\":\"p1071\"},\"axis_label\":\"Pay Gap ($)\",\"major_label_policy\":{\"type\":\"object\",\"name\":\"AllLabels\",\"id\":\"p1072\"}}}],\"center\":[{\"type\":\"object\",\"name\":\"Grid\",\"id\":\"p1073\",\"attributes\":{\"axis\":{\"id\":\"p1069\"}}},{\"type\":\"object\",\"name\":\"Grid\",\"id\":\"p1078\",\"attributes\":{\"dimension\":1,\"axis\":{\"id\":\"p1074\"},\"grid_line_color\":null}}]}}]}};\n  const render_items = [{\"docid\":\"a99f504c-b71a-4416-853d-32b03a151ba2\",\"roots\":{\"p1056\":\"a0ecd549-3da4-4a8e-84cd-c77b4e6840d9\"},\"root_ids\":[\"p1056\"]}];\n  void root.Bokeh.embed.embed_items_notebook(docs_json, render_items);\n  }\n  if (root.Bokeh !== undefined) {\n    embed_document(root);\n  } else {\n    let attempts = 0;\n    const timer = setInterval(function(root) {\n      if (root.Bokeh !== undefined) {\n        clearInterval(timer);\n        embed_document(root);\n      } else {\n        attempts++;\n        if (attempts > 100) {\n          clearInterval(timer);\n          console.log(\"Bokeh: ERROR: Unable to run BokehJS code because BokehJS library is missing\");\n        }\n      }\n    }, 10, root)\n  }\n})(window);",
      "application/vnd.bokehjs_exec.v0+json": ""
     },
     "metadata": {
      "application/vnd.bokehjs_exec.v0+json": {
       "id": "p1056"
      }
     },
     "output_type": "display_data"
    }
   ],
   "source": [
    "from bokeh.io import output_notebook, show\n",
    "from bokeh.models import ColumnDataSource, HoverTool, LinearColorMapper\n",
    "from bokeh.plotting import figure\n",
    "from bokeh.layouts import column\n",
    "from bokeh.palettes import RdBu\n",
    "from bokeh.transform import linear_cmap\n",
    "\n",
    "output_notebook()\n",
    "\n",
    "# Prepare data\n",
    "gender_pay_gap = gender_pay_gap.reset_index()\n",
    "source = ColumnDataSource(gender_pay_gap)\n",
    "\n",
    "# Color mapping\n",
    "mapper = linear_cmap(\n",
    "    field_name='Gap',\n",
    "    palette=RdBu[11],\n",
    "    low=gender_pay_gap['Gap'].min(),\n",
    "    high=gender_pay_gap['Gap'].max()\n",
    ")\n",
    "\n",
    "# Updated: use 'height' and 'width' instead of 'plot_height' and 'plot_width'\n",
    "p1 = figure(\n",
    "    y_range=gender_pay_gap['Occupation'].tolist(),\n",
    "    height=600,\n",
    "    width=800,\n",
    "    title=\"Gender Pay Gap by Occupation (Male - Female)\",\n",
    "    toolbar_location=None\n",
    ")\n",
    "\n",
    "p1.hbar(\n",
    "    y='Occupation',\n",
    "    right='Gap',\n",
    "    height=0.6,\n",
    "    source=source,\n",
    "    color=mapper,\n",
    ")\n",
    "\n",
    "p1.add_tools(HoverTool(tooltips=[(\"Occupation\", \"@Occupation\"), (\"Pay Gap\", \"@Gap{$0.00}\")]))\n",
    "\n",
    "p1.y_range.range_padding = 0.1\n",
    "p1.ygrid.grid_line_color = None\n",
    "p1.xaxis.axis_label = \"Pay Gap ($)\"\n",
    "\n",
    "show(p1)\n"
   ]
  }
 ],
 "metadata": {
  "kernelspec": {
   "display_name": "dev",
   "language": "python",
   "name": "python3"
  },
  "language_info": {
   "codemirror_mode": {
    "name": "ipython",
    "version": 3
   },
   "file_extension": ".py",
   "mimetype": "text/x-python",
   "name": "python",
   "nbconvert_exporter": "python",
   "pygments_lexer": "ipython3",
   "version": "3.10.16"
  }
 },
 "nbformat": 4,
 "nbformat_minor": 2
}
